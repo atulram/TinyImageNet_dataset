{
  "nbformat": 4,
  "nbformat_minor": 0,
  "metadata": {
    "colab": {
      "name": "13_Final.ipynb",
      "version": "0.3.2",
      "provenance": [],
      "collapsed_sections": [
        "Ox_VU3INvf6l"
      ],
      "toc_visible": true
    },
    "kernelspec": {
      "name": "python3",
      "display_name": "Python 3"
    },
    "accelerator": "GPU"
  },
  "cells": [
    {
      "cell_type": "markdown",
      "metadata": {
        "id": "g6SVIEM-5Ho7",
        "colab_type": "text"
      },
      "source": [
        "# Importing packages and downloading dataset"
      ]
    },
    {
      "cell_type": "code",
      "metadata": {
        "id": "KKcspvHknhno",
        "colab_type": "code",
        "outputId": "25a7c72f-925c-4e12-b738-223959918ebe",
        "colab": {
          "base_uri": "https://localhost:8080/",
          "height": 133
        }
      },
      "source": [
        "from google.colab import drive\n",
        "drive.mount('/content/drive')"
      ],
      "execution_count": 0,
      "outputs": [
        {
          "output_type": "stream",
          "text": [
            "Go to this URL in a browser: https://accounts.google.com/o/oauth2/auth?client_id=947318989803-6bn6qk8qdgf4n4g3pfee6491hc0brc4i.apps.googleusercontent.com&redirect_uri=urn%3Aietf%3Awg%3Aoauth%3A2.0%3Aoob&scope=email%20https%3A%2F%2Fwww.googleapis.com%2Fauth%2Fdocs.test%20https%3A%2F%2Fwww.googleapis.com%2Fauth%2Fdrive%20https%3A%2F%2Fwww.googleapis.com%2Fauth%2Fdrive.photos.readonly%20https%3A%2F%2Fwww.googleapis.com%2Fauth%2Fpeopleapi.readonly&response_type=code\n",
            "\n",
            "Enter your authorization code:\n",
            "··········\n",
            "Mounted at /content/drive\n"
          ],
          "name": "stdout"
        }
      ]
    },
    {
      "cell_type": "code",
      "metadata": {
        "id": "rHl9E-JlnlT0",
        "colab_type": "code",
        "outputId": "39b2dd0c-1c10-46f8-9ade-9aec90258645",
        "colab": {
          "base_uri": "https://localhost:8080/",
          "height": 217
        }
      },
      "source": [
        "## Downloading the dataset.\n",
        "!wget http://cs231n.stanford.edu/tiny-imagenet-200.zip"
      ],
      "execution_count": 0,
      "outputs": [
        {
          "output_type": "stream",
          "text": [
            "--2019-04-11 07:13:45--  http://cs231n.stanford.edu/tiny-imagenet-200.zip\n",
            "Resolving cs231n.stanford.edu (cs231n.stanford.edu)... 171.64.68.10\n",
            "Connecting to cs231n.stanford.edu (cs231n.stanford.edu)|171.64.68.10|:80... connected.\n",
            "HTTP request sent, awaiting response... 200 OK\n",
            "Length: 248100043 (237M) [application/zip]\n",
            "Saving to: ‘tiny-imagenet-200.zip’\n",
            "\n",
            "tiny-imagenet-200.z 100%[===================>] 236.61M  3.89MB/s    in 57s     \n",
            "\n",
            "2019-04-11 07:14:42 (4.18 MB/s) - ‘tiny-imagenet-200.zip’ saved [248100043/248100043]\n",
            "\n"
          ],
          "name": "stdout"
        }
      ]
    },
    {
      "cell_type": "code",
      "metadata": {
        "id": "Jz2h7CxmyjMb",
        "colab_type": "code",
        "outputId": "143bc243-c514-4ec1-b257-cf343a9969b4",
        "colab": {
          "base_uri": "https://localhost:8080/",
          "height": 83
        }
      },
      "source": [
        "## Unzipping dataset\n",
        "!ls\n",
        "!unzip -qq 'tiny-imagenet-200.zip'\n",
        "!ls"
      ],
      "execution_count": 0,
      "outputs": [
        {
          "output_type": "stream",
          "text": [
            "drive  sample_data  tiny-imagenet-200.zip\n",
            "drive  sample_data  tiny-imagenet-200  tiny-imagenet-200.zip\n"
          ],
          "name": "stdout"
        }
      ]
    },
    {
      "cell_type": "code",
      "metadata": {
        "id": "ZYgbSmV_npbl",
        "colab_type": "code",
        "outputId": "75daf167-08ad-41ca-f1a1-41405266d4f4",
        "colab": {
          "base_uri": "https://localhost:8080/",
          "height": 137
        }
      },
      "source": [
        "## Downloading CLR package\n",
        "import sys\n",
        "! git clone --recursive https://github.com/bckenstler/CLR.git\n",
        "sys.path.insert(0, '/content/CLR')"
      ],
      "execution_count": 0,
      "outputs": [
        {
          "output_type": "stream",
          "text": [
            "Cloning into 'CLR'...\n",
            "remote: Enumerating objects: 244, done.\u001b[K\n",
            "remote: Total 244 (delta 0), reused 0 (delta 0), pack-reused 244\u001b[K\n",
            "Receiving objects: 100% (244/244), 1.37 MiB | 1.50 MiB/s, done.\n",
            "Resolving deltas: 100% (86/86), done.\n"
          ],
          "name": "stdout"
        }
      ]
    },
    {
      "cell_type": "code",
      "metadata": {
        "id": "MtLclZIEtoWh",
        "colab_type": "code",
        "colab": {}
      },
      "source": [
        "TRAINING_DIR = \"/content/tiny-imagenet-200/train/\"\n",
        "VALIDATION_DIR = \"/content/tiny-imagenet-200/val/\""
      ],
      "execution_count": 0,
      "outputs": []
    },
    {
      "cell_type": "code",
      "metadata": {
        "id": "dp2Yb2NKn_yi",
        "colab_type": "code",
        "outputId": "ddaf9849-be2d-41d8-abe1-be2ab7752df6",
        "colab": {
          "base_uri": "https://localhost:8080/",
          "height": 35
        }
      },
      "source": [
        "import matplotlib.pyplot as plt\n",
        "import matplotlib.image as mpimg\n",
        "import numpy as np\n",
        "import os\n",
        "from sklearn import preprocessing\n",
        "from keras.utils import np_utils\n",
        "import cv2 as cv\n",
        "import pandas as pd"
      ],
      "execution_count": 0,
      "outputs": [
        {
          "output_type": "stream",
          "text": [
            "Using TensorFlow backend.\n"
          ],
          "name": "stderr"
        }
      ]
    },
    {
      "cell_type": "markdown",
      "metadata": {
        "id": "OkJHN8vg5AHC",
        "colab_type": "text"
      },
      "source": [
        "#Getting X_train and Y_train"
      ]
    },
    {
      "cell_type": "code",
      "metadata": {
        "id": "Bcsa8WeCMivU",
        "colab_type": "code",
        "colab": {}
      },
      "source": [
        "##When Loading full dataset\n",
        "\n",
        "def load_training_data(training_dir, target_size=None):\n",
        "  SIZE = 64\n",
        "  images = []\n",
        "  labels_list = []\n",
        "\n",
        "  for classtype in os.listdir(training_dir):\n",
        "    img_base = training_dir+classtype+\"/images/\"\n",
        "    for img_name in os.listdir(img_base):\n",
        "      img_path = os.path.join(img_base,img_name)\n",
        "      img_data = cv.imread(img_path)\n",
        "      if target_size:\n",
        "        frac = target_size/SIZE\n",
        "        img_data = cv.resize(img_data,None,fx=frac,fy=frac)\n",
        "      images.append(img_data)\n",
        "      labels_list.append(classtype)\n",
        "      \n",
        "       \n",
        "  images = np.asarray(images)\n",
        "  labels = np.asarray(labels_list)\n",
        "  \n",
        "  print(\"Loaded training images\",images.shape)\n",
        "  print(\"Loaded training labels\",labels.shape)\n",
        "  \n",
        "  return images,labels\n"
      ],
      "execution_count": 0,
      "outputs": []
    },
    {
      "cell_type": "code",
      "metadata": {
        "id": "NvlptZoTibXQ",
        "colab_type": "code",
        "outputId": "3de6ab1a-93db-4391-a751-992e3d05fdcc",
        "colab": {
          "base_uri": "https://localhost:8080/",
          "height": 54
        }
      },
      "source": [
        "images, labels = load_training_data(TRAINING_DIR, 64)\n",
        "\n",
        "#Rondomizing the training classes\n",
        "permut = np.random.permutation(len(labels))\n",
        "training_images = images[permut]\n",
        "training_labels = labels[permut]\n",
        "\n",
        "#Encoding labels\n",
        "le = preprocessing.LabelEncoder()\n",
        "le = le.fit(training_labels)\n",
        "training_labels_encoded = le.transform(training_labels)\n",
        "nb_classes = len(le.classes_)\n",
        "\n",
        "X_train = training_images\n",
        "\n",
        "#One Hot Encoding\n",
        "pre_Y_train = training_labels_encoded\n",
        "Y_train = np_utils.to_categorical(pre_Y_train, nb_classes)\n",
        "\n"
      ],
      "execution_count": 0,
      "outputs": [
        {
          "output_type": "stream",
          "text": [
            "Loaded training images (100000, 64, 64, 3)\n",
            "Loaded training labels (100000,)\n"
          ],
          "name": "stdout"
        }
      ]
    },
    {
      "cell_type": "code",
      "metadata": {
        "id": "qWIXUkZJsgno",
        "colab_type": "code",
        "outputId": "a8728bc3-b398-47cb-fe0e-ce8051adff22",
        "colab": {
          "base_uri": "https://localhost:8080/",
          "height": 3996
        }
      },
      "source": [
        "## For checking the X_train and Y_train and their One Hot Encoding\n",
        "\n",
        "print(X_train.shape)\n",
        "print(Y_train.shape)\n",
        "print(training_labels[8178])\n",
        "plt.imshow(training_images[8178])\n",
        "print(pre_Y_train[8178])\n",
        "print(np.argmax(Y_train[8178]))\n",
        "\n",
        "\n",
        "## Getting a map of classnames and their respective encoded value\n",
        "infer_encoded = list(set(training_labels))\n",
        "infer_encoded_int = le.transform(infer_encoded)\n",
        "infer_encoded_int_list = list(infer_encoded_int)\n",
        "train_class_mapped = zip(infer_encoded,infer_encoded_int_list)\n",
        "train_class_mapped = set(train_class_mapped)\n",
        "train_class_mapped"
      ],
      "execution_count": 0,
      "outputs": [
        {
          "output_type": "stream",
          "text": [
            "(100000, 64, 64, 3)\n",
            "(100000, 200)\n",
            "n04597913\n",
            "175\n",
            "175\n"
          ],
          "name": "stdout"
        },
        {
          "output_type": "execute_result",
          "data": {
            "text/plain": [
              "{('n01443537', 0),\n",
              " ('n01629819', 1),\n",
              " ('n01641577', 2),\n",
              " ('n01644900', 3),\n",
              " ('n01698640', 4),\n",
              " ('n01742172', 5),\n",
              " ('n01768244', 6),\n",
              " ('n01770393', 7),\n",
              " ('n01774384', 8),\n",
              " ('n01774750', 9),\n",
              " ('n01784675', 10),\n",
              " ('n01855672', 11),\n",
              " ('n01882714', 12),\n",
              " ('n01910747', 13),\n",
              " ('n01917289', 14),\n",
              " ('n01944390', 15),\n",
              " ('n01945685', 16),\n",
              " ('n01950731', 17),\n",
              " ('n01983481', 18),\n",
              " ('n01984695', 19),\n",
              " ('n02002724', 20),\n",
              " ('n02056570', 21),\n",
              " ('n02058221', 22),\n",
              " ('n02074367', 23),\n",
              " ('n02085620', 24),\n",
              " ('n02094433', 25),\n",
              " ('n02099601', 26),\n",
              " ('n02099712', 27),\n",
              " ('n02106662', 28),\n",
              " ('n02113799', 29),\n",
              " ('n02123045', 30),\n",
              " ('n02123394', 31),\n",
              " ('n02124075', 32),\n",
              " ('n02125311', 33),\n",
              " ('n02129165', 34),\n",
              " ('n02132136', 35),\n",
              " ('n02165456', 36),\n",
              " ('n02190166', 37),\n",
              " ('n02206856', 38),\n",
              " ('n02226429', 39),\n",
              " ('n02231487', 40),\n",
              " ('n02233338', 41),\n",
              " ('n02236044', 42),\n",
              " ('n02268443', 43),\n",
              " ('n02279972', 44),\n",
              " ('n02281406', 45),\n",
              " ('n02321529', 46),\n",
              " ('n02364673', 47),\n",
              " ('n02395406', 48),\n",
              " ('n02403003', 49),\n",
              " ('n02410509', 50),\n",
              " ('n02415577', 51),\n",
              " ('n02423022', 52),\n",
              " ('n02437312', 53),\n",
              " ('n02480495', 54),\n",
              " ('n02481823', 55),\n",
              " ('n02486410', 56),\n",
              " ('n02504458', 57),\n",
              " ('n02509815', 58),\n",
              " ('n02666196', 59),\n",
              " ('n02669723', 60),\n",
              " ('n02699494', 61),\n",
              " ('n02730930', 62),\n",
              " ('n02769748', 63),\n",
              " ('n02788148', 64),\n",
              " ('n02791270', 65),\n",
              " ('n02793495', 66),\n",
              " ('n02795169', 67),\n",
              " ('n02802426', 68),\n",
              " ('n02808440', 69),\n",
              " ('n02814533', 70),\n",
              " ('n02814860', 71),\n",
              " ('n02815834', 72),\n",
              " ('n02823428', 73),\n",
              " ('n02837789', 74),\n",
              " ('n02841315', 75),\n",
              " ('n02843684', 76),\n",
              " ('n02883205', 77),\n",
              " ('n02892201', 78),\n",
              " ('n02906734', 79),\n",
              " ('n02909870', 80),\n",
              " ('n02917067', 81),\n",
              " ('n02927161', 82),\n",
              " ('n02948072', 83),\n",
              " ('n02950826', 84),\n",
              " ('n02963159', 85),\n",
              " ('n02977058', 86),\n",
              " ('n02988304', 87),\n",
              " ('n02999410', 88),\n",
              " ('n03014705', 89),\n",
              " ('n03026506', 90),\n",
              " ('n03042490', 91),\n",
              " ('n03085013', 92),\n",
              " ('n03089624', 93),\n",
              " ('n03100240', 94),\n",
              " ('n03126707', 95),\n",
              " ('n03160309', 96),\n",
              " ('n03179701', 97),\n",
              " ('n03201208', 98),\n",
              " ('n03250847', 99),\n",
              " ('n03255030', 100),\n",
              " ('n03355925', 101),\n",
              " ('n03388043', 102),\n",
              " ('n03393912', 103),\n",
              " ('n03400231', 104),\n",
              " ('n03404251', 105),\n",
              " ('n03424325', 106),\n",
              " ('n03444034', 107),\n",
              " ('n03447447', 108),\n",
              " ('n03544143', 109),\n",
              " ('n03584254', 110),\n",
              " ('n03599486', 111),\n",
              " ('n03617480', 112),\n",
              " ('n03637318', 113),\n",
              " ('n03649909', 114),\n",
              " ('n03662601', 115),\n",
              " ('n03670208', 116),\n",
              " ('n03706229', 117),\n",
              " ('n03733131', 118),\n",
              " ('n03763968', 119),\n",
              " ('n03770439', 120),\n",
              " ('n03796401', 121),\n",
              " ('n03804744', 122),\n",
              " ('n03814639', 123),\n",
              " ('n03837869', 124),\n",
              " ('n03838899', 125),\n",
              " ('n03854065', 126),\n",
              " ('n03891332', 127),\n",
              " ('n03902125', 128),\n",
              " ('n03930313', 129),\n",
              " ('n03937543', 130),\n",
              " ('n03970156', 131),\n",
              " ('n03976657', 132),\n",
              " ('n03977966', 133),\n",
              " ('n03980874', 134),\n",
              " ('n03983396', 135),\n",
              " ('n03992509', 136),\n",
              " ('n04008634', 137),\n",
              " ('n04023962', 138),\n",
              " ('n04067472', 139),\n",
              " ('n04070727', 140),\n",
              " ('n04074963', 141),\n",
              " ('n04099969', 142),\n",
              " ('n04118538', 143),\n",
              " ('n04133789', 144),\n",
              " ('n04146614', 145),\n",
              " ('n04149813', 146),\n",
              " ('n04179913', 147),\n",
              " ('n04251144', 148),\n",
              " ('n04254777', 149),\n",
              " ('n04259630', 150),\n",
              " ('n04265275', 151),\n",
              " ('n04275548', 152),\n",
              " ('n04285008', 153),\n",
              " ('n04311004', 154),\n",
              " ('n04328186', 155),\n",
              " ('n04356056', 156),\n",
              " ('n04366367', 157),\n",
              " ('n04371430', 158),\n",
              " ('n04376876', 159),\n",
              " ('n04398044', 160),\n",
              " ('n04399382', 161),\n",
              " ('n04417672', 162),\n",
              " ('n04456115', 163),\n",
              " ('n04465501', 164),\n",
              " ('n04486054', 165),\n",
              " ('n04487081', 166),\n",
              " ('n04501370', 167),\n",
              " ('n04507155', 168),\n",
              " ('n04532106', 169),\n",
              " ('n04532670', 170),\n",
              " ('n04540053', 171),\n",
              " ('n04560804', 172),\n",
              " ('n04562935', 173),\n",
              " ('n04596742', 174),\n",
              " ('n04597913', 175),\n",
              " ('n06596364', 176),\n",
              " ('n07579787', 177),\n",
              " ('n07583066', 178),\n",
              " ('n07614500', 179),\n",
              " ('n07615774', 180),\n",
              " ('n07695742', 181),\n",
              " ('n07711569', 182),\n",
              " ('n07715103', 183),\n",
              " ('n07720875', 184),\n",
              " ('n07734744', 185),\n",
              " ('n07747607', 186),\n",
              " ('n07749582', 187),\n",
              " ('n07753592', 188),\n",
              " ('n07768694', 189),\n",
              " ('n07871810', 190),\n",
              " ('n07873807', 191),\n",
              " ('n07875152', 192),\n",
              " ('n07920052', 193),\n",
              " ('n09193705', 194),\n",
              " ('n09246464', 195),\n",
              " ('n09256479', 196),\n",
              " ('n09332890', 197),\n",
              " ('n09428293', 198),\n",
              " ('n12267677', 199)}"
            ]
          },
          "metadata": {
            "tags": []
          },
          "execution_count": 9
        },
        {
          "output_type": "display_data",
          "data": {
            "image/png": "[encoded data removed]",
            "text/plain": [
              "<Figure size 432x288 with 1 Axes>"
            ]
          },
          "metadata": {
            "tags": []
          }
        }
      ]
    },
    {
      "cell_type": "markdown",
      "metadata": {
        "id": "Bziyd3av53zi",
        "colab_type": "text"
      },
      "source": [
        "# Getting X_test and Y_test"
      ]
    },
    {
      "cell_type": "code",
      "metadata": {
        "id": "1octEPOz7VpD",
        "colab_type": "code",
        "colab": {}
      },
      "source": [
        "def get_label(val_notations, img_name):\n",
        "  return list(val_notations[val_notations['File'] == img_name]['Class'])[0]\n",
        "\n",
        "import pandas as pd\n",
        "val_notations = pd.read_csv(VALIDATION_DIR + 'val_annotations.txt', sep='\\t', header=None, names=['File', 'Class', 'X', 'Y', 'H', 'W'])"
      ],
      "execution_count": 0,
      "outputs": []
    },
    {
      "cell_type": "code",
      "metadata": {
        "id": "VegV8pLX06ln",
        "colab_type": "code",
        "colab": {}
      },
      "source": [
        "def load_validation_data(VALIDATION_DIR,labels,val_notations, target_size=None):\n",
        "  \n",
        "  labels_set = set(labels)\n",
        "  label_dict = {}\n",
        "  for i in range(len(labels_set)):\n",
        "    label_dict[labels_set.pop()] = 0\n",
        " \n",
        "  SIZE = 64\n",
        "  CHANNEL = 3\n",
        "\n",
        "  images_val_list = []\n",
        "  labels_val_list = []\n",
        "\n",
        "  validation_counter = 0\n",
        "  for img_name in os.listdir(VALIDATION_DIR+\"images/\"):\n",
        "    img_path = os.path.join(VALIDATION_DIR+\"images/\"+img_name)\n",
        "    img_data = cv.imread(img_path)   \n",
        "    name_label = get_label(val_notations,img_name)\n",
        "    if name_label in label_dict.keys():  \n",
        "      label_dict[name_label] += 1\n",
        "      validation_counter+=1\n",
        "      if target_size:\n",
        "        frac = target_size/SIZE\n",
        "        img_data = cv.resize(img_data,None,fx=frac,fy=frac)\n",
        "      images_val_list.append(img_data)\n",
        "      labels_val_list.append(name_label)\n",
        "      if validation_counter%1000==0:\n",
        "        print(validation_counter)\n",
        "        print(label_dict)    \n",
        "      \n",
        "    \n",
        "  images_val = np.asarray(images_val_list)\n",
        "  labels_val = np.asarray(labels_val_list)\n",
        "  \n",
        "  print(validation_counter)\n",
        "  print(label_dict)\n",
        "  return images_val,labels_val\n"
      ],
      "execution_count": 0,
      "outputs": []
    },
    {
      "cell_type": "code",
      "metadata": {
        "id": "HdkhhTzv6TnC",
        "colab_type": "code",
        "outputId": "6d7a04b4-8508-4356-879b-5d91f4a9f97a",
        "colab": {
          "base_uri": "https://localhost:8080/",
          "height": 460
        }
      },
      "source": [
        "val_images, val_labels = load_validation_data(VALIDATION_DIR,labels,val_notations, 64)\n",
        "print(len(val_labels))\n",
        "\n",
        "permut = np.random.permutation(len(val_labels))\n",
        "testing_images = val_images[permut]\n",
        "testing_labels = val_labels[permut]\n",
        "\n",
        "\n",
        "#Encoding labels\n",
        "testing_labels_encoded = le.transform(testing_labels)\n",
        "nb_classes_val = len(le.classes_)\n",
        "\n",
        "X_test = testing_images\n",
        "\n",
        "#One Hot Encoding\n",
        "pre_Y_test = testing_labels_encoded\n",
        "Y_test = np_utils.to_categorical(pre_Y_test, nb_classes_val)\n"
      ],
      "execution_count": 0,
      "outputs": [
        {
          "output_type": "stream",
          "text": [
            "1000\n",
            "{'n02132136': 8, 'n03902125': 4, 'n03770439': 7, 'n03400231': 3, 'n02403003': 4, 'n02814860': 3, 'n03617480': 4, 'n04486054': 14, 'n04311004': 8, 'n04074963': 7, 'n03891332': 2, 'n02509815': 10, 'n04285008': 3, 'n01784675': 6, 'n02190166': 5, 'n01774750': 6, 'n02948072': 7, 'n04560804': 4, 'n03355925': 3, 'n03255030': 4, 'n07615774': 6, 'n03544143': 3, 'n03042490': 5, 'n02841315': 3, 'n04456115': 6, 'n02793495': 1, 'n02795169': 4, 'n02977058': 5, 'n07753592': 5, 'n09193705': 2, 'n03179701': 3, 'n04376876': 9, 'n01770393': 4, 'n02281406': 5, 'n02321529': 3, 'n02906734': 6, 'n02999410': 6, 'n01983481': 5, 'n07747607': 4, 'n02106662': 3, 'n02085620': 5, 'n03992509': 6, 'n02669723': 6, 'n04251144': 7, 'n02231487': 4, 'n04487081': 4, 'n02963159': 4, 'n02481823': 9, 'n07873807': 2, 'n02094433': 6, 'n02437312': 4, 'n02099601': 1, 'n02988304': 5, 'n03201208': 7, 'n02058221': 3, 'n07583066': 6, 'n04070727': 5, 'n02699494': 4, 'n02410509': 6, 'n03393912': 9, 'n04532106': 5, 'n07715103': 4, 'n03404251': 2, 'n03837869': 2, 'n03763968': 4, 'n03854065': 8, 'n04067472': 6, 'n03089624': 4, 'n02002724': 5, 'n09256479': 3, 'n03796401': 9, 'n04149813': 8, 'n02802426': 4, 'n02791270': 3, 'n02788148': 2, 'n02056570': 2, 'n02927161': 1, 'n02395406': 6, 'n04398044': 5, 'n04328186': 3, 'n03977966': 5, 'n01882714': 5, 'n02950826': 5, 'n02730930': 4, 'n01768244': 8, 'n03388043': 3, 'n04008634': 6, 'n03085013': 5, 'n03250847': 2, 'n07695742': 6, 'n02808440': 6, 'n02268443': 7, 'n03814639': 3, 'n02206856': 6, 'n07920052': 4, 'n04133789': 5, 'n04146614': 1, 'n02074367': 2, 'n02099712': 6, 'n04399382': 3, 'n04501370': 5, 'n02233338': 5, 'n03980874': 8, 'n04099969': 3, 'n07720875': 6, 'n07768694': 4, 'n01917289': 7, 'n04371430': 8, 'n02837789': 3, 'n04540053': 5, 'n07749582': 6, 'n02917067': 7, 'n03670208': 6, 'n04532670': 4, 'n07875152': 4, 'n01984695': 5, 'n07871810': 4, 'n03599486': 4, 'n09428293': 10, 'n02129165': 8, 'n01698640': 7, 'n02123045': 6, 'n02666196': 0, 'n03930313': 7, 'n01945685': 3, 'n02113799': 1, 'n01443537': 7, 'n02892201': 5, 'n01855672': 5, 'n04356056': 6, 'n03126707': 7, 'n03447447': 7, 'n01950731': 3, 'n03026506': 8, 'n03976657': 6, 'n03424325': 3, 'n01641577': 3, 'n04254777': 2, 'n04597913': 5, 'n02123394': 4, 'n12267677': 8, 'n02504458': 8, 'n02226429': 3, 'n02423022': 6, 'n07614500': 6, 'n02843684': 6, 'n03637318': 3, 'n04596742': 8, 'n02279972': 3, 'n02909870': 4, 'n04417672': 3, 'n04023962': 7, 'n04366367': 9, 'n03983396': 7, 'n03804744': 5, 'n01629819': 5, 'n02124075': 4, 'n03706229': 4, 'n09246464': 4, 'n03444034': 4, 'n01944390': 5, 'n06596364': 3, 'n03584254': 4, 'n03733131': 3, 'n02486410': 6, 'n01742172': 3, 'n01774384': 10, 'n03838899': 6, 'n04265275': 5, 'n04507155': 5, 'n02823428': 7, 'n09332890': 8, 'n03649909': 6, 'n07711569': 7, 'n04465501': 9, 'n03970156': 11, 'n04259630': 4, 'n07579787': 5, 'n02125311': 9, 'n04118538': 3, 'n03937543': 3, 'n02883205': 6, 'n03014705': 4, 'n04179913': 3, 'n03662601': 4, 'n03100240': 4, 'n02480495': 5, 'n04562935': 9, 'n01910747': 4, 'n02415577': 5, 'n02165456': 3, 'n02236044': 4, 'n07734744': 7, 'n04275548': 4, 'n02364673': 3, 'n02815834': 3, 'n03160309': 3, 'n02769748': 3, 'n02814533': 6, 'n01644900': 3}\n",
            "2000\n",
            "{'n02132136': 11, 'n03902125': 10, 'n03770439': 11, 'n03400231': 11, 'n02403003': 7, 'n02814860': 7, 'n03617480': 14, 'n04486054': 16, 'n04311004': 13, 'n04074963': 11, 'n03891332': 12, 'n02509815': 15, 'n04285008': 9, 'n01784675': 15, 'n02190166': 10, 'n01774750': 9, 'n02948072': 8, 'n04560804': 8, 'n03355925': 6, 'n03255030': 6, 'n07615774': 15, 'n03544143': 8, 'n03042490': 11, 'n02841315': 9, 'n04456115': 14, 'n02793495': 4, 'n02795169': 7, 'n02977058': 11, 'n07753592': 11, 'n09193705': 8, 'n03179701': 8, 'n04376876': 13, 'n01770393': 9, 'n02281406': 10, 'n02321529': 12, 'n02906734': 10, 'n02999410': 11, 'n01983481': 8, 'n07747607': 8, 'n02106662': 9, 'n02085620': 7, 'n03992509': 10, 'n02669723': 12, 'n04251144': 16, 'n02231487': 11, 'n04487081': 7, 'n02963159': 8, 'n02481823': 16, 'n07873807': 8, 'n02094433': 11, 'n02437312': 9, 'n02099601': 6, 'n02988304': 11, 'n03201208': 15, 'n02058221': 7, 'n07583066': 12, 'n04070727': 7, 'n02699494': 6, 'n02410509': 9, 'n03393912': 15, 'n04532106': 8, 'n07715103': 9, 'n03404251': 9, 'n03837869': 5, 'n03763968': 7, 'n03854065': 14, 'n04067472': 13, 'n03089624': 5, 'n02002724': 7, 'n09256479': 4, 'n03796401': 12, 'n04149813': 9, 'n02802426': 9, 'n02791270': 7, 'n02788148': 4, 'n02056570': 9, 'n02927161': 4, 'n02395406': 13, 'n04398044': 10, 'n04328186': 10, 'n03977966': 9, 'n01882714': 7, 'n02950826': 12, 'n02730930': 10, 'n01768244': 9, 'n03388043': 7, 'n04008634': 10, 'n03085013': 11, 'n03250847': 9, 'n07695742': 9, 'n02808440': 6, 'n02268443': 13, 'n03814639': 6, 'n02206856': 11, 'n07920052': 7, 'n04133789': 8, 'n04146614': 8, 'n02074367': 5, 'n02099712': 13, 'n04399382': 10, 'n04501370': 9, 'n02233338': 7, 'n03980874': 15, 'n04099969': 10, 'n07720875': 8, 'n07768694': 10, 'n01917289': 13, 'n04371430': 13, 'n02837789': 6, 'n04540053': 10, 'n07749582': 14, 'n02917067': 11, 'n03670208': 11, 'n04532670': 14, 'n07875152': 6, 'n01984695': 12, 'n07871810': 9, 'n03599486': 11, 'n09428293': 15, 'n02129165': 10, 'n01698640': 9, 'n02123045': 6, 'n02666196': 5, 'n03930313': 9, 'n01945685': 4, 'n02113799': 9, 'n01443537': 18, 'n02892201': 12, 'n01855672': 8, 'n04356056': 9, 'n03126707': 10, 'n03447447': 13, 'n01950731': 11, 'n03026506': 12, 'n03976657': 12, 'n03424325': 12, 'n01641577': 7, 'n04254777': 5, 'n04597913': 12, 'n02123394': 10, 'n12267677': 11, 'n02504458': 16, 'n02226429': 12, 'n02423022': 13, 'n07614500': 10, 'n02843684': 10, 'n03637318': 9, 'n04596742': 14, 'n02279972': 8, 'n02909870': 10, 'n04417672': 9, 'n04023962': 14, 'n04366367': 14, 'n03983396': 10, 'n03804744': 11, 'n01629819': 12, 'n02124075': 9, 'n03706229': 11, 'n09246464': 6, 'n03444034': 13, 'n01944390': 13, 'n06596364': 7, 'n03584254': 9, 'n03733131': 12, 'n02486410': 9, 'n01742172': 9, 'n01774384': 14, 'n03838899': 9, 'n04265275': 11, 'n04507155': 8, 'n02823428': 14, 'n09332890': 16, 'n03649909': 13, 'n07711569': 12, 'n04465501': 15, 'n03970156': 14, 'n04259630': 10, 'n07579787': 12, 'n02125311': 14, 'n04118538': 11, 'n03937543': 6, 'n02883205': 9, 'n03014705': 7, 'n04179913': 8, 'n03662601': 11, 'n03100240': 7, 'n02480495': 8, 'n04562935': 10, 'n01910747': 8, 'n02415577': 8, 'n02165456': 10, 'n02236044': 7, 'n07734744': 12, 'n04275548': 12, 'n02364673': 8, 'n02815834': 9, 'n03160309': 12, 'n02769748': 8, 'n02814533': 15, 'n01644900': 8}\n",
            "3000\n",
            "{'n02132136': 16, 'n03902125': 15, 'n03770439': 17, 'n03400231': 14, 'n02403003': 16, 'n02814860': 13, 'n03617480': 16, 'n04486054': 22, 'n04311004': 16, 'n04074963': 14, 'n03891332': 16, 'n02509815': 21, 'n04285008': 16, 'n01784675': 21, 'n02190166': 14, 'n01774750': 13, 'n02948072': 13, 'n04560804': 11, 'n03355925': 9, 'n03255030': 11, 'n07615774': 21, 'n03544143': 14, 'n03042490': 16, 'n02841315': 13, 'n04456115': 21, 'n02793495': 14, 'n02795169': 17, 'n02977058': 16, 'n07753592': 18, 'n09193705': 10, 'n03179701': 15, 'n04376876': 17, 'n01770393': 13, 'n02281406': 17, 'n02321529': 17, 'n02906734': 17, 'n02999410': 13, 'n01983481': 12, 'n07747607': 14, 'n02106662': 15, 'n02085620': 12, 'n03992509': 11, 'n02669723': 17, 'n04251144': 21, 'n02231487': 13, 'n04487081': 11, 'n02963159': 11, 'n02481823': 23, 'n07873807': 13, 'n02094433': 15, 'n02437312': 17, 'n02099601': 9, 'n02988304': 17, 'n03201208': 18, 'n02058221': 10, 'n07583066': 19, 'n04070727': 16, 'n02699494': 9, 'n02410509': 12, 'n03393912': 18, 'n04532106': 13, 'n07715103': 14, 'n03404251': 16, 'n03837869': 11, 'n03763968': 12, 'n03854065': 17, 'n04067472': 20, 'n03089624': 12, 'n02002724': 12, 'n09256479': 7, 'n03796401': 17, 'n04149813': 14, 'n02802426': 12, 'n02791270': 10, 'n02788148': 9, 'n02056570': 14, 'n02927161': 8, 'n02395406': 16, 'n04398044': 14, 'n04328186': 12, 'n03977966': 15, 'n01882714': 15, 'n02950826': 15, 'n02730930': 15, 'n01768244': 16, 'n03388043': 14, 'n04008634': 16, 'n03085013': 18, 'n03250847': 13, 'n07695742': 17, 'n02808440': 9, 'n02268443': 17, 'n03814639': 11, 'n02206856': 13, 'n07920052': 12, 'n04133789': 14, 'n04146614': 13, 'n02074367': 12, 'n02099712': 18, 'n04399382': 11, 'n04501370': 14, 'n02233338': 14, 'n03980874': 19, 'n04099969': 15, 'n07720875': 12, 'n07768694': 17, 'n01917289': 18, 'n04371430': 19, 'n02837789': 13, 'n04540053': 13, 'n07749582': 19, 'n02917067': 13, 'n03670208': 13, 'n04532670': 22, 'n07875152': 9, 'n01984695': 23, 'n07871810': 14, 'n03599486': 16, 'n09428293': 18, 'n02129165': 19, 'n01698640': 15, 'n02123045': 8, 'n02666196': 9, 'n03930313': 13, 'n01945685': 11, 'n02113799': 14, 'n01443537': 27, 'n02892201': 15, 'n01855672': 12, 'n04356056': 13, 'n03126707': 16, 'n03447447': 21, 'n01950731': 18, 'n03026506': 14, 'n03976657': 17, 'n03424325': 16, 'n01641577': 15, 'n04254777': 12, 'n04597913': 20, 'n02123394': 14, 'n12267677': 14, 'n02504458': 20, 'n02226429': 14, 'n02423022': 19, 'n07614500': 18, 'n02843684': 16, 'n03637318': 17, 'n04596742': 23, 'n02279972': 14, 'n02909870': 16, 'n04417672': 13, 'n04023962': 21, 'n04366367': 21, 'n03983396': 16, 'n03804744': 18, 'n01629819': 20, 'n02124075': 14, 'n03706229': 17, 'n09246464': 8, 'n03444034': 14, 'n01944390': 15, 'n06596364': 13, 'n03584254': 10, 'n03733131': 19, 'n02486410': 14, 'n01742172': 14, 'n01774384': 18, 'n03838899': 12, 'n04265275': 15, 'n04507155': 13, 'n02823428': 19, 'n09332890': 20, 'n03649909': 20, 'n07711569': 20, 'n04465501': 17, 'n03970156': 18, 'n04259630': 18, 'n07579787': 16, 'n02125311': 18, 'n04118538': 15, 'n03937543': 12, 'n02883205': 14, 'n03014705': 15, 'n04179913': 13, 'n03662601': 19, 'n03100240': 12, 'n02480495': 13, 'n04562935': 12, 'n01910747': 14, 'n02415577': 13, 'n02165456': 11, 'n02236044': 11, 'n07734744': 18, 'n04275548': 17, 'n02364673': 12, 'n02815834': 9, 'n03160309': 16, 'n02769748': 12, 'n02814533': 16, 'n01644900': 14}\n",
            "4000\n",
            "{'n02132136': 21, 'n03902125': 19, 'n03770439': 22, 'n03400231': 20, 'n02403003': 23, 'n02814860': 20, 'n03617480': 23, 'n04486054': 26, 'n04311004': 20, 'n04074963': 19, 'n03891332': 19, 'n02509815': 26, 'n04285008': 22, 'n01784675': 28, 'n02190166': 19, 'n01774750': 21, 'n02948072': 22, 'n04560804': 16, 'n03355925': 16, 'n03255030': 15, 'n07615774': 26, 'n03544143': 20, 'n03042490': 19, 'n02841315': 17, 'n04456115': 26, 'n02793495': 19, 'n02795169': 20, 'n02977058': 21, 'n07753592': 22, 'n09193705': 18, 'n03179701': 24, 'n04376876': 21, 'n01770393': 18, 'n02281406': 21, 'n02321529': 20, 'n02906734': 19, 'n02999410': 17, 'n01983481': 17, 'n07747607': 17, 'n02106662': 18, 'n02085620': 20, 'n03992509': 14, 'n02669723': 21, 'n04251144': 26, 'n02231487': 19, 'n04487081': 15, 'n02963159': 16, 'n02481823': 27, 'n07873807': 17, 'n02094433': 22, 'n02437312': 21, 'n02099601': 14, 'n02988304': 20, 'n03201208': 22, 'n02058221': 18, 'n07583066': 26, 'n04070727': 19, 'n02699494': 14, 'n02410509': 12, 'n03393912': 19, 'n04532106': 18, 'n07715103': 17, 'n03404251': 21, 'n03837869': 16, 'n03763968': 19, 'n03854065': 19, 'n04067472': 27, 'n03089624': 19, 'n02002724': 16, 'n09256479': 14, 'n03796401': 21, 'n04149813': 20, 'n02802426': 21, 'n02791270': 20, 'n02788148': 13, 'n02056570': 21, 'n02927161': 12, 'n02395406': 17, 'n04398044': 18, 'n04328186': 16, 'n03977966': 20, 'n01882714': 17, 'n02950826': 20, 'n02730930': 18, 'n01768244': 17, 'n03388043': 21, 'n04008634': 20, 'n03085013': 22, 'n03250847': 18, 'n07695742': 21, 'n02808440': 14, 'n02268443': 23, 'n03814639': 15, 'n02206856': 17, 'n07920052': 13, 'n04133789': 17, 'n04146614': 21, 'n02074367': 18, 'n02099712': 22, 'n04399382': 18, 'n04501370': 17, 'n02233338': 20, 'n03980874': 22, 'n04099969': 23, 'n07720875': 15, 'n07768694': 18, 'n01917289': 25, 'n04371430': 23, 'n02837789': 20, 'n04540053': 17, 'n07749582': 25, 'n02917067': 18, 'n03670208': 21, 'n04532670': 25, 'n07875152': 17, 'n01984695': 25, 'n07871810': 20, 'n03599486': 21, 'n09428293': 22, 'n02129165': 21, 'n01698640': 23, 'n02123045': 19, 'n02666196': 17, 'n03930313': 22, 'n01945685': 20, 'n02113799': 19, 'n01443537': 30, 'n02892201': 22, 'n01855672': 14, 'n04356056': 17, 'n03126707': 21, 'n03447447': 25, 'n01950731': 25, 'n03026506': 21, 'n03976657': 21, 'n03424325': 22, 'n01641577': 20, 'n04254777': 20, 'n04597913': 23, 'n02123394': 18, 'n12267677': 18, 'n02504458': 24, 'n02226429': 21, 'n02423022': 24, 'n07614500': 25, 'n02843684': 22, 'n03637318': 18, 'n04596742': 29, 'n02279972': 18, 'n02909870': 22, 'n04417672': 19, 'n04023962': 29, 'n04366367': 24, 'n03983396': 22, 'n03804744': 23, 'n01629819': 22, 'n02124075': 15, 'n03706229': 21, 'n09246464': 13, 'n03444034': 23, 'n01944390': 19, 'n06596364': 19, 'n03584254': 14, 'n03733131': 20, 'n02486410': 15, 'n01742172': 20, 'n01774384': 22, 'n03838899': 18, 'n04265275': 20, 'n04507155': 18, 'n02823428': 21, 'n09332890': 23, 'n03649909': 26, 'n07711569': 25, 'n04465501': 23, 'n03970156': 23, 'n04259630': 20, 'n07579787': 20, 'n02125311': 24, 'n04118538': 18, 'n03937543': 20, 'n02883205': 21, 'n03014705': 19, 'n04179913': 16, 'n03662601': 26, 'n03100240': 15, 'n02480495': 20, 'n04562935': 16, 'n01910747': 16, 'n02415577': 24, 'n02165456': 17, 'n02236044': 21, 'n07734744': 27, 'n04275548': 25, 'n02364673': 17, 'n02815834': 15, 'n03160309': 20, 'n02769748': 16, 'n02814533': 20, 'n01644900': 19}\n",
            "5000\n",
            "{'n02132136': 26, 'n03902125': 21, 'n03770439': 26, 'n03400231': 26, 'n02403003': 26, 'n02814860': 26, 'n03617480': 26, 'n04486054': 30, 'n04311004': 25, 'n04074963': 21, 'n03891332': 26, 'n02509815': 33, 'n04285008': 29, 'n01784675': 32, 'n02190166': 25, 'n01774750': 27, 'n02948072': 25, 'n04560804': 22, 'n03355925': 24, 'n03255030': 23, 'n07615774': 30, 'n03544143': 25, 'n03042490': 22, 'n02841315': 23, 'n04456115': 31, 'n02793495': 22, 'n02795169': 26, 'n02977058': 25, 'n07753592': 27, 'n09193705': 23, 'n03179701': 28, 'n04376876': 24, 'n01770393': 21, 'n02281406': 27, 'n02321529': 26, 'n02906734': 23, 'n02999410': 22, 'n01983481': 23, 'n07747607': 21, 'n02106662': 23, 'n02085620': 24, 'n03992509': 24, 'n02669723': 24, 'n04251144': 28, 'n02231487': 24, 'n04487081': 22, 'n02963159': 23, 'n02481823': 31, 'n07873807': 22, 'n02094433': 29, 'n02437312': 30, 'n02099601': 24, 'n02988304': 28, 'n03201208': 23, 'n02058221': 20, 'n07583066': 29, 'n04070727': 24, 'n02699494': 22, 'n02410509': 19, 'n03393912': 22, 'n04532106': 22, 'n07715103': 22, 'n03404251': 26, 'n03837869': 21, 'n03763968': 22, 'n03854065': 25, 'n04067472': 32, 'n03089624': 26, 'n02002724': 20, 'n09256479': 16, 'n03796401': 28, 'n04149813': 26, 'n02802426': 26, 'n02791270': 26, 'n02788148': 23, 'n02056570': 24, 'n02927161': 25, 'n02395406': 20, 'n04398044': 23, 'n04328186': 20, 'n03977966': 28, 'n01882714': 23, 'n02950826': 24, 'n02730930': 25, 'n01768244': 21, 'n03388043': 24, 'n04008634': 27, 'n03085013': 27, 'n03250847': 23, 'n07695742': 29, 'n02808440': 19, 'n02268443': 25, 'n03814639': 21, 'n02206856': 22, 'n07920052': 17, 'n04133789': 23, 'n04146614': 30, 'n02074367': 23, 'n02099712': 26, 'n04399382': 20, 'n04501370': 20, 'n02233338': 25, 'n03980874': 29, 'n04099969': 29, 'n07720875': 23, 'n07768694': 23, 'n01917289': 27, 'n04371430': 30, 'n02837789': 25, 'n04540053': 22, 'n07749582': 28, 'n02917067': 22, 'n03670208': 24, 'n04532670': 28, 'n07875152': 20, 'n01984695': 29, 'n07871810': 21, 'n03599486': 28, 'n09428293': 28, 'n02129165': 24, 'n01698640': 27, 'n02123045': 25, 'n02666196': 23, 'n03930313': 26, 'n01945685': 28, 'n02113799': 23, 'n01443537': 35, 'n02892201': 27, 'n01855672': 17, 'n04356056': 22, 'n03126707': 25, 'n03447447': 29, 'n01950731': 29, 'n03026506': 25, 'n03976657': 25, 'n03424325': 23, 'n01641577': 24, 'n04254777': 27, 'n04597913': 28, 'n02123394': 28, 'n12267677': 24, 'n02504458': 31, 'n02226429': 23, 'n02423022': 30, 'n07614500': 27, 'n02843684': 25, 'n03637318': 24, 'n04596742': 35, 'n02279972': 24, 'n02909870': 27, 'n04417672': 23, 'n04023962': 32, 'n04366367': 29, 'n03983396': 25, 'n03804744': 29, 'n01629819': 25, 'n02124075': 21, 'n03706229': 24, 'n09246464': 20, 'n03444034': 31, 'n01944390': 25, 'n06596364': 26, 'n03584254': 21, 'n03733131': 27, 'n02486410': 20, 'n01742172': 24, 'n01774384': 26, 'n03838899': 26, 'n04265275': 26, 'n04507155': 22, 'n02823428': 28, 'n09332890': 30, 'n03649909': 29, 'n07711569': 31, 'n04465501': 27, 'n03970156': 29, 'n04259630': 28, 'n07579787': 24, 'n02125311': 25, 'n04118538': 20, 'n03937543': 25, 'n02883205': 24, 'n03014705': 21, 'n04179913': 20, 'n03662601': 30, 'n03100240': 21, 'n02480495': 25, 'n04562935': 22, 'n01910747': 21, 'n02415577': 27, 'n02165456': 23, 'n02236044': 25, 'n07734744': 30, 'n04275548': 29, 'n02364673': 25, 'n02815834': 19, 'n03160309': 23, 'n02769748': 27, 'n02814533': 24, 'n01644900': 22}\n",
            "6000\n",
            "{'n02132136': 29, 'n03902125': 24, 'n03770439': 29, 'n03400231': 29, 'n02403003': 33, 'n02814860': 30, 'n03617480': 30, 'n04486054': 35, 'n04311004': 28, 'n04074963': 28, 'n03891332': 32, 'n02509815': 38, 'n04285008': 36, 'n01784675': 33, 'n02190166': 29, 'n01774750': 30, 'n02948072': 27, 'n04560804': 28, 'n03355925': 30, 'n03255030': 29, 'n07615774': 37, 'n03544143': 28, 'n03042490': 28, 'n02841315': 25, 'n04456115': 33, 'n02793495': 27, 'n02795169': 31, 'n02977058': 29, 'n07753592': 30, 'n09193705': 30, 'n03179701': 31, 'n04376876': 28, 'n01770393': 25, 'n02281406': 32, 'n02321529': 31, 'n02906734': 27, 'n02999410': 27, 'n01983481': 31, 'n07747607': 28, 'n02106662': 30, 'n02085620': 30, 'n03992509': 31, 'n02669723': 32, 'n04251144': 34, 'n02231487': 28, 'n04487081': 25, 'n02963159': 31, 'n02481823': 35, 'n07873807': 31, 'n02094433': 32, 'n02437312': 34, 'n02099601': 30, 'n02988304': 33, 'n03201208': 31, 'n02058221': 30, 'n07583066': 32, 'n04070727': 31, 'n02699494': 29, 'n02410509': 28, 'n03393912': 28, 'n04532106': 30, 'n07715103': 26, 'n03404251': 31, 'n03837869': 26, 'n03763968': 28, 'n03854065': 31, 'n04067472': 37, 'n03089624': 30, 'n02002724': 23, 'n09256479': 20, 'n03796401': 30, 'n04149813': 30, 'n02802426': 33, 'n02791270': 30, 'n02788148': 34, 'n02056570': 28, 'n02927161': 27, 'n02395406': 24, 'n04398044': 33, 'n04328186': 25, 'n03977966': 34, 'n01882714': 30, 'n02950826': 28, 'n02730930': 33, 'n01768244': 28, 'n03388043': 29, 'n04008634': 33, 'n03085013': 30, 'n03250847': 29, 'n07695742': 35, 'n02808440': 24, 'n02268443': 29, 'n03814639': 23, 'n02206856': 27, 'n07920052': 22, 'n04133789': 32, 'n04146614': 32, 'n02074367': 29, 'n02099712': 32, 'n04399382': 25, 'n04501370': 22, 'n02233338': 30, 'n03980874': 36, 'n04099969': 32, 'n07720875': 29, 'n07768694': 30, 'n01917289': 33, 'n04371430': 34, 'n02837789': 26, 'n04540053': 27, 'n07749582': 32, 'n02917067': 28, 'n03670208': 31, 'n04532670': 32, 'n07875152': 25, 'n01984695': 35, 'n07871810': 25, 'n03599486': 29, 'n09428293': 34, 'n02129165': 29, 'n01698640': 28, 'n02123045': 33, 'n02666196': 27, 'n03930313': 30, 'n01945685': 34, 'n02113799': 31, 'n01443537': 37, 'n02892201': 30, 'n01855672': 24, 'n04356056': 26, 'n03126707': 33, 'n03447447': 35, 'n01950731': 32, 'n03026506': 29, 'n03976657': 31, 'n03424325': 28, 'n01641577': 29, 'n04254777': 34, 'n04597913': 32, 'n02123394': 33, 'n12267677': 27, 'n02504458': 38, 'n02226429': 27, 'n02423022': 34, 'n07614500': 33, 'n02843684': 29, 'n03637318': 30, 'n04596742': 37, 'n02279972': 27, 'n02909870': 33, 'n04417672': 35, 'n04023962': 37, 'n04366367': 35, 'n03983396': 29, 'n03804744': 32, 'n01629819': 30, 'n02124075': 29, 'n03706229': 28, 'n09246464': 27, 'n03444034': 35, 'n01944390': 33, 'n06596364': 29, 'n03584254': 26, 'n03733131': 31, 'n02486410': 28, 'n01742172': 28, 'n01774384': 31, 'n03838899': 32, 'n04265275': 29, 'n04507155': 29, 'n02823428': 36, 'n09332890': 33, 'n03649909': 31, 'n07711569': 33, 'n04465501': 29, 'n03970156': 35, 'n04259630': 30, 'n07579787': 27, 'n02125311': 33, 'n04118538': 28, 'n03937543': 27, 'n02883205': 26, 'n03014705': 26, 'n04179913': 27, 'n03662601': 33, 'n03100240': 25, 'n02480495': 29, 'n04562935': 34, 'n01910747': 26, 'n02415577': 29, 'n02165456': 29, 'n02236044': 26, 'n07734744': 34, 'n04275548': 35, 'n02364673': 28, 'n02815834': 22, 'n03160309': 33, 'n02769748': 31, 'n02814533': 26, 'n01644900': 26}\n",
            "7000\n",
            "{'n02132136': 34, 'n03902125': 31, 'n03770439': 32, 'n03400231': 38, 'n02403003': 36, 'n02814860': 32, 'n03617480': 37, 'n04486054': 39, 'n04311004': 36, 'n04074963': 37, 'n03891332': 35, 'n02509815': 43, 'n04285008': 38, 'n01784675': 36, 'n02190166': 36, 'n01774750': 33, 'n02948072': 36, 'n04560804': 34, 'n03355925': 35, 'n03255030': 37, 'n07615774': 40, 'n03544143': 34, 'n03042490': 37, 'n02841315': 30, 'n04456115': 36, 'n02793495': 29, 'n02795169': 35, 'n02977058': 31, 'n07753592': 36, 'n09193705': 34, 'n03179701': 37, 'n04376876': 32, 'n01770393': 34, 'n02281406': 39, 'n02321529': 38, 'n02906734': 30, 'n02999410': 33, 'n01983481': 32, 'n07747607': 36, 'n02106662': 35, 'n02085620': 34, 'n03992509': 37, 'n02669723': 36, 'n04251144': 36, 'n02231487': 34, 'n04487081': 31, 'n02963159': 37, 'n02481823': 37, 'n07873807': 36, 'n02094433': 35, 'n02437312': 39, 'n02099601': 34, 'n02988304': 36, 'n03201208': 36, 'n02058221': 33, 'n07583066': 34, 'n04070727': 39, 'n02699494': 36, 'n02410509': 35, 'n03393912': 34, 'n04532106': 35, 'n07715103': 37, 'n03404251': 35, 'n03837869': 31, 'n03763968': 34, 'n03854065': 36, 'n04067472': 43, 'n03089624': 35, 'n02002724': 33, 'n09256479': 28, 'n03796401': 34, 'n04149813': 36, 'n02802426': 34, 'n02791270': 35, 'n02788148': 37, 'n02056570': 33, 'n02927161': 32, 'n02395406': 31, 'n04398044': 37, 'n04328186': 30, 'n03977966': 38, 'n01882714': 36, 'n02950826': 30, 'n02730930': 38, 'n01768244': 33, 'n03388043': 35, 'n04008634': 38, 'n03085013': 34, 'n03250847': 34, 'n07695742': 37, 'n02808440': 33, 'n02268443': 35, 'n03814639': 24, 'n02206856': 31, 'n07920052': 30, 'n04133789': 36, 'n04146614': 36, 'n02074367': 32, 'n02099712': 34, 'n04399382': 30, 'n04501370': 30, 'n02233338': 35, 'n03980874': 37, 'n04099969': 34, 'n07720875': 37, 'n07768694': 34, 'n01917289': 37, 'n04371430': 38, 'n02837789': 31, 'n04540053': 39, 'n07749582': 37, 'n02917067': 34, 'n03670208': 35, 'n04532670': 37, 'n07875152': 30, 'n01984695': 37, 'n07871810': 28, 'n03599486': 33, 'n09428293': 35, 'n02129165': 36, 'n01698640': 31, 'n02123045': 41, 'n02666196': 31, 'n03930313': 36, 'n01945685': 39, 'n02113799': 33, 'n01443537': 41, 'n02892201': 34, 'n01855672': 28, 'n04356056': 32, 'n03126707': 38, 'n03447447': 38, 'n01950731': 38, 'n03026506': 33, 'n03976657': 37, 'n03424325': 30, 'n01641577': 35, 'n04254777': 35, 'n04597913': 34, 'n02123394': 38, 'n12267677': 37, 'n02504458': 42, 'n02226429': 31, 'n02423022': 37, 'n07614500': 37, 'n02843684': 34, 'n03637318': 37, 'n04596742': 41, 'n02279972': 33, 'n02909870': 35, 'n04417672': 38, 'n04023962': 41, 'n04366367': 39, 'n03983396': 35, 'n03804744': 36, 'n01629819': 34, 'n02124075': 34, 'n03706229': 35, 'n09246464': 38, 'n03444034': 39, 'n01944390': 36, 'n06596364': 34, 'n03584254': 32, 'n03733131': 35, 'n02486410': 31, 'n01742172': 33, 'n01774384': 38, 'n03838899': 36, 'n04265275': 32, 'n04507155': 34, 'n02823428': 40, 'n09332890': 40, 'n03649909': 37, 'n07711569': 38, 'n04465501': 33, 'n03970156': 40, 'n04259630': 35, 'n07579787': 35, 'n02125311': 38, 'n04118538': 41, 'n03937543': 33, 'n02883205': 31, 'n03014705': 31, 'n04179913': 32, 'n03662601': 37, 'n03100240': 35, 'n02480495': 32, 'n04562935': 39, 'n01910747': 32, 'n02415577': 34, 'n02165456': 35, 'n02236044': 29, 'n07734744': 38, 'n04275548': 38, 'n02364673': 34, 'n02815834': 30, 'n03160309': 36, 'n02769748': 35, 'n02814533': 35, 'n01644900': 35}\n",
            "8000\n",
            "{'n02132136': 39, 'n03902125': 40, 'n03770439': 39, 'n03400231': 43, 'n02403003': 40, 'n02814860': 39, 'n03617480': 45, 'n04486054': 44, 'n04311004': 38, 'n04074963': 41, 'n03891332': 41, 'n02509815': 45, 'n04285008': 41, 'n01784675': 38, 'n02190166': 41, 'n01774750': 40, 'n02948072': 41, 'n04560804': 39, 'n03355925': 40, 'n03255030': 38, 'n07615774': 44, 'n03544143': 41, 'n03042490': 44, 'n02841315': 36, 'n04456115': 44, 'n02793495': 34, 'n02795169': 40, 'n02977058': 36, 'n07753592': 39, 'n09193705': 39, 'n03179701': 39, 'n04376876': 42, 'n01770393': 36, 'n02281406': 43, 'n02321529': 40, 'n02906734': 40, 'n02999410': 43, 'n01983481': 35, 'n07747607': 41, 'n02106662': 39, 'n02085620': 44, 'n03992509': 40, 'n02669723': 41, 'n04251144': 43, 'n02231487': 42, 'n04487081': 37, 'n02963159': 38, 'n02481823': 42, 'n07873807': 38, 'n02094433': 40, 'n02437312': 42, 'n02099601': 40, 'n02988304': 42, 'n03201208': 44, 'n02058221': 41, 'n07583066': 38, 'n04070727': 43, 'n02699494': 41, 'n02410509': 39, 'n03393912': 41, 'n04532106': 41, 'n07715103': 40, 'n03404251': 41, 'n03837869': 39, 'n03763968': 36, 'n03854065': 40, 'n04067472': 44, 'n03089624': 38, 'n02002724': 37, 'n09256479': 39, 'n03796401': 37, 'n04149813': 42, 'n02802426': 38, 'n02791270': 40, 'n02788148': 40, 'n02056570': 38, 'n02927161': 41, 'n02395406': 36, 'n04398044': 39, 'n04328186': 37, 'n03977966': 41, 'n01882714': 40, 'n02950826': 39, 'n02730930': 41, 'n01768244': 38, 'n03388043': 36, 'n04008634': 42, 'n03085013': 42, 'n03250847': 37, 'n07695742': 40, 'n02808440': 34, 'n02268443': 42, 'n03814639': 31, 'n02206856': 36, 'n07920052': 33, 'n04133789': 43, 'n04146614': 40, 'n02074367': 36, 'n02099712': 37, 'n04399382': 39, 'n04501370': 36, 'n02233338': 43, 'n03980874': 44, 'n04099969': 38, 'n07720875': 41, 'n07768694': 37, 'n01917289': 41, 'n04371430': 40, 'n02837789': 36, 'n04540053': 39, 'n07749582': 45, 'n02917067': 40, 'n03670208': 42, 'n04532670': 42, 'n07875152': 38, 'n01984695': 41, 'n07871810': 39, 'n03599486': 38, 'n09428293': 39, 'n02129165': 41, 'n01698640': 37, 'n02123045': 45, 'n02666196': 40, 'n03930313': 40, 'n01945685': 43, 'n02113799': 37, 'n01443537': 42, 'n02892201': 41, 'n01855672': 33, 'n04356056': 40, 'n03126707': 40, 'n03447447': 42, 'n01950731': 41, 'n03026506': 43, 'n03976657': 44, 'n03424325': 35, 'n01641577': 38, 'n04254777': 42, 'n04597913': 39, 'n02123394': 45, 'n12267677': 41, 'n02504458': 44, 'n02226429': 33, 'n02423022': 40, 'n07614500': 41, 'n02843684': 39, 'n03637318': 43, 'n04596742': 45, 'n02279972': 37, 'n02909870': 38, 'n04417672': 43, 'n04023962': 45, 'n04366367': 42, 'n03983396': 42, 'n03804744': 40, 'n01629819': 38, 'n02124075': 36, 'n03706229': 40, 'n09246464': 45, 'n03444034': 44, 'n01944390': 39, 'n06596364': 38, 'n03584254': 35, 'n03733131': 40, 'n02486410': 41, 'n01742172': 38, 'n01774384': 43, 'n03838899': 42, 'n04265275': 39, 'n04507155': 40, 'n02823428': 43, 'n09332890': 43, 'n03649909': 40, 'n07711569': 40, 'n04465501': 39, 'n03970156': 43, 'n04259630': 39, 'n07579787': 40, 'n02125311': 43, 'n04118538': 45, 'n03937543': 39, 'n02883205': 38, 'n03014705': 38, 'n04179913': 35, 'n03662601': 43, 'n03100240': 40, 'n02480495': 39, 'n04562935': 43, 'n01910747': 40, 'n02415577': 40, 'n02165456': 38, 'n02236044': 35, 'n07734744': 43, 'n04275548': 44, 'n02364673': 40, 'n02815834': 37, 'n03160309': 45, 'n02769748': 41, 'n02814533': 38, 'n01644900': 38}\n",
            "9000\n",
            "{'n02132136': 43, 'n03902125': 45, 'n03770439': 45, 'n03400231': 46, 'n02403003': 44, 'n02814860': 44, 'n03617480': 46, 'n04486054': 45, 'n04311004': 41, 'n04074963': 47, 'n03891332': 45, 'n02509815': 46, 'n04285008': 46, 'n01784675': 46, 'n02190166': 46, 'n01774750': 45, 'n02948072': 43, 'n04560804': 45, 'n03355925': 46, 'n03255030': 44, 'n07615774': 48, 'n03544143': 46, 'n03042490': 47, 'n02841315': 43, 'n04456115': 44, 'n02793495': 42, 'n02795169': 45, 'n02977058': 43, 'n07753592': 44, 'n09193705': 46, 'n03179701': 44, 'n04376876': 47, 'n01770393': 46, 'n02281406': 47, 'n02321529': 44, 'n02906734': 46, 'n02999410': 47, 'n01983481': 44, 'n07747607': 46, 'n02106662': 44, 'n02085620': 46, 'n03992509': 42, 'n02669723': 44, 'n04251144': 49, 'n02231487': 47, 'n04487081': 42, 'n02963159': 45, 'n02481823': 47, 'n07873807': 41, 'n02094433': 44, 'n02437312': 43, 'n02099601': 46, 'n02988304': 46, 'n03201208': 47, 'n02058221': 45, 'n07583066': 45, 'n04070727': 46, 'n02699494': 44, 'n02410509': 45, 'n03393912': 43, 'n04532106': 45, 'n07715103': 44, 'n03404251': 46, 'n03837869': 43, 'n03763968': 39, 'n03854065': 44, 'n04067472': 45, 'n03089624': 43, 'n02002724': 45, 'n09256479': 45, 'n03796401': 44, 'n04149813': 46, 'n02802426': 45, 'n02791270': 45, 'n02788148': 46, 'n02056570': 44, 'n02927161': 46, 'n02395406': 45, 'n04398044': 43, 'n04328186': 45, 'n03977966': 47, 'n01882714': 47, 'n02950826': 43, 'n02730930': 47, 'n01768244': 46, 'n03388043': 45, 'n04008634': 46, 'n03085013': 46, 'n03250847': 46, 'n07695742': 46, 'n02808440': 45, 'n02268443': 48, 'n03814639': 37, 'n02206856': 42, 'n07920052': 42, 'n04133789': 45, 'n04146614': 46, 'n02074367': 41, 'n02099712': 43, 'n04399382': 46, 'n04501370': 43, 'n02233338': 47, 'n03980874': 47, 'n04099969': 45, 'n07720875': 43, 'n07768694': 44, 'n01917289': 46, 'n04371430': 46, 'n02837789': 45, 'n04540053': 43, 'n07749582': 50, 'n02917067': 47, 'n03670208': 44, 'n04532670': 47, 'n07875152': 42, 'n01984695': 47, 'n07871810': 46, 'n03599486': 45, 'n09428293': 43, 'n02129165': 46, 'n01698640': 42, 'n02123045': 49, 'n02666196': 45, 'n03930313': 47, 'n01945685': 47, 'n02113799': 42, 'n01443537': 46, 'n02892201': 48, 'n01855672': 40, 'n04356056': 47, 'n03126707': 46, 'n03447447': 44, 'n01950731': 46, 'n03026506': 47, 'n03976657': 47, 'n03424325': 43, 'n01641577': 43, 'n04254777': 45, 'n04597913': 40, 'n02123394': 47, 'n12267677': 47, 'n02504458': 47, 'n02226429': 46, 'n02423022': 46, 'n07614500': 46, 'n02843684': 40, 'n03637318': 47, 'n04596742': 48, 'n02279972': 43, 'n02909870': 46, 'n04417672': 46, 'n04023962': 48, 'n04366367': 48, 'n03983396': 47, 'n03804744': 44, 'n01629819': 42, 'n02124075': 42, 'n03706229': 46, 'n09246464': 47, 'n03444034': 48, 'n01944390': 47, 'n06596364': 45, 'n03584254': 46, 'n03733131': 43, 'n02486410': 47, 'n01742172': 46, 'n01774384': 45, 'n03838899': 47, 'n04265275': 47, 'n04507155': 47, 'n02823428': 47, 'n09332890': 46, 'n03649909': 45, 'n07711569': 43, 'n04465501': 44, 'n03970156': 47, 'n04259630': 42, 'n07579787': 44, 'n02125311': 46, 'n04118538': 47, 'n03937543': 44, 'n02883205': 44, 'n03014705': 46, 'n04179913': 44, 'n03662601': 46, 'n03100240': 48, 'n02480495': 43, 'n04562935': 47, 'n01910747': 43, 'n02415577': 46, 'n02165456': 42, 'n02236044': 40, 'n07734744': 45, 'n04275548': 48, 'n02364673': 44, 'n02815834': 43, 'n03160309': 46, 'n02769748': 44, 'n02814533': 42, 'n01644900': 43}\n",
            "10000\n",
            "{'n02132136': 50, 'n03902125': 50, 'n03770439': 50, 'n03400231': 50, 'n02403003': 50, 'n02814860': 50, 'n03617480': 50, 'n04486054': 50, 'n04311004': 50, 'n04074963': 50, 'n03891332': 50, 'n02509815': 50, 'n04285008': 50, 'n01784675': 50, 'n02190166': 50, 'n01774750': 50, 'n02948072': 50, 'n04560804': 50, 'n03355925': 50, 'n03255030': 50, 'n07615774': 50, 'n03544143': 50, 'n03042490': 50, 'n02841315': 50, 'n04456115': 50, 'n02793495': 50, 'n02795169': 50, 'n02977058': 50, 'n07753592': 50, 'n09193705': 50, 'n03179701': 50, 'n04376876': 50, 'n01770393': 50, 'n02281406': 50, 'n02321529': 50, 'n02906734': 50, 'n02999410': 50, 'n01983481': 50, 'n07747607': 50, 'n02106662': 50, 'n02085620': 50, 'n03992509': 50, 'n02669723': 50, 'n04251144': 50, 'n02231487': 50, 'n04487081': 50, 'n02963159': 50, 'n02481823': 50, 'n07873807': 50, 'n02094433': 50, 'n02437312': 50, 'n02099601': 50, 'n02988304': 50, 'n03201208': 50, 'n02058221': 50, 'n07583066': 50, 'n04070727': 50, 'n02699494': 50, 'n02410509': 50, 'n03393912': 50, 'n04532106': 50, 'n07715103': 50, 'n03404251': 50, 'n03837869': 50, 'n03763968': 50, 'n03854065': 50, 'n04067472': 50, 'n03089624': 50, 'n02002724': 50, 'n09256479': 50, 'n03796401': 50, 'n04149813': 50, 'n02802426': 50, 'n02791270': 50, 'n02788148': 50, 'n02056570': 50, 'n02927161': 50, 'n02395406': 50, 'n04398044': 50, 'n04328186': 50, 'n03977966': 50, 'n01882714': 50, 'n02950826': 50, 'n02730930': 50, 'n01768244': 50, 'n03388043': 50, 'n04008634': 50, 'n03085013': 50, 'n03250847': 50, 'n07695742': 50, 'n02808440': 50, 'n02268443': 50, 'n03814639': 50, 'n02206856': 50, 'n07920052': 50, 'n04133789': 50, 'n04146614': 50, 'n02074367': 50, 'n02099712': 50, 'n04399382': 50, 'n04501370': 50, 'n02233338': 50, 'n03980874': 50, 'n04099969': 50, 'n07720875': 50, 'n07768694': 50, 'n01917289': 50, 'n04371430': 50, 'n02837789': 50, 'n04540053': 50, 'n07749582': 50, 'n02917067': 50, 'n03670208': 50, 'n04532670': 50, 'n07875152': 50, 'n01984695': 50, 'n07871810': 50, 'n03599486': 50, 'n09428293': 50, 'n02129165': 50, 'n01698640': 50, 'n02123045': 50, 'n02666196': 50, 'n03930313': 50, 'n01945685': 50, 'n02113799': 50, 'n01443537': 50, 'n02892201': 50, 'n01855672': 50, 'n04356056': 50, 'n03126707': 50, 'n03447447': 50, 'n01950731': 50, 'n03026506': 50, 'n03976657': 50, 'n03424325': 50, 'n01641577': 50, 'n04254777': 50, 'n04597913': 50, 'n02123394': 50, 'n12267677': 50, 'n02504458': 50, 'n02226429': 50, 'n02423022': 50, 'n07614500': 50, 'n02843684': 50, 'n03637318': 50, 'n04596742': 50, 'n02279972': 50, 'n02909870': 50, 'n04417672': 50, 'n04023962': 50, 'n04366367': 50, 'n03983396': 50, 'n03804744': 50, 'n01629819': 50, 'n02124075': 50, 'n03706229': 50, 'n09246464': 50, 'n03444034': 50, 'n01944390': 50, 'n06596364': 50, 'n03584254': 50, 'n03733131': 50, 'n02486410': 50, 'n01742172': 50, 'n01774384': 50, 'n03838899': 50, 'n04265275': 50, 'n04507155': 50, 'n02823428': 50, 'n09332890': 50, 'n03649909': 50, 'n07711569': 50, 'n04465501': 50, 'n03970156': 50, 'n04259630': 50, 'n07579787': 50, 'n02125311': 50, 'n04118538': 50, 'n03937543': 50, 'n02883205': 50, 'n03014705': 50, 'n04179913': 50, 'n03662601': 50, 'n03100240': 50, 'n02480495': 50, 'n04562935': 50, 'n01910747': 50, 'n02415577': 50, 'n02165456': 50, 'n02236044': 50, 'n07734744': 50, 'n04275548': 50, 'n02364673': 50, 'n02815834': 50, 'n03160309': 50, 'n02769748': 50, 'n02814533': 50, 'n01644900': 50}\n",
            "10000\n",
            "{'n02132136': 50, 'n03902125': 50, 'n03770439': 50, 'n03400231': 50, 'n02403003': 50, 'n02814860': 50, 'n03617480': 50, 'n04486054': 50, 'n04311004': 50, 'n04074963': 50, 'n03891332': 50, 'n02509815': 50, 'n04285008': 50, 'n01784675': 50, 'n02190166': 50, 'n01774750': 50, 'n02948072': 50, 'n04560804': 50, 'n03355925': 50, 'n03255030': 50, 'n07615774': 50, 'n03544143': 50, 'n03042490': 50, 'n02841315': 50, 'n04456115': 50, 'n02793495': 50, 'n02795169': 50, 'n02977058': 50, 'n07753592': 50, 'n09193705': 50, 'n03179701': 50, 'n04376876': 50, 'n01770393': 50, 'n02281406': 50, 'n02321529': 50, 'n02906734': 50, 'n02999410': 50, 'n01983481': 50, 'n07747607': 50, 'n02106662': 50, 'n02085620': 50, 'n03992509': 50, 'n02669723': 50, 'n04251144': 50, 'n02231487': 50, 'n04487081': 50, 'n02963159': 50, 'n02481823': 50, 'n07873807': 50, 'n02094433': 50, 'n02437312': 50, 'n02099601': 50, 'n02988304': 50, 'n03201208': 50, 'n02058221': 50, 'n07583066': 50, 'n04070727': 50, 'n02699494': 50, 'n02410509': 50, 'n03393912': 50, 'n04532106': 50, 'n07715103': 50, 'n03404251': 50, 'n03837869': 50, 'n03763968': 50, 'n03854065': 50, 'n04067472': 50, 'n03089624': 50, 'n02002724': 50, 'n09256479': 50, 'n03796401': 50, 'n04149813': 50, 'n02802426': 50, 'n02791270': 50, 'n02788148': 50, 'n02056570': 50, 'n02927161': 50, 'n02395406': 50, 'n04398044': 50, 'n04328186': 50, 'n03977966': 50, 'n01882714': 50, 'n02950826': 50, 'n02730930': 50, 'n01768244': 50, 'n03388043': 50, 'n04008634': 50, 'n03085013': 50, 'n03250847': 50, 'n07695742': 50, 'n02808440': 50, 'n02268443': 50, 'n03814639': 50, 'n02206856': 50, 'n07920052': 50, 'n04133789': 50, 'n04146614': 50, 'n02074367': 50, 'n02099712': 50, 'n04399382': 50, 'n04501370': 50, 'n02233338': 50, 'n03980874': 50, 'n04099969': 50, 'n07720875': 50, 'n07768694': 50, 'n01917289': 50, 'n04371430': 50, 'n02837789': 50, 'n04540053': 50, 'n07749582': 50, 'n02917067': 50, 'n03670208': 50, 'n04532670': 50, 'n07875152': 50, 'n01984695': 50, 'n07871810': 50, 'n03599486': 50, 'n09428293': 50, 'n02129165': 50, 'n01698640': 50, 'n02123045': 50, 'n02666196': 50, 'n03930313': 50, 'n01945685': 50, 'n02113799': 50, 'n01443537': 50, 'n02892201': 50, 'n01855672': 50, 'n04356056': 50, 'n03126707': 50, 'n03447447': 50, 'n01950731': 50, 'n03026506': 50, 'n03976657': 50, 'n03424325': 50, 'n01641577': 50, 'n04254777': 50, 'n04597913': 50, 'n02123394': 50, 'n12267677': 50, 'n02504458': 50, 'n02226429': 50, 'n02423022': 50, 'n07614500': 50, 'n02843684': 50, 'n03637318': 50, 'n04596742': 50, 'n02279972': 50, 'n02909870': 50, 'n04417672': 50, 'n04023962': 50, 'n04366367': 50, 'n03983396': 50, 'n03804744': 50, 'n01629819': 50, 'n02124075': 50, 'n03706229': 50, 'n09246464': 50, 'n03444034': 50, 'n01944390': 50, 'n06596364': 50, 'n03584254': 50, 'n03733131': 50, 'n02486410': 50, 'n01742172': 50, 'n01774384': 50, 'n03838899': 50, 'n04265275': 50, 'n04507155': 50, 'n02823428': 50, 'n09332890': 50, 'n03649909': 50, 'n07711569': 50, 'n04465501': 50, 'n03970156': 50, 'n04259630': 50, 'n07579787': 50, 'n02125311': 50, 'n04118538': 50, 'n03937543': 50, 'n02883205': 50, 'n03014705': 50, 'n04179913': 50, 'n03662601': 50, 'n03100240': 50, 'n02480495': 50, 'n04562935': 50, 'n01910747': 50, 'n02415577': 50, 'n02165456': 50, 'n02236044': 50, 'n07734744': 50, 'n04275548': 50, 'n02364673': 50, 'n02815834': 50, 'n03160309': 50, 'n02769748': 50, 'n02814533': 50, 'n01644900': 50}\n",
            "10000\n"
          ],
          "name": "stdout"
        }
      ]
    },
    {
      "cell_type": "code",
      "metadata": {
        "id": "1ZSWpcLN9u-y",
        "colab_type": "code",
        "outputId": "6d17fe8a-d7d4-46ba-dfb6-c14158362e4c",
        "colab": {
          "base_uri": "https://localhost:8080/",
          "height": 4124
        }
      },
      "source": [
        "## For checking the X_test and Y_test and their One Hot Encoding\n",
        "print(X_test.shape)\n",
        "print(Y_test.shape)\n",
        "print(pre_Y_test[:10])\n",
        "print(Y_test[:10])\n",
        "print(np.argmax(Y_test[453]))\n",
        "\n",
        "i = 453\n",
        "print(testing_labels[i])\n",
        "plt.imshow(testing_images[i])\n",
        "\n",
        "## Getting a map of classnames and their respective encoded value\n",
        "infer_encoded_val = list(set(testing_labels))\n",
        "infer_encoded_int_val = le.transform(infer_encoded_val)\n",
        "infer_encoded_int_list_val = list(infer_encoded_int_val)\n",
        "\n",
        "test_class_mapped = zip(infer_encoded_val,infer_encoded_int_list_val)\n",
        "test_class_mapped = set(train_class_mapped)\n",
        "test_class_mapped"
      ],
      "execution_count": 0,
      "outputs": [
        {
          "output_type": "stream",
          "text": [
            "(10000, 64, 64, 3)\n",
            "(10000, 200)\n",
            "[ 64 111 130  41 125  25 122  11 197  37]\n",
            "[[0. 0. 0. ... 0. 0. 0.]\n",
            " [0. 0. 0. ... 0. 0. 0.]\n",
            " [0. 0. 0. ... 0. 0. 0.]\n",
            " ...\n",
            " [0. 0. 0. ... 0. 0. 0.]\n",
            " [0. 0. 0. ... 1. 0. 0.]\n",
            " [0. 0. 0. ... 0. 0. 0.]]\n",
            "24\n",
            "n02085620\n"
          ],
          "name": "stdout"
        },
        {
          "output_type": "execute_result",
          "data": {
            "text/plain": [
              "{('n01443537', 0),\n",
              " ('n01629819', 1),\n",
              " ('n01641577', 2),\n",
              " ('n01644900', 3),\n",
              " ('n01698640', 4),\n",
              " ('n01742172', 5),\n",
              " ('n01768244', 6),\n",
              " ('n01770393', 7),\n",
              " ('n01774384', 8),\n",
              " ('n01774750', 9),\n",
              " ('n01784675', 10),\n",
              " ('n01855672', 11),\n",
              " ('n01882714', 12),\n",
              " ('n01910747', 13),\n",
              " ('n01917289', 14),\n",
              " ('n01944390', 15),\n",
              " ('n01945685', 16),\n",
              " ('n01950731', 17),\n",
              " ('n01983481', 18),\n",
              " ('n01984695', 19),\n",
              " ('n02002724', 20),\n",
              " ('n02056570', 21),\n",
              " ('n02058221', 22),\n",
              " ('n02074367', 23),\n",
              " ('n02085620', 24),\n",
              " ('n02094433', 25),\n",
              " ('n02099601', 26),\n",
              " ('n02099712', 27),\n",
              " ('n02106662', 28),\n",
              " ('n02113799', 29),\n",
              " ('n02123045', 30),\n",
              " ('n02123394', 31),\n",
              " ('n02124075', 32),\n",
              " ('n02125311', 33),\n",
              " ('n02129165', 34),\n",
              " ('n02132136', 35),\n",
              " ('n02165456', 36),\n",
              " ('n02190166', 37),\n",
              " ('n02206856', 38),\n",
              " ('n02226429', 39),\n",
              " ('n02231487', 40),\n",
              " ('n02233338', 41),\n",
              " ('n02236044', 42),\n",
              " ('n02268443', 43),\n",
              " ('n02279972', 44),\n",
              " ('n02281406', 45),\n",
              " ('n02321529', 46),\n",
              " ('n02364673', 47),\n",
              " ('n02395406', 48),\n",
              " ('n02403003', 49),\n",
              " ('n02410509', 50),\n",
              " ('n02415577', 51),\n",
              " ('n02423022', 52),\n",
              " ('n02437312', 53),\n",
              " ('n02480495', 54),\n",
              " ('n02481823', 55),\n",
              " ('n02486410', 56),\n",
              " ('n02504458', 57),\n",
              " ('n02509815', 58),\n",
              " ('n02666196', 59),\n",
              " ('n02669723', 60),\n",
              " ('n02699494', 61),\n",
              " ('n02730930', 62),\n",
              " ('n02769748', 63),\n",
              " ('n02788148', 64),\n",
              " ('n02791270', 65),\n",
              " ('n02793495', 66),\n",
              " ('n02795169', 67),\n",
              " ('n02802426', 68),\n",
              " ('n02808440', 69),\n",
              " ('n02814533', 70),\n",
              " ('n02814860', 71),\n",
              " ('n02815834', 72),\n",
              " ('n02823428', 73),\n",
              " ('n02837789', 74),\n",
              " ('n02841315', 75),\n",
              " ('n02843684', 76),\n",
              " ('n02883205', 77),\n",
              " ('n02892201', 78),\n",
              " ('n02906734', 79),\n",
              " ('n02909870', 80),\n",
              " ('n02917067', 81),\n",
              " ('n02927161', 82),\n",
              " ('n02948072', 83),\n",
              " ('n02950826', 84),\n",
              " ('n02963159', 85),\n",
              " ('n02977058', 86),\n",
              " ('n02988304', 87),\n",
              " ('n02999410', 88),\n",
              " ('n03014705', 89),\n",
              " ('n03026506', 90),\n",
              " ('n03042490', 91),\n",
              " ('n03085013', 92),\n",
              " ('n03089624', 93),\n",
              " ('n03100240', 94),\n",
              " ('n03126707', 95),\n",
              " ('n03160309', 96),\n",
              " ('n03179701', 97),\n",
              " ('n03201208', 98),\n",
              " ('n03250847', 99),\n",
              " ('n03255030', 100),\n",
              " ('n03355925', 101),\n",
              " ('n03388043', 102),\n",
              " ('n03393912', 103),\n",
              " ('n03400231', 104),\n",
              " ('n03404251', 105),\n",
              " ('n03424325', 106),\n",
              " ('n03444034', 107),\n",
              " ('n03447447', 108),\n",
              " ('n03544143', 109),\n",
              " ('n03584254', 110),\n",
              " ('n03599486', 111),\n",
              " ('n03617480', 112),\n",
              " ('n03637318', 113),\n",
              " ('n03649909', 114),\n",
              " ('n03662601', 115),\n",
              " ('n03670208', 116),\n",
              " ('n03706229', 117),\n",
              " ('n03733131', 118),\n",
              " ('n03763968', 119),\n",
              " ('n03770439', 120),\n",
              " ('n03796401', 121),\n",
              " ('n03804744', 122),\n",
              " ('n03814639', 123),\n",
              " ('n03837869', 124),\n",
              " ('n03838899', 125),\n",
              " ('n03854065', 126),\n",
              " ('n03891332', 127),\n",
              " ('n03902125', 128),\n",
              " ('n03930313', 129),\n",
              " ('n03937543', 130),\n",
              " ('n03970156', 131),\n",
              " ('n03976657', 132),\n",
              " ('n03977966', 133),\n",
              " ('n03980874', 134),\n",
              " ('n03983396', 135),\n",
              " ('n03992509', 136),\n",
              " ('n04008634', 137),\n",
              " ('n04023962', 138),\n",
              " ('n04067472', 139),\n",
              " ('n04070727', 140),\n",
              " ('n04074963', 141),\n",
              " ('n04099969', 142),\n",
              " ('n04118538', 143),\n",
              " ('n04133789', 144),\n",
              " ('n04146614', 145),\n",
              " ('n04149813', 146),\n",
              " ('n04179913', 147),\n",
              " ('n04251144', 148),\n",
              " ('n04254777', 149),\n",
              " ('n04259630', 150),\n",
              " ('n04265275', 151),\n",
              " ('n04275548', 152),\n",
              " ('n04285008', 153),\n",
              " ('n04311004', 154),\n",
              " ('n04328186', 155),\n",
              " ('n04356056', 156),\n",
              " ('n04366367', 157),\n",
              " ('n04371430', 158),\n",
              " ('n04376876', 159),\n",
              " ('n04398044', 160),\n",
              " ('n04399382', 161),\n",
              " ('n04417672', 162),\n",
              " ('n04456115', 163),\n",
              " ('n04465501', 164),\n",
              " ('n04486054', 165),\n",
              " ('n04487081', 166),\n",
              " ('n04501370', 167),\n",
              " ('n04507155', 168),\n",
              " ('n04532106', 169),\n",
              " ('n04532670', 170),\n",
              " ('n04540053', 171),\n",
              " ('n04560804', 172),\n",
              " ('n04562935', 173),\n",
              " ('n04596742', 174),\n",
              " ('n04597913', 175),\n",
              " ('n06596364', 176),\n",
              " ('n07579787', 177),\n",
              " ('n07583066', 178),\n",
              " ('n07614500', 179),\n",
              " ('n07615774', 180),\n",
              " ('n07695742', 181),\n",
              " ('n07711569', 182),\n",
              " ('n07715103', 183),\n",
              " ('n07720875', 184),\n",
              " ('n07734744', 185),\n",
              " ('n07747607', 186),\n",
              " ('n07749582', 187),\n",
              " ('n07753592', 188),\n",
              " ('n07768694', 189),\n",
              " ('n07871810', 190),\n",
              " ('n07873807', 191),\n",
              " ('n07875152', 192),\n",
              " ('n07920052', 193),\n",
              " ('n09193705', 194),\n",
              " ('n09246464', 195),\n",
              " ('n09256479', 196),\n",
              " ('n09332890', 197),\n",
              " ('n09428293', 198),\n",
              " ('n12267677', 199)}"
            ]
          },
          "metadata": {
            "tags": []
          },
          "execution_count": 13
        },
        {
          "output_type": "display_data",
          "data": {
            "image/png": "[encoded data removed]",
            "text/plain": [
              "<Figure size 432x288 with 1 Axes>"
            ]
          },
          "metadata": {
            "tags": []
          }
        }
      ]
    },
    {
      "cell_type": "code",
      "metadata": {
        "id": "yfJCrRDZ-sdf",
        "colab_type": "code",
        "colab": {}
      },
      "source": [
        "X_train = X_train.astype('float32')\n",
        "X_test = X_test.astype('float32')\n",
        "\n",
        "X_train /= 128.\n",
        "X_test /= 128."
      ],
      "execution_count": 0,
      "outputs": []
    },
    {
      "cell_type": "code",
      "metadata": {
        "id": "gT3F5Pr4ZFzZ",
        "colab_type": "code",
        "outputId": "d966b5bd-98a2-4573-ec45-21bfdc5dd0f4",
        "colab": {
          "base_uri": "https://localhost:8080/",
          "height": 35
        }
      },
      "source": [
        "test_class_mapped == train_class_mapped"
      ],
      "execution_count": 0,
      "outputs": [
        {
          "output_type": "execute_result",
          "data": {
            "text/plain": [
              "True"
            ]
          },
          "metadata": {
            "tags": []
          },
          "execution_count": 15
        }
      ]
    },
    {
      "cell_type": "markdown",
      "metadata": {
        "id": "u-5mklf4Hnf0",
        "colab_type": "text"
      },
      "source": [
        "# Model"
      ]
    },
    {
      "cell_type": "markdown",
      "metadata": {
        "id": "OP93H2eiyvue",
        "colab_type": "text"
      },
      "source": [
        "## Libraries and model building"
      ]
    },
    {
      "cell_type": "code",
      "metadata": {
        "id": "fpNYW-FVoYCR",
        "colab_type": "code",
        "colab": {}
      },
      "source": [
        "import keras\n",
        "from keras.layers.merge import add\n",
        "from keras.models import Model, Sequential\n",
        "from keras.layers import Flatten, Input, merge, Activation,SeparableConv2D\n",
        "from keras.layers import Conv2D, MaxPooling2D, BatchNormalization, GlobalAveragePooling2D\n",
        "from keras.layers import Concatenate\n",
        "from keras.optimizers import Adam\n",
        "from keras.layers.advanced_activations import LeakyReLU,ReLU\n",
        "from keras.layers import Reshape, Activation, Conv2D, Input, MaxPooling2D, BatchNormalization, Flatten, Lambda\n",
        "from keras.layers.merge import concatenate\n",
        "\n",
        "# this part will prevent tensorflow to allocate all the avaliable GPU Memory\n",
        "# backend\n",
        "import tensorflow as tf\n",
        "from keras import backend as k\n",
        "\n",
        "# Don't pre-allocate memory; allocate as-needed\n",
        "config = tf.ConfigProto()\n",
        "config.gpu_options.allow_growth = True\n",
        "\n",
        "# Create a session with the above options specified.\n",
        "k.tensorflow_backend.set_session(tf.Session(config=config))\n",
        "\n",
        "from keras.layers import GlobalAveragePooling2D\n",
        "from keras.layers.merge import add\n",
        "from keras.layers.normalization import BatchNormalization\n",
        "from keras.regularizers import l2\n"
      ],
      "execution_count": 0,
      "outputs": []
    },
    {
      "cell_type": "code",
      "metadata": {
        "id": "ZzYbnsjdudBf",
        "colab_type": "code",
        "colab": {}
      },
      "source": [
        "def space_to_depth_x2(x):\n",
        "    return tf.space_to_depth(x, block_size=2)"
      ],
      "execution_count": 0,
      "outputs": []
    },
    {
      "cell_type": "code",
      "metadata": {
        "id": "vSHNKMJfukwp",
        "colab_type": "code",
        "outputId": "12a8e62b-dec9-4c63-cb55-f1e5bd7dc603",
        "colab": {
          "base_uri": "https://localhost:8080/",
          "height": 105
        }
      },
      "source": [
        "def blocks(inp, kernel_nos, n):\n",
        "\n",
        "  layer1 = Conv2D(kernel_nos, (3,3), strides=(1,1), padding='same', use_bias=False)(inp)\n",
        "  layer1 = BatchNormalization()(layer1)\n",
        "  layer1 = LeakyReLU(alpha=0.1)(layer1)\n",
        "  \n",
        "  kernel_nos *= 2\n",
        " \n",
        "  layer2 = Conv2D(kernel_nos, (3,3), strides=(1,1), padding='same', use_bias=False)(layer1)\n",
        "  layer2 = BatchNormalization()(layer2)\n",
        "  layer2 = LeakyReLU(alpha=0.1)(layer2)\n",
        "    \n",
        "  kernel_nos *= 2\n",
        "\n",
        "  layer3 = Conv2D(kernel_nos, (3,3), strides=(1,1), padding='same', use_bias=False)(layer2)\n",
        "  layer3 = BatchNormalization()(layer3)\n",
        "  layer3 = LeakyReLU(alpha=0.1)(layer3)\n",
        "    \n",
        "  if n==1:\n",
        "    kernel_nos = 96\n",
        "  elif n==2:\n",
        "    kernel_nos = 128\n",
        "  else:\n",
        "    kernel_nos *= 2\n",
        "\n",
        "  layer4 = Conv2D(kernel_nos, (3,3), strides=(1,1), padding='same', use_bias=False)(layer3)\n",
        "  layer4 = BatchNormalization()(layer4)\n",
        "  layer4 = LeakyReLU(alpha=0.1)(layer4)\n",
        "  \n",
        "  if n==1:\n",
        "    kernel_nos = 148\n",
        "  elif n==2:\n",
        "    kernel_nos = 124\n",
        "  elif n==3:\n",
        "    kernel_nos = 640\n",
        "  else:\n",
        "    kernel_nos *= 2\n",
        "\n",
        "  layer5 = Conv2D(kernel_nos, (3,3), strides=(1,1), padding='same', use_bias=False)(layer4)\n",
        "  layer5 = BatchNormalization()(layer5)\n",
        "  layer5 = LeakyReLU(alpha=0.1)(layer5)\n",
        "  \n",
        "  return layer5\n",
        "\n",
        "\n",
        "input = Input(shape=(None, None, 3,))\n",
        "\n",
        "block1 = blocks(input, 16, 1)\n",
        "#add 1X1 --84\n",
        "skip_connection1 = block1\n",
        "skip_connection1 = Conv2D(32, (1,1), strides=(1,1), padding='same', use_bias=False)(skip_connection1)\n",
        "skip_connection1 = Lambda(space_to_depth_x2)(skip_connection1)\n",
        "\n",
        "block2 = blocks(block1, 24, 2)\n",
        "#add 1X1 --84\n",
        "block2 = MaxPooling2D(pool_size=(2, 2))(block2)\n",
        "\n",
        "concat1_2 = concatenate([skip_connection1, block2])\n",
        "#add 1X1 before passing concat to next block\n",
        "block3 = blocks(concat1_2, 48, 3)\n",
        "#add 1X1\n",
        "block3 = MaxPooling2D(pool_size=(2, 2))(block3)\n",
        "\n",
        "skip_connection2 = Conv2D(64, (1,1), strides=(1,1), padding='same', use_bias=False)(concat1_2)\n",
        "skip_connection2 = Lambda(space_to_depth_x2)(skip_connection2)\n",
        "\n",
        "concat2_3 = concatenate([skip_connection2, block3])\n",
        "\n",
        "concat = Conv2D(1024, (1,1), strides=(1,1), padding='same', use_bias=False)(concat2_3)\n",
        "concat = Conv2D(nb_classes, (1,1), strides=(1,1), padding='same', use_bias=False)(concat)\n",
        "\n",
        "concat = GlobalAveragePooling2D()(concat)\n",
        "output = Activation('softmax')(concat)"
      ],
      "execution_count": 0,
      "outputs": [
        {
          "output_type": "stream",
          "text": [
            "WARNING:tensorflow:From /usr/local/lib/python3.6/dist-packages/tensorflow/python/framework/op_def_library.py:263: colocate_with (from tensorflow.python.framework.ops) is deprecated and will be removed in a future version.\n",
            "Instructions for updating:\n",
            "Colocations handled automatically by placer.\n"
          ],
          "name": "stdout"
        }
      ]
    },
    {
      "cell_type": "code",
      "metadata": {
        "id": "0qm9dXbIMdI0",
        "colab_type": "code",
        "outputId": "52ff060a-a94f-43e7-fb1d-c071b5daba39",
        "colab": {
          "base_uri": "https://localhost:8080/",
          "height": 2290
        }
      },
      "source": [
        "model = Model(inputs=[input], outputs=[output])\n",
        "model.summary()"
      ],
      "execution_count": 0,
      "outputs": [
        {
          "output_type": "stream",
          "text": [
            "__________________________________________________________________________________________________\n",
            "Layer (type)                    Output Shape         Param #     Connected to                     \n",
            "==================================================================================================\n",
            "input_1 (InputLayer)            (None, None, None, 3 0                                            \n",
            "__________________________________________________________________________________________________\n",
            "conv2d_1 (Conv2D)               (None, None, None, 1 432         input_1[0][0]                    \n",
            "__________________________________________________________________________________________________\n",
            "batch_normalization_1 (BatchNor (None, None, None, 1 64          conv2d_1[0][0]                   \n",
            "__________________________________________________________________________________________________\n",
            "leaky_re_lu_1 (LeakyReLU)       (None, None, None, 1 0           batch_normalization_1[0][0]      \n",
            "__________________________________________________________________________________________________\n",
            "conv2d_2 (Conv2D)               (None, None, None, 3 4608        leaky_re_lu_1[0][0]              \n",
            "__________________________________________________________________________________________________\n",
            "batch_normalization_2 (BatchNor (None, None, None, 3 128         conv2d_2[0][0]                   \n",
            "__________________________________________________________________________________________________\n",
            "leaky_re_lu_2 (LeakyReLU)       (None, None, None, 3 0           batch_normalization_2[0][0]      \n",
            "__________________________________________________________________________________________________\n",
            "conv2d_3 (Conv2D)               (None, None, None, 6 18432       leaky_re_lu_2[0][0]              \n",
            "__________________________________________________________________________________________________\n",
            "batch_normalization_3 (BatchNor (None, None, None, 6 256         conv2d_3[0][0]                   \n",
            "__________________________________________________________________________________________________\n",
            "leaky_re_lu_3 (LeakyReLU)       (None, None, None, 6 0           batch_normalization_3[0][0]      \n",
            "__________________________________________________________________________________________________\n",
            "conv2d_4 (Conv2D)               (None, None, None, 9 55296       leaky_re_lu_3[0][0]              \n",
            "__________________________________________________________________________________________________\n",
            "batch_normalization_4 (BatchNor (None, None, None, 9 384         conv2d_4[0][0]                   \n",
            "__________________________________________________________________________________________________\n",
            "leaky_re_lu_4 (LeakyReLU)       (None, None, None, 9 0           batch_normalization_4[0][0]      \n",
            "__________________________________________________________________________________________________\n",
            "conv2d_5 (Conv2D)               (None, None, None, 1 127872      leaky_re_lu_4[0][0]              \n",
            "__________________________________________________________________________________________________\n",
            "batch_normalization_5 (BatchNor (None, None, None, 1 592         conv2d_5[0][0]                   \n",
            "__________________________________________________________________________________________________\n",
            "leaky_re_lu_5 (LeakyReLU)       (None, None, None, 1 0           batch_normalization_5[0][0]      \n",
            "__________________________________________________________________________________________________\n",
            "conv2d_7 (Conv2D)               (None, None, None, 2 31968       leaky_re_lu_5[0][0]              \n",
            "__________________________________________________________________________________________________\n",
            "batch_normalization_6 (BatchNor (None, None, None, 2 96          conv2d_7[0][0]                   \n",
            "__________________________________________________________________________________________________\n",
            "leaky_re_lu_6 (LeakyReLU)       (None, None, None, 2 0           batch_normalization_6[0][0]      \n",
            "__________________________________________________________________________________________________\n",
            "conv2d_8 (Conv2D)               (None, None, None, 4 10368       leaky_re_lu_6[0][0]              \n",
            "__________________________________________________________________________________________________\n",
            "batch_normalization_7 (BatchNor (None, None, None, 4 192         conv2d_8[0][0]                   \n",
            "__________________________________________________________________________________________________\n",
            "leaky_re_lu_7 (LeakyReLU)       (None, None, None, 4 0           batch_normalization_7[0][0]      \n",
            "__________________________________________________________________________________________________\n",
            "conv2d_9 (Conv2D)               (None, None, None, 9 41472       leaky_re_lu_7[0][0]              \n",
            "__________________________________________________________________________________________________\n",
            "batch_normalization_8 (BatchNor (None, None, None, 9 384         conv2d_9[0][0]                   \n",
            "__________________________________________________________________________________________________\n",
            "leaky_re_lu_8 (LeakyReLU)       (None, None, None, 9 0           batch_normalization_8[0][0]      \n",
            "__________________________________________________________________________________________________\n",
            "conv2d_10 (Conv2D)              (None, None, None, 1 110592      leaky_re_lu_8[0][0]              \n",
            "__________________________________________________________________________________________________\n",
            "batch_normalization_9 (BatchNor (None, None, None, 1 512         conv2d_10[0][0]                  \n",
            "__________________________________________________________________________________________________\n",
            "leaky_re_lu_9 (LeakyReLU)       (None, None, None, 1 0           batch_normalization_9[0][0]      \n",
            "__________________________________________________________________________________________________\n",
            "conv2d_11 (Conv2D)              (None, None, None, 1 142848      leaky_re_lu_9[0][0]              \n",
            "__________________________________________________________________________________________________\n",
            "batch_normalization_10 (BatchNo (None, None, None, 1 496         conv2d_11[0][0]                  \n",
            "__________________________________________________________________________________________________\n",
            "conv2d_6 (Conv2D)               (None, None, None, 3 4736        leaky_re_lu_5[0][0]              \n",
            "__________________________________________________________________________________________________\n",
            "leaky_re_lu_10 (LeakyReLU)      (None, None, None, 1 0           batch_normalization_10[0][0]     \n",
            "__________________________________________________________________________________________________\n",
            "lambda_1 (Lambda)               (None, None, None, 1 0           conv2d_6[0][0]                   \n",
            "__________________________________________________________________________________________________\n",
            "max_pooling2d_1 (MaxPooling2D)  (None, None, None, 1 0           leaky_re_lu_10[0][0]             \n",
            "__________________________________________________________________________________________________\n",
            "concatenate_1 (Concatenate)     (None, None, None, 2 0           lambda_1[0][0]                   \n",
            "                                                                 max_pooling2d_1[0][0]            \n",
            "__________________________________________________________________________________________________\n",
            "conv2d_12 (Conv2D)              (None, None, None, 4 108864      concatenate_1[0][0]              \n",
            "__________________________________________________________________________________________________\n",
            "batch_normalization_11 (BatchNo (None, None, None, 4 192         conv2d_12[0][0]                  \n",
            "__________________________________________________________________________________________________\n",
            "leaky_re_lu_11 (LeakyReLU)      (None, None, None, 4 0           batch_normalization_11[0][0]     \n",
            "__________________________________________________________________________________________________\n",
            "conv2d_13 (Conv2D)              (None, None, None, 9 41472       leaky_re_lu_11[0][0]             \n",
            "__________________________________________________________________________________________________\n",
            "batch_normalization_12 (BatchNo (None, None, None, 9 384         conv2d_13[0][0]                  \n",
            "__________________________________________________________________________________________________\n",
            "leaky_re_lu_12 (LeakyReLU)      (None, None, None, 9 0           batch_normalization_12[0][0]     \n",
            "__________________________________________________________________________________________________\n",
            "conv2d_14 (Conv2D)              (None, None, None, 1 165888      leaky_re_lu_12[0][0]             \n",
            "__________________________________________________________________________________________________\n",
            "batch_normalization_13 (BatchNo (None, None, None, 1 768         conv2d_14[0][0]                  \n",
            "__________________________________________________________________________________________________\n",
            "leaky_re_lu_13 (LeakyReLU)      (None, None, None, 1 0           batch_normalization_13[0][0]     \n",
            "__________________________________________________________________________________________________\n",
            "conv2d_15 (Conv2D)              (None, None, None, 3 663552      leaky_re_lu_13[0][0]             \n",
            "__________________________________________________________________________________________________\n",
            "batch_normalization_14 (BatchNo (None, None, None, 3 1536        conv2d_15[0][0]                  \n",
            "__________________________________________________________________________________________________\n",
            "leaky_re_lu_14 (LeakyReLU)      (None, None, None, 3 0           batch_normalization_14[0][0]     \n",
            "__________________________________________________________________________________________________\n",
            "conv2d_16 (Conv2D)              (None, None, None, 6 2211840     leaky_re_lu_14[0][0]             \n",
            "__________________________________________________________________________________________________\n",
            "batch_normalization_15 (BatchNo (None, None, None, 6 2560        conv2d_16[0][0]                  \n",
            "__________________________________________________________________________________________________\n",
            "conv2d_17 (Conv2D)              (None, None, None, 6 16128       concatenate_1[0][0]              \n",
            "__________________________________________________________________________________________________\n",
            "leaky_re_lu_15 (LeakyReLU)      (None, None, None, 6 0           batch_normalization_15[0][0]     \n",
            "__________________________________________________________________________________________________\n",
            "lambda_2 (Lambda)               (None, None, None, 2 0           conv2d_17[0][0]                  \n",
            "__________________________________________________________________________________________________\n",
            "max_pooling2d_2 (MaxPooling2D)  (None, None, None, 6 0           leaky_re_lu_15[0][0]             \n",
            "__________________________________________________________________________________________________\n",
            "concatenate_2 (Concatenate)     (None, None, None, 8 0           lambda_2[0][0]                   \n",
            "                                                                 max_pooling2d_2[0][0]            \n",
            "__________________________________________________________________________________________________\n",
            "conv2d_18 (Conv2D)              (None, None, None, 1 917504      concatenate_2[0][0]              \n",
            "__________________________________________________________________________________________________\n",
            "conv2d_19 (Conv2D)              (None, None, None, 2 204800      conv2d_18[0][0]                  \n",
            "__________________________________________________________________________________________________\n",
            "global_average_pooling2d_1 (Glo (None, 200)          0           conv2d_19[0][0]                  \n",
            "__________________________________________________________________________________________________\n",
            "activation_1 (Activation)       (None, 200)          0           global_average_pooling2d_1[0][0] \n",
            "==================================================================================================\n",
            "Total params: 4,887,216\n",
            "Trainable params: 4,882,944\n",
            "Non-trainable params: 4,272\n",
            "__________________________________________________________________________________________________\n"
          ],
          "name": "stdout"
        }
      ]
    },
    {
      "cell_type": "markdown",
      "metadata": {
        "id": "rZoeNFe61Je5",
        "colab_type": "text"
      },
      "source": [
        "## Training"
      ]
    },
    {
      "cell_type": "markdown",
      "metadata": {
        "id": "2IfaR3MnrBaY",
        "colab_type": "text"
      },
      "source": [
        "### Training on 32X32 image size"
      ]
    },
    {
      "cell_type": "code",
      "metadata": {
        "id": "2JEcCmsuNfw7",
        "colab_type": "code",
        "outputId": "88e1875e-5275-4178-dfb2-74812fcb7a5b",
        "colab": {
          "base_uri": "https://localhost:8080/",
          "height": 456
        }
      },
      "source": [
        "print(X_train.shape)\n",
        "print(Y_train.shape)\n",
        "print(X_test.shape)\n",
        "print(Y_test.shape)\n",
        "\n",
        "plt.imshow(X_train[83456])\n",
        "print(np.argmax(Y_train[83456]))\n"
      ],
      "execution_count": 0,
      "outputs": [
        {
          "output_type": "stream",
          "text": [
            "Clipping input data to the valid range for imshow with RGB data ([0..1] for floats or [0..255] for integers).\n"
          ],
          "name": "stderr"
        },
        {
          "output_type": "stream",
          "text": [
            "(100000, 32, 32, 3)\n",
            "(100000, 200)\n",
            "(10000, 32, 32, 3)\n",
            "(10000, 200)\n",
            "174\n"
          ],
          "name": "stdout"
        },
        {
          "output_type": "display_data",
          "data": {
            "image/png": "[encoded data removed]",
            "text/plain": [
              "<Figure size 576x396 with 1 Axes>"
            ]
          },
          "metadata": {
            "tags": []
          }
        }
      ]
    },
    {
      "cell_type": "code",
      "metadata": {
        "id": "a53BW2CNPIgm",
        "colab_type": "code",
        "colab": {}
      },
      "source": [
        "##Setting hyperparameters and callbacks\n",
        "\n",
        "from keras.callbacks import ReduceLROnPlateau, CSVLogger, EarlyStopping, ModelCheckpoint\n",
        "import numpy as np\n",
        "from keras.optimizers import SGD\n",
        "from keras.callbacks import ModelCheckpoint\n",
        "\n",
        "lr_reducer = ReduceLROnPlateau(factor=np.sqrt(0.1), cooldown=0, patience=5, min_lr=0.5e-6)\n",
        "csv_logger = CSVLogger('tinyImageNet.csv')\n",
        "\n",
        "filepath=\"/content/drive/My Drive/ass4/_epochs:{epoch:03d}-acc:{acc:.3f}-val_acc:{val_acc:.3f}.hdf5\"\n",
        "checkpoint = ModelCheckpoint(filepath, monitor='val_acc', verbose=1, save_best_only=True, mode='max', period=3)\n",
        "callbacks_list = [checkpoint, lr_reducer, csv_logger ]\n",
        "\n",
        "epochs = 12\n",
        "learning_rate = 0.01\n",
        "decay_rate = learning_rate / epochs\n",
        "momentum = 0.9\n",
        "\n",
        "## Compiling\n",
        "sgd = SGD(lr=learning_rate, momentum=momentum, decay=decay_rate, nesterov=False)\n",
        "model.compile(loss='categorical_crossentropy',\n",
        "              optimizer=sgd,\n",
        "              metrics=['accuracy'])"
      ],
      "execution_count": 0,
      "outputs": []
    },
    {
      "cell_type": "code",
      "metadata": {
        "id": "mu3_EzTTPXYX",
        "colab_type": "code",
        "outputId": "775e493a-8729-4c20-edfe-d886c837e508",
        "colab": {
          "base_uri": "https://localhost:8080/",
          "height": 1005
        }
      },
      "source": [
        "model.fit(X_train, Y_train,\n",
        "          batch_size=1024,\n",
        "          nb_epoch=epochs,\n",
        "          validation_data=(X_test, Y_test),\n",
        "          shuffle=True,\n",
        "          callbacks = callbacks_list)"
      ],
      "execution_count": 0,
      "outputs": [
        {
          "output_type": "stream",
          "text": [
            "WARNING:tensorflow:From /usr/local/lib/python3.6/dist-packages/tensorflow/python/ops/math_ops.py:3066: to_int32 (from tensorflow.python.ops.math_ops) is deprecated and will be removed in a future version.\n",
            "Instructions for updating:\n",
            "Use tf.cast instead.\n"
          ],
          "name": "stdout"
        },
        {
          "output_type": "stream",
          "text": [
            "/usr/local/lib/python3.6/dist-packages/ipykernel_launcher.py:6: UserWarning: The `nb_epoch` argument in `fit` has been renamed `epochs`.\n",
            "  \n"
          ],
          "name": "stderr"
        },
        {
          "output_type": "stream",
          "text": [
            "Train on 100000 samples, validate on 10000 samples\n",
            "Epoch 1/12\n",
            "100000/100000 [==============================] - 376s 4ms/step - loss: 4.5126 - acc: 0.0809 - val_loss: 4.8652 - val_acc: 0.0743\n",
            "Epoch 2/12\n",
            "100000/100000 [==============================] - 357s 4ms/step - loss: 3.7666 - acc: 0.1740 - val_loss: 3.7499 - val_acc: 0.1753\n",
            "Epoch 3/12\n",
            "100000/100000 [==============================] - 357s 4ms/step - loss: 3.4084 - acc: 0.2319 - val_loss: 3.6868 - val_acc: 0.2021\n",
            "\n",
            "Epoch 00003: val_acc improved from -inf to 0.20210, saving model to /content/drive/My Drive/ass4/_epochs:003-acc:0.232-val_acc:0.202.hdf5\n",
            "Epoch 4/12\n",
            "100000/100000 [==============================] - 357s 4ms/step - loss: 3.1659 - acc: 0.2748 - val_loss: 3.3317 - val_acc: 0.2443\n",
            "Epoch 5/12\n",
            "100000/100000 [==============================] - 357s 4ms/step - loss: 2.9830 - acc: 0.3089 - val_loss: 3.2436 - val_acc: 0.2613\n",
            "Epoch 6/12\n",
            "100000/100000 [==============================] - 357s 4ms/step - loss: 2.8426 - acc: 0.3341 - val_loss: 3.0343 - val_acc: 0.3057\n",
            "\n",
            "Epoch 00006: val_acc improved from 0.20210 to 0.30570, saving model to /content/drive/My Drive/ass4/_epochs:006-acc:0.334-val_acc:0.306.hdf5\n",
            "Epoch 7/12\n",
            "100000/100000 [==============================] - 357s 4ms/step - loss: 2.7246 - acc: 0.3592 - val_loss: 2.9903 - val_acc: 0.3183\n",
            "Epoch 8/12\n",
            "100000/100000 [==============================] - 358s 4ms/step - loss: 2.6246 - acc: 0.3765 - val_loss: 2.9572 - val_acc: 0.3218\n",
            "Epoch 9/12\n",
            "100000/100000 [==============================] - 358s 4ms/step - loss: 2.5321 - acc: 0.3965 - val_loss: 2.8731 - val_acc: 0.3387\n",
            "\n",
            "Epoch 00009: val_acc improved from 0.30570 to 0.33870, saving model to /content/drive/My Drive/ass4/_epochs:009-acc:0.396-val_acc:0.339.hdf5\n",
            "Epoch 10/12\n",
            "100000/100000 [==============================] - 357s 4ms/step - loss: 2.4510 - acc: 0.4126 - val_loss: 2.8183 - val_acc: 0.3411\n",
            "Epoch 11/12\n",
            "100000/100000 [==============================] - 361s 4ms/step - loss: 2.3773 - acc: 0.4274 - val_loss: 2.8222 - val_acc: 0.3435\n",
            "Epoch 12/12\n",
            "100000/100000 [==============================] - 361s 4ms/step - loss: 2.3129 - acc: 0.4410 - val_loss: 2.8119 - val_acc: 0.3449\n",
            "\n",
            "Epoch 00012: val_acc improved from 0.33870 to 0.34490, saving model to /content/drive/My Drive/ass4/_epochs:012-acc:0.441-val_acc:0.345.hdf5\n"
          ],
          "name": "stdout"
        },
        {
          "output_type": "execute_result",
          "data": {
            "text/plain": [
              "<keras.callbacks.History at 0x7f398856f828>"
            ]
          },
          "metadata": {
            "tags": []
          },
          "execution_count": 23
        }
      ]
    },
    {
      "cell_type": "markdown",
      "metadata": {
        "id": "n-5helxJk28E",
        "colab_type": "text"
      },
      "source": [
        "### Training for 16x16\n",
        "- I am changing image size by running code chunk from above\n",
        "- Below code prints the shape of X_train, Y_train, X_test, Y_test after loading of images are done in 16X16 size\n",
        "\n"
      ]
    },
    {
      "cell_type": "code",
      "metadata": {
        "id": "YBOXhnRCkmMF",
        "colab_type": "code",
        "outputId": "bbebb206-5065-45d9-c7fb-41c0e92f37ca",
        "colab": {
          "base_uri": "https://localhost:8080/",
          "height": 90
        }
      },
      "source": [
        "print(X_train.shape)\n",
        "print(Y_train.shape)\n",
        "print(X_test.shape)\n",
        "print(Y_test.shape)"
      ],
      "execution_count": 0,
      "outputs": [
        {
          "output_type": "stream",
          "text": [
            "(100000, 16, 16, 3)\n",
            "(100000, 200)\n",
            "(10000, 16, 16, 3)\n",
            "(10000, 200)\n"
          ],
          "name": "stdout"
        }
      ]
    },
    {
      "cell_type": "code",
      "metadata": {
        "id": "lqg2WSeanSak",
        "colab_type": "code",
        "outputId": "c8b3cce2-23c8-46a6-b0c5-9bed377eb68d",
        "colab": {
          "base_uri": "https://localhost:8080/",
          "height": 1005
        }
      },
      "source": [
        "filepath=\"/content/drive/My Drive/ass4/_32_16_epochs:{epoch:03d}-acc:{acc:.3f}-val_acc:{val_acc:.3f}.hdf5\"\n",
        "checkpoint = ModelCheckpoint(filepath, monitor='val_acc', verbose=1, save_best_only=True, mode='max', period=3)\n",
        "callbacks_list = [checkpoint, lr_reducer, csv_logger ]\n",
        "\n",
        "epochs = 9\n",
        "\n",
        "model.fit(X_train, Y_train,\n",
        "          batch_size=1024,\n",
        "          nb_epoch=epochs,\n",
        "          validation_data=(X_test, Y_test),\n",
        "          shuffle=True,\n",
        "          callbacks = callbacks_list)"
      ],
      "execution_count": 0,
      "outputs": [
        {
          "output_type": "stream",
          "text": [
            "/usr/local/lib/python3.6/dist-packages/ipykernel_launcher.py:12: UserWarning: The `nb_epoch` argument in `fit` has been renamed `epochs`.\n",
            "  if sys.path[0] == '':\n"
          ],
          "name": "stderr"
        },
        {
          "output_type": "stream",
          "text": [
            "Train on 100000 samples, validate on 10000 samples\n",
            "Epoch 1/9\n",
            "100000/100000 [==============================] - 104s 1ms/step - loss: 3.1571 - acc: 0.2888 - val_loss: 3.4384 - val_acc: 0.2438\n",
            "Epoch 2/9\n",
            "100000/100000 [==============================] - 92s 921us/step - loss: 2.9716 - acc: 0.3141 - val_loss: 3.2440 - val_acc: 0.2748\n",
            "Epoch 3/9\n",
            "100000/100000 [==============================] - 92s 920us/step - loss: 2.8838 - acc: 0.3306 - val_loss: 3.1833 - val_acc: 0.2821\n",
            "\n",
            "Epoch 00003: val_acc improved from -inf to 0.28210, saving model to /content/drive/My Drive/ass4/_32_16_epochs:003-acc:0.331-val_acc:0.282.hdf5\n",
            "Epoch 4/9\n",
            "100000/100000 [==============================] - 92s 922us/step - loss: 2.8187 - acc: 0.3424 - val_loss: 3.1610 - val_acc: 0.2908\n",
            "Epoch 5/9\n",
            "100000/100000 [==============================] - 92s 922us/step - loss: 2.7616 - acc: 0.3544 - val_loss: 3.1560 - val_acc: 0.2914\n",
            "Epoch 6/9\n",
            "100000/100000 [==============================] - 92s 919us/step - loss: 2.7091 - acc: 0.3635 - val_loss: 3.1301 - val_acc: 0.2949\n",
            "\n",
            "Epoch 00006: val_acc improved from 0.28210 to 0.29490, saving model to /content/drive/My Drive/ass4/_32_16_epochs:006-acc:0.364-val_acc:0.295.hdf5\n",
            "Epoch 7/9\n",
            "100000/100000 [==============================] - 92s 922us/step - loss: 2.6640 - acc: 0.3716 - val_loss: 3.1394 - val_acc: 0.2920\n",
            "Epoch 8/9\n",
            "100000/100000 [==============================] - 92s 922us/step - loss: 2.6195 - acc: 0.3816 - val_loss: 3.1424 - val_acc: 0.2928\n",
            "Epoch 9/9\n",
            "100000/100000 [==============================] - 92s 921us/step - loss: 2.5764 - acc: 0.3900 - val_loss: 3.1171 - val_acc: 0.2969\n",
            "\n",
            "Epoch 00009: val_acc improved from 0.29490 to 0.29690, saving model to /content/drive/My Drive/ass4/_32_16_epochs:009-acc:0.390-val_acc:0.297.hdf5\n"
          ],
          "name": "stdout"
        },
        {
          "output_type": "execute_result",
          "data": {
            "text/plain": [
              "<keras.callbacks.History at 0x7f396e2da7b8>"
            ]
          },
          "metadata": {
            "tags": []
          },
          "execution_count": 45
        }
      ]
    },
    {
      "cell_type": "markdown",
      "metadata": {
        "id": "wF2CJJKYvcZ_",
        "colab_type": "text"
      },
      "source": [
        "### Training for 64X64\n",
        "- I am changing image size by running code chunk from above\n",
        "- Below code prints the shape of X_train, Y_train, X_test, Y_test after loading of images are done in 64X64 size\n",
        "\n"
      ]
    },
    {
      "cell_type": "code",
      "metadata": {
        "id": "BZNo-i9KxpyD",
        "colab_type": "code",
        "outputId": "fd00d403-5812-475b-941f-e1ecd925b28d",
        "colab": {
          "base_uri": "https://localhost:8080/",
          "height": 90
        }
      },
      "source": [
        "print(X_train.shape)\n",
        "print(Y_train.shape)\n",
        "print(X_test.shape)\n",
        "print(Y_test.shape)"
      ],
      "execution_count": 0,
      "outputs": [
        {
          "output_type": "stream",
          "text": [
            "(100000, 64, 64, 3)\n",
            "(100000, 200)\n",
            "(10000, 64, 64, 3)\n",
            "(10000, 200)\n"
          ],
          "name": "stdout"
        }
      ]
    },
    {
      "cell_type": "code",
      "metadata": {
        "id": "u_-9eC6Axojd",
        "colab_type": "code",
        "outputId": "b1ae7b6c-1aab-4c56-c0ce-727eb23b591a",
        "colab": {
          "base_uri": "https://localhost:8080/",
          "height": 1005
        }
      },
      "source": [
        "filepath=\"/content/drive/My Drive/ass4/_32_16_64_epochs:{epoch:03d}-acc:{acc:.3f}-val_acc:{val_acc:.3f}.hdf5\"\n",
        "checkpoint = ModelCheckpoint(filepath, monitor='val_acc', verbose=1, save_best_only=True, mode='max')\n",
        "\n",
        "callbacks_list = [checkpoint, lr_reducer, csv_logger ]\n",
        "\n",
        "epochs = 1\n",
        "\n",
        "model.fit(X_train, Y_train,\n",
        "          batch_size=128,\n",
        "          nb_epoch=epochs,\n",
        "          validation_data=(X_test, Y_test),\n",
        "          shuffle=True,\n",
        "          callbacks = callbacks_list)"
      ],
      "execution_count": 0,
      "outputs": [
        {
          "output_type": "stream",
          "text": [
            "/usr/local/lib/python3.6/dist-packages/ipykernel_launcher.py:12: UserWarning: The `nb_epoch` argument in `fit` has been renamed `epochs`.\n",
            "  if sys.path[0] == '':\n"
          ],
          "name": "stderr"
        },
        {
          "output_type": "stream",
          "text": [
            "Train on 100000 samples, validate on 10000 samples\n",
            "Epoch 1/1\n",
            "100000/100000 [==============================] - 1813s 18ms/step - loss: 2.8058 - acc: 0.3481 - val_loss: 2.8848 - val_acc: 0.3303\n",
            "\n",
            "Epoch 00001: val_acc improved from -inf to 0.33030, saving model to /content/drive/My Drive/ass4/_32_16_64_epochs:001-acc:0.348-val_acc:0.330.hdf5\n"
          ],
          "name": "stdout"
        },
        {
          "output_type": "execute_result",
          "data": {
            "text/plain": [
              "<keras.callbacks.History at 0x7f396dfdccc0>"
            ]
          },
          "metadata": {
            "tags": []
          },
          "execution_count": 53
        }
      ]
    },
    {
      "cell_type": "code",
      "metadata": {
        "id": "AQtF4jlX5O8Y",
        "colab_type": "code",
        "colab": {}
      },
      "source": [
        "## Loading Model from the last 16X16 checkpoint  \n",
        "from keras.models import load_model\n",
        "import tensorflow as tf\n",
        "model = load_model('/content/drive/My Drive/ass4/_32_16_epochs:009-acc:0.390-val_acc:0.297.hdf5',custom_objects={'tf': tf})\n"
      ],
      "execution_count": 0,
      "outputs": []
    },
    {
      "cell_type": "code",
      "metadata": {
        "id": "0UW1NEba8IBD",
        "colab_type": "code",
        "outputId": "5e1d1c6b-ffb7-4d98-8769-e7de91c29289",
        "colab": {
          "base_uri": "https://localhost:8080/",
          "height": 1005
        }
      },
      "source": [
        "from keras.callbacks import ReduceLROnPlateau, CSVLogger, ModelCheckpoint\n",
        "from keras.callbacks import ModelCheckpoint\n",
        "lr_reducer = ReduceLROnPlateau(factor=np.sqrt(0.1), cooldown=0, patience=5, min_lr=0.5e-6)\n",
        "csv_logger = CSVLogger('tinyImageNet.csv')\n",
        "\n",
        "\n",
        "filepath=\"/content/drive/My Drive/ass4/_32_16_64_epochs:{epoch:03d}-acc:{acc:.3f}-val_acc:{val_acc:.3f}.hdf5\"\n",
        "checkpoint = ModelCheckpoint(filepath, monitor='val_acc', verbose=1, save_best_only=True, mode='max')\n",
        "callbacks_list = [checkpoint, lr_reducer, csv_logger ]\n",
        "\n",
        "epochs = 9\n",
        "\n",
        "model.fit(X_train, Y_train,\n",
        "          batch_size=128,\n",
        "          nb_epoch=epochs,\n",
        "          validation_data=(X_test, Y_test),\n",
        "          shuffle=True,\n",
        "          callbacks = callbacks_list)"
      ],
      "execution_count": 0,
      "outputs": [
        {
          "output_type": "stream",
          "text": [
            "/usr/local/lib/python3.6/dist-packages/ipykernel_launcher.py:18: UserWarning: The `nb_epoch` argument in `fit` has been renamed `epochs`.\n"
          ],
          "name": "stderr"
        },
        {
          "output_type": "stream",
          "text": [
            "Train on 100000 samples, validate on 10000 samples\n",
            "Epoch 1/9\n",
            "100000/100000 [==============================] - 1934s 19ms/step - loss: 2.8071 - acc: 0.3475 - val_loss: 2.9046 - val_acc: 0.3271\n",
            "\n",
            "Epoch 00001: val_acc improved from -inf to 0.32710, saving model to /content/drive/My Drive/ass4/_32_16_64_epochs:001-acc:0.348-val_acc:0.327.hdf5\n",
            "Epoch 2/9\n",
            "100000/100000 [==============================] - 1916s 19ms/step - loss: 2.5514 - acc: 0.3966 - val_loss: 3.0069 - val_acc: 0.3130\n",
            "\n",
            "Epoch 00002: val_acc did not improve from 0.32710\n",
            "Epoch 3/9\n",
            "100000/100000 [==============================] - 1914s 19ms/step - loss: 2.4395 - acc: 0.4191 - val_loss: 2.8964 - val_acc: 0.3279\n",
            "\n",
            "Epoch 00003: val_acc improved from 0.32710 to 0.32790, saving model to /content/drive/My Drive/ass4/_32_16_64_epochs:003-acc:0.419-val_acc:0.328.hdf5\n",
            "Epoch 4/9\n",
            "100000/100000 [==============================] - 1916s 19ms/step - loss: 2.3522 - acc: 0.4360 - val_loss: 2.8784 - val_acc: 0.3360\n",
            "\n",
            "Epoch 00004: val_acc improved from 0.32790 to 0.33600, saving model to /content/drive/My Drive/ass4/_32_16_64_epochs:004-acc:0.436-val_acc:0.336.hdf5\n",
            "Epoch 5/9\n",
            "100000/100000 [==============================] - 1920s 19ms/step - loss: 2.2833 - acc: 0.4510 - val_loss: 2.5720 - val_acc: 0.3899\n",
            "\n",
            "Epoch 00005: val_acc improved from 0.33600 to 0.38990, saving model to /content/drive/My Drive/ass4/_32_16_64_epochs:005-acc:0.451-val_acc:0.390.hdf5\n",
            "Epoch 6/9\n",
            "100000/100000 [==============================] - 1917s 19ms/step - loss: 2.2269 - acc: 0.4615 - val_loss: 2.5063 - val_acc: 0.4042\n",
            "\n",
            "Epoch 00006: val_acc improved from 0.38990 to 0.40420, saving model to /content/drive/My Drive/ass4/_32_16_64_epochs:006-acc:0.462-val_acc:0.404.hdf5\n",
            "Epoch 7/9\n",
            "100000/100000 [==============================] - 1911s 19ms/step - loss: 2.1685 - acc: 0.4738 - val_loss: 2.5855 - val_acc: 0.3941\n",
            "\n",
            "Epoch 00007: val_acc did not improve from 0.40420\n",
            "Epoch 8/9\n",
            "100000/100000 [==============================] - 1917s 19ms/step - loss: 2.1247 - acc: 0.4817 - val_loss: 2.8423 - val_acc: 0.3509\n",
            "\n",
            "Epoch 00008: val_acc did not improve from 0.40420\n",
            "Epoch 9/9\n",
            "100000/100000 [==============================] - 1917s 19ms/step - loss: 2.0780 - acc: 0.4934 - val_loss: 2.4323 - val_acc: 0.4214\n",
            "\n",
            "Epoch 00009: val_acc improved from 0.40420 to 0.42140, saving model to /content/drive/My Drive/ass4/_32_16_64_epochs:009-acc:0.493-val_acc:0.421.hdf5\n"
          ],
          "name": "stdout"
        },
        {
          "output_type": "execute_result",
          "data": {
            "text/plain": [
              "<keras.callbacks.History at 0x7f9c147a9550>"
            ]
          },
          "metadata": {
            "tags": []
          },
          "execution_count": 23
        }
      ]
    },
    {
      "cell_type": "markdown",
      "metadata": {
        "id": "8sqqT0OdUHY_",
        "colab_type": "text"
      },
      "source": [
        "### Training on 32X32 again"
      ]
    },
    {
      "cell_type": "code",
      "metadata": {
        "id": "hkmCbZ0nUNDw",
        "colab_type": "code",
        "outputId": "50563358-e565-44e0-90cb-c0412a8d2dc0",
        "colab": {
          "base_uri": "https://localhost:8080/",
          "height": 456
        }
      },
      "source": [
        "print(X_train.shape)\n",
        "print(Y_train.shape)\n",
        "print(X_test.shape)\n",
        "print(Y_test.shape)\n",
        "\n",
        "plt.imshow(X_train[83456])\n",
        "print(np.argmax(Y_train[83456]))\n"
      ],
      "execution_count": 0,
      "outputs": [
        {
          "output_type": "stream",
          "text": [
            "Clipping input data to the valid range for imshow with RGB data ([0..1] for floats or [0..255] for integers).\n"
          ],
          "name": "stderr"
        },
        {
          "output_type": "stream",
          "text": [
            "(100000, 32, 32, 3)\n",
            "(100000, 200)\n",
            "(10000, 32, 32, 3)\n",
            "(10000, 200)\n",
            "161\n"
          ],
          "name": "stdout"
        },
        {
          "output_type": "display_data",
          "data": {
            "image/png": "[encoded data removed]",
            "text/plain": [
              "<Figure size 576x396 with 1 Axes>"
            ]
          },
          "metadata": {
            "tags": []
          }
        }
      ]
    },
    {
      "cell_type": "code",
      "metadata": {
        "id": "940aA1zgUhvH",
        "colab_type": "code",
        "outputId": "27e4fd99-53e9-43c0-9f86-b3b83712ede3",
        "colab": {
          "base_uri": "https://localhost:8080/",
          "height": 151
        }
      },
      "source": [
        "from keras.models import load_model\n",
        "import tensorflow as tf\n",
        "model2 = load_model('/content/drive/My Drive/ass4/_32_16_64_epochs:009-acc:0.493-val_acc:0.421.hdf5',custom_objects={'tf': tf})\n"
      ],
      "execution_count": 0,
      "outputs": [
        {
          "output_type": "stream",
          "text": [
            "WARNING:tensorflow:From /usr/local/lib/python3.6/dist-packages/tensorflow/python/framework/op_def_library.py:263: colocate_with (from tensorflow.python.framework.ops) is deprecated and will be removed in a future version.\n",
            "Instructions for updating:\n",
            "Colocations handled automatically by placer.\n",
            "WARNING:tensorflow:From /usr/local/lib/python3.6/dist-packages/tensorflow/python/ops/math_ops.py:3066: to_int32 (from tensorflow.python.ops.math_ops) is deprecated and will be removed in a future version.\n",
            "Instructions for updating:\n",
            "Use tf.cast instead.\n"
          ],
          "name": "stdout"
        }
      ]
    },
    {
      "cell_type": "code",
      "metadata": {
        "id": "fEnjNx3zUlgz",
        "colab_type": "code",
        "outputId": "4f8448c1-80bc-46a4-84fd-f3d41e69bc06",
        "colab": {
          "base_uri": "https://localhost:8080/",
          "height": 674
        }
      },
      "source": [
        "from keras.callbacks import ReduceLROnPlateau, CSVLogger, ModelCheckpoint\n",
        "from keras.callbacks import ModelCheckpoint\n",
        "lr_reducer = ReduceLROnPlateau(factor=np.sqrt(0.1), cooldown=0, patience=5, min_lr=0.5e-6)\n",
        "csv_logger = CSVLogger('tinyImageNet.csv')\n",
        "\n",
        "\n",
        "filepath=\"/content/drive/My Drive/ass4/_32_16_64_32_epochs:{epoch:03d}-acc:{acc:.3f}-val_acc:{val_acc:.3f}.hdf5\"\n",
        "checkpoint = ModelCheckpoint(filepath, monitor='val_acc', verbose=1, save_best_only=True, mode='max', period=3)\n",
        "callbacks_list = [checkpoint, lr_reducer, csv_logger ]\n",
        "\n",
        "epochs = 12\n",
        "\n",
        "model2.fit(X_train, Y_train,\n",
        "          batch_size=256,\n",
        "          nb_epoch=epochs,\n",
        "          validation_data=(X_test, Y_test),\n",
        "          shuffle=True,\n",
        "          callbacks = callbacks_list)"
      ],
      "execution_count": 0,
      "outputs": [
        {
          "output_type": "stream",
          "text": [
            "/usr/local/lib/python3.6/dist-packages/ipykernel_launcher.py:18: UserWarning: The `nb_epoch` argument in `fit` has been renamed `epochs`.\n"
          ],
          "name": "stderr"
        },
        {
          "output_type": "stream",
          "text": [
            "Train on 100000 samples, validate on 10000 samples\n",
            "Epoch 1/12\n",
            "100000/100000 [==============================] - 406s 4ms/step - loss: 2.3056 - acc: 0.4467 - val_loss: 2.6119 - val_acc: 0.3969\n",
            "Epoch 2/12\n",
            "100000/100000 [==============================] - 383s 4ms/step - loss: 2.0941 - acc: 0.4850 - val_loss: 2.5308 - val_acc: 0.4097\n",
            "Epoch 3/12\n",
            "100000/100000 [==============================] - 384s 4ms/step - loss: 2.0177 - acc: 0.5016 - val_loss: 2.4976 - val_acc: 0.4166\n",
            "\n",
            "Epoch 00003: val_acc improved from -inf to 0.41660, saving model to /content/drive/My Drive/ass4/_32_16_64_32_epochs:003-acc:0.502-val_acc:0.417.hdf5\n",
            "Epoch 4/12\n",
            "100000/100000 [==============================] - 384s 4ms/step - loss: 1.9644 - acc: 0.5119 - val_loss: 2.4869 - val_acc: 0.4149\n",
            "Epoch 5/12\n",
            "100000/100000 [==============================] - 383s 4ms/step - loss: 1.9219 - acc: 0.5220 - val_loss: 2.5112 - val_acc: 0.4194\n",
            "Epoch 6/12\n",
            "100000/100000 [==============================] - 384s 4ms/step - loss: 1.8816 - acc: 0.5311 - val_loss: 2.4403 - val_acc: 0.4208\n",
            "\n",
            "Epoch 00006: val_acc improved from 0.41660 to 0.42080, saving model to /content/drive/My Drive/ass4/_32_16_64_32_epochs:006-acc:0.531-val_acc:0.421.hdf5\n",
            "Epoch 7/12\n",
            "100000/100000 [==============================] - 383s 4ms/step - loss: 1.8478 - acc: 0.5386 - val_loss: 2.4986 - val_acc: 0.4260\n",
            "Epoch 8/12\n",
            "100000/100000 [==============================] - 383s 4ms/step - loss: 1.8130 - acc: 0.5471 - val_loss: 2.4638 - val_acc: 0.4236\n",
            "Epoch 9/12\n",
            "100000/100000 [==============================] - 381s 4ms/step - loss: 1.7830 - acc: 0.5527 - val_loss: 2.4521 - val_acc: 0.4232\n",
            "\n",
            "Epoch 00009: val_acc improved from 0.42080 to 0.42320, saving model to /content/drive/My Drive/ass4/_32_16_64_32_epochs:009-acc:0.553-val_acc:0.423.hdf5\n",
            "Epoch 10/12\n",
            "100000/100000 [==============================] - 382s 4ms/step - loss: 1.7505 - acc: 0.5619 - val_loss: 2.4510 - val_acc: 0.4258\n",
            "Epoch 11/12\n",
            "100000/100000 [==============================] - 382s 4ms/step - loss: 1.7206 - acc: 0.5677 - val_loss: 2.4684 - val_acc: 0.4288\n",
            "Epoch 12/12\n",
            "100000/100000 [==============================] - 381s 4ms/step - loss: 1.6382 - acc: 0.5901 - val_loss: 2.3952 - val_acc: 0.4383\n",
            "\n",
            "Epoch 00012: val_acc improved from 0.42320 to 0.43830, saving model to /content/drive/My Drive/ass4/_32_16_64_32_epochs:012-acc:0.590-val_acc:0.438.hdf5\n"
          ],
          "name": "stdout"
        },
        {
          "output_type": "execute_result",
          "data": {
            "text/plain": [
              "<keras.callbacks.History at 0x7fdc6b37b080>"
            ]
          },
          "metadata": {
            "tags": []
          },
          "execution_count": 20
        }
      ]
    },
    {
      "cell_type": "markdown",
      "metadata": {
        "id": "mXAfETrJ1RQV",
        "colab_type": "text"
      },
      "source": [
        "### Training on 16X16 again"
      ]
    },
    {
      "cell_type": "code",
      "metadata": {
        "id": "kjnengcT1XPh",
        "colab_type": "code",
        "outputId": "b8f9e44f-a242-4ea9-ebce-8b28eceb27ff",
        "colab": {
          "base_uri": "https://localhost:8080/",
          "height": 90
        }
      },
      "source": [
        "print(X_train.shape)\n",
        "print(Y_train.shape)\n",
        "print(X_test.shape)\n",
        "print(Y_test.shape)"
      ],
      "execution_count": 0,
      "outputs": [
        {
          "output_type": "stream",
          "text": [
            "(100000, 16, 16, 3)\n",
            "(100000, 200)\n",
            "(10000, 16, 16, 3)\n",
            "(10000, 200)\n"
          ],
          "name": "stdout"
        }
      ]
    },
    {
      "cell_type": "code",
      "metadata": {
        "id": "djh6TgHL1bmY",
        "colab_type": "code",
        "outputId": "392dc4c7-0953-485f-89c8-69267b0aa5e7",
        "colab": {
          "base_uri": "https://localhost:8080/",
          "height": 1005
        }
      },
      "source": [
        "filepath=\"/content/drive/My Drive/ass4/_32_16_64_32_16_epochs:{epoch:03d}-acc:{acc:.3f}-val_acc:{val_acc:.3f}.hdf5\"\n",
        "checkpoint = ModelCheckpoint(filepath, monitor='val_acc', verbose=1, save_best_only=True, mode='max', period=3)\n",
        "\n",
        "callbacks_list = [checkpoint, lr_reducer, csv_logger ]\n",
        "\n",
        "epochs = 6\n",
        "\n",
        "model2.fit(X_train, Y_train,\n",
        "          batch_size=1024,\n",
        "          nb_epoch=epochs,\n",
        "          validation_data=(X_test, Y_test),\n",
        "          shuffle=True,\n",
        "          callbacks = callbacks_list)"
      ],
      "execution_count": 0,
      "outputs": [
        {
          "output_type": "stream",
          "text": [
            "/usr/local/lib/python3.6/dist-packages/ipykernel_launcher.py:13: UserWarning: The `nb_epoch` argument in `fit` has been renamed `epochs`.\n",
            "  del sys.path[0]\n"
          ],
          "name": "stderr"
        },
        {
          "output_type": "stream",
          "text": [
            "Train on 100000 samples, validate on 10000 samples\n",
            "Epoch 1/6\n",
            "100000/100000 [==============================] - 123s 1ms/step - loss: 3.5346 - acc: 0.2901 - val_loss: 3.7975 - val_acc: 0.2308\n",
            "Epoch 2/6\n",
            "100000/100000 [==============================] - 98s 977us/step - loss: 3.1277 - acc: 0.3193 - val_loss: 3.5308 - val_acc: 0.2667\n",
            "Epoch 3/6\n",
            "100000/100000 [==============================] - 97s 974us/step - loss: 2.9718 - acc: 0.3324 - val_loss: 3.4486 - val_acc: 0.2775\n",
            "\n",
            "Epoch 00003: val_acc improved from -inf to 0.27750, saving model to /content/drive/My Drive/ass4/_32_16_64_32_16_epochs:003-acc:0.332-val_acc:0.278.hdf5\n",
            "Epoch 4/6\n",
            "100000/100000 [==============================] - 97s 973us/step - loss: 2.8763 - acc: 0.3416 - val_loss: 3.3753 - val_acc: 0.2844\n",
            "Epoch 5/6\n",
            "100000/100000 [==============================] - 97s 974us/step - loss: 2.8119 - acc: 0.3502 - val_loss: 3.3210 - val_acc: 0.2900\n",
            "Epoch 6/6\n",
            "100000/100000 [==============================] - 98s 977us/step - loss: 2.7637 - acc: 0.3574 - val_loss: 3.2868 - val_acc: 0.2911\n",
            "\n",
            "Epoch 00006: val_acc improved from 0.27750 to 0.29110, saving model to /content/drive/My Drive/ass4/_32_16_64_32_16_epochs:006-acc:0.357-val_acc:0.291.hdf5\n"
          ],
          "name": "stdout"
        },
        {
          "output_type": "execute_result",
          "data": {
            "text/plain": [
              "<keras.callbacks.History at 0x7fdc4e8c1f60>"
            ]
          },
          "metadata": {
            "tags": []
          },
          "execution_count": 30
        }
      ]
    },
    {
      "cell_type": "markdown",
      "metadata": {
        "id": "9RwCji7aK1nH",
        "colab_type": "text"
      },
      "source": [
        "### Training for 64X64 again"
      ]
    },
    {
      "cell_type": "code",
      "metadata": {
        "id": "jr-UQVsCOCIa",
        "colab_type": "code",
        "outputId": "6f44cb54-3c50-4366-c89f-cdcaa6cdc843",
        "colab": {
          "base_uri": "https://localhost:8080/",
          "height": 90
        }
      },
      "source": [
        "print(X_train.shape)\n",
        "print(Y_train.shape)\n",
        "print(X_test.shape)\n",
        "print(Y_test.shape)"
      ],
      "execution_count": 0,
      "outputs": [
        {
          "output_type": "stream",
          "text": [
            "(100000, 64, 64, 3)\n",
            "(100000, 200)\n",
            "(10000, 64, 64, 3)\n",
            "(10000, 200)\n"
          ],
          "name": "stdout"
        }
      ]
    },
    {
      "cell_type": "code",
      "metadata": {
        "id": "y3rtu6UqnoXQ",
        "colab_type": "code",
        "outputId": "8e1f7a34-8993-4111-c95b-1035b735ff92",
        "colab": {
          "base_uri": "https://localhost:8080/",
          "height": 160
        }
      },
      "source": [
        "## loading model from previous checkpoint\n",
        "\n",
        "from keras.models import load_model\n",
        "import tensorflow as tf\n",
        "model2 = load_model('/content/drive/My Drive/ass4/_32_16_64_32_16_epochs:006-acc:0.357-val_acc:0.291.hdf5',custom_objects={'tf': tf})\n"
      ],
      "execution_count": 0,
      "outputs": [
        {
          "output_type": "stream",
          "text": [
            "WARNING:tensorflow:From /usr/local/lib/python3.6/dist-packages/tensorflow/python/framework/op_def_library.py:263: colocate_with (from tensorflow.python.framework.ops) is deprecated and will be removed in a future version.\n",
            "Instructions for updating:\n",
            "Colocations handled automatically by placer.\n",
            "WARNING:tensorflow:From /usr/local/lib/python3.6/dist-packages/tensorflow/python/ops/math_ops.py:3066: to_int32 (from tensorflow.python.ops.math_ops) is deprecated and will be removed in a future version.\n",
            "Instructions for updating:\n",
            "Use tf.cast instead.\n"
          ],
          "name": "stdout"
        }
      ]
    },
    {
      "cell_type": "code",
      "metadata": {
        "id": "GPx43NkdoIoC",
        "colab_type": "code",
        "colab": {}
      },
      "source": [
        "from keras.callbacks import ReduceLROnPlateau, CSVLogger, ModelCheckpoint\n",
        "from keras.callbacks import ModelCheckpoint\n",
        "lr_reducer = ReduceLROnPlateau(factor=np.sqrt(0.1), cooldown=0, patience=5, min_lr=0.5e-6)\n",
        "csv_logger = CSVLogger('tinyImageNet.csv')"
      ],
      "execution_count": 0,
      "outputs": []
    },
    {
      "cell_type": "code",
      "metadata": {
        "id": "BU2vDJpHOOCn",
        "colab_type": "code",
        "outputId": "78e8c0d0-a121-4b86-ac4b-bbc28b516b89",
        "colab": {
          "base_uri": "https://localhost:8080/",
          "height": 1005
        }
      },
      "source": [
        "filepath=\"/content/drive/My Drive/ass4/_32_16_64_32_16_64_epochs:{epoch:03d}-acc:{acc:.3f}-val_acc:{val_acc:.3f}.hdf5\"\n",
        "checkpoint = ModelCheckpoint(filepath, monitor='val_acc', verbose=1, save_best_only=True, mode='max', period=3)\n",
        "\n",
        "callbacks_list = [checkpoint, lr_reducer, csv_logger ]\n",
        "\n",
        "epochs = 9\n",
        "\n",
        "model2.fit(X_train, Y_train,\n",
        "          batch_size=128,\n",
        "          nb_epoch=epochs,\n",
        "          validation_data=(X_test, Y_test),\n",
        "          shuffle=True,\n",
        "          callbacks = callbacks_list)"
      ],
      "execution_count": 0,
      "outputs": [
        {
          "output_type": "stream",
          "text": [
            "/usr/local/lib/python3.6/dist-packages/ipykernel_launcher.py:13: UserWarning: The `nb_epoch` argument in `fit` has been renamed `epochs`.\n",
            "  del sys.path[0]\n"
          ],
          "name": "stderr"
        },
        {
          "output_type": "stream",
          "text": [
            "Train on 100000 samples, validate on 10000 samples\n",
            "Epoch 1/9\n",
            "100000/100000 [==============================] - 2079s 21ms/step - loss: 2.3069 - acc: 0.4554 - val_loss: 2.3819 - val_acc: 0.4344\n",
            "Epoch 2/9\n",
            "100000/100000 [==============================] - 2054s 21ms/step - loss: 2.0528 - acc: 0.5058 - val_loss: 2.3379 - val_acc: 0.4416\n",
            "Epoch 3/9\n",
            "100000/100000 [==============================] - 2051s 21ms/step - loss: 1.9822 - acc: 0.5205 - val_loss: 2.2719 - val_acc: 0.4571\n",
            "\n",
            "Epoch 00003: val_acc improved from -inf to 0.45710, saving model to /content/drive/My Drive/ass4/_32_16_64_32_16_64_epochs:003-acc:0.521-val_acc:0.457.hdf5\n",
            "Epoch 4/9\n",
            " 15488/100000 [===>..........................] - ETA: 28:04 - loss: 1.9338 - acc: 0.5326"
          ],
          "name": "stdout"
        }
      ]
    },
    {
      "cell_type": "code",
      "metadata": {
        "id": "YZ-rvJ4cYewl",
        "colab_type": "code",
        "outputId": "644bd43c-0cab-4f3b-a61e-c55eb7e39db1",
        "colab": {
          "base_uri": "https://localhost:8080/",
          "height": 155
        }
      },
      "source": [
        "## loading model from previous checkpoint\n",
        "\n",
        "from keras.models import load_model\n",
        "import tensorflow as tf\n",
        "model2 = load_model('/content/drive/My Drive/ass4/_32_16_64_32_16_64_epochs:003-acc:0.521-val_acc:0.457.hdf5',custom_objects={'tf': tf})\n"
      ],
      "execution_count": 0,
      "outputs": [
        {
          "output_type": "stream",
          "text": [
            "WARNING:tensorflow:From /usr/local/lib/python3.6/dist-packages/tensorflow/python/framework/op_def_library.py:263: colocate_with (from tensorflow.python.framework.ops) is deprecated and will be removed in a future version.\n",
            "Instructions for updating:\n",
            "Colocations handled automatically by placer.\n",
            "WARNING:tensorflow:From /usr/local/lib/python3.6/dist-packages/tensorflow/python/ops/math_ops.py:3066: to_int32 (from tensorflow.python.ops.math_ops) is deprecated and will be removed in a future version.\n",
            "Instructions for updating:\n",
            "Use tf.cast instead.\n"
          ],
          "name": "stdout"
        }
      ]
    },
    {
      "cell_type": "code",
      "metadata": {
        "id": "bWopkRQbnGdT",
        "colab_type": "code",
        "colab": {}
      },
      "source": [
        "from keras.callbacks import ReduceLROnPlateau, CSVLogger, ModelCheckpoint\n",
        "from keras.callbacks import ModelCheckpoint\n",
        "lr_reducer = ReduceLROnPlateau(factor=np.sqrt(0.1), cooldown=0, patience=5, min_lr=0.5e-6)\n",
        "csv_logger = CSVLogger('tinyImageNet.csv')"
      ],
      "execution_count": 0,
      "outputs": []
    },
    {
      "cell_type": "code",
      "metadata": {
        "id": "JvzoYbPgYxWy",
        "colab_type": "code",
        "outputId": "b4d97b2c-0043-43b3-9fab-94cf3c629ea7",
        "colab": {
          "base_uri": "https://localhost:8080/",
          "height": 1005
        }
      },
      "source": [
        "filepath=\"/content/drive/My Drive/ass4/_32_16_64_32_16_64_epochs:{epoch:03d}-acc:{acc:.3f}-val_acc:{val_acc:.3f}.hdf5\"\n",
        "checkpoint = ModelCheckpoint(filepath, monitor='val_acc', verbose=1, save_best_only=True, mode='max', period=3)\n",
        "\n",
        "callbacks_list = [checkpoint, lr_reducer, csv_logger ]\n",
        "\n",
        "epochs = 6\n",
        "\n",
        "model2.fit(X_train, Y_train,\n",
        "          batch_size=128,\n",
        "          nb_epoch=epochs,\n",
        "          validation_data=(X_test, Y_test),\n",
        "          shuffle=True,\n",
        "          callbacks = callbacks_list)"
      ],
      "execution_count": 0,
      "outputs": [
        {
          "output_type": "stream",
          "text": [
            "/usr/local/lib/python3.6/dist-packages/ipykernel_launcher.py:13: UserWarning: The `nb_epoch` argument in `fit` has been renamed `epochs`.\n",
            "  del sys.path[0]\n"
          ],
          "name": "stderr"
        },
        {
          "output_type": "stream",
          "text": [
            "Train on 100000 samples, validate on 10000 samples\n",
            "Epoch 1/6\n",
            "100000/100000 [==============================] - 2059s 21ms/step - loss: 1.9417 - acc: 0.5287 - val_loss: 2.2625 - val_acc: 0.4559\n",
            "Epoch 2/6\n",
            "100000/100000 [==============================] - 2043s 20ms/step - loss: 1.9117 - acc: 0.5349 - val_loss: 2.2704 - val_acc: 0.4550\n",
            "Epoch 3/6\n",
            "100000/100000 [==============================] - 2042s 20ms/step - loss: 1.8895 - acc: 0.5398 - val_loss: 2.2604 - val_acc: 0.4543\n",
            "\n",
            "Epoch 00003: val_acc improved from -inf to 0.45430, saving model to /content/drive/My Drive/ass4/_32_16_64_32_16_64_epochs:003-acc:0.540-val_acc:0.454.hdf5\n",
            "Epoch 4/6\n",
            "100000/100000 [==============================] - 2042s 20ms/step - loss: 1.8705 - acc: 0.5447 - val_loss: 2.2360 - val_acc: 0.4639\n",
            "Epoch 5/6\n",
            "100000/100000 [==============================] - 2044s 20ms/step - loss: 1.8541 - acc: 0.5478 - val_loss: 2.2292 - val_acc: 0.4664\n",
            "Epoch 6/6\n",
            "100000/100000 [==============================] - 2046s 20ms/step - loss: 1.8390 - acc: 0.5504 - val_loss: 2.2161 - val_acc: 0.4699\n",
            "\n",
            "Epoch 00006: val_acc improved from 0.45430 to 0.46990, saving model to /content/drive/My Drive/ass4/_32_16_64_32_16_64_epochs:006-acc:0.550-val_acc:0.470.hdf5\n"
          ],
          "name": "stdout"
        },
        {
          "output_type": "execute_result",
          "data": {
            "text/plain": [
              "<keras.callbacks.History at 0x7fc219fc8e80>"
            ]
          },
          "metadata": {
            "tags": []
          },
          "execution_count": 19
        }
      ]
    },
    {
      "cell_type": "markdown",
      "metadata": {
        "id": "sNJwrBYCBIVo",
        "colab_type": "text"
      },
      "source": [
        "### 32X32 before applying augmentation"
      ]
    },
    {
      "cell_type": "code",
      "metadata": {
        "id": "mfQgMZ1NBWsW",
        "colab_type": "code",
        "outputId": "7a3f5658-b8a6-44f3-94ca-53dec7ac150a",
        "colab": {
          "base_uri": "https://localhost:8080/",
          "height": 90
        }
      },
      "source": [
        "print(X_train.shape)\n",
        "print(Y_train.shape)\n",
        "print(X_test.shape)\n",
        "print(Y_test.shape)"
      ],
      "execution_count": 0,
      "outputs": [
        {
          "output_type": "stream",
          "text": [
            "(100000, 32, 32, 3)\n",
            "(100000, 200)\n",
            "(10000, 32, 32, 3)\n",
            "(10000, 200)\n"
          ],
          "name": "stdout"
        }
      ]
    },
    {
      "cell_type": "code",
      "metadata": {
        "id": "WeqOa4IfBYn0",
        "colab_type": "code",
        "outputId": "b2575077-4da9-4103-8aef-87a142d5a899",
        "colab": {
          "base_uri": "https://localhost:8080/",
          "height": 1005
        }
      },
      "source": [
        "from keras.callbacks import ReduceLROnPlateau, CSVLogger, ModelCheckpoint\n",
        "from keras.callbacks import ModelCheckpoint\n",
        "lr_reducer = ReduceLROnPlateau(factor=np.sqrt(0.1), cooldown=0, patience=5, min_lr=0.5e-6)\n",
        "csv_logger = CSVLogger('tinyImageNet.csv')\n",
        "\n",
        "\n",
        "filepath=\"/content/drive/My Drive/ass4/_32_16_64_32_16_64_32_epochs:{epoch:03d}-acc:{acc:.3f}-val_acc:{val_acc:.3f}.hdf5\"\n",
        "checkpoint = ModelCheckpoint(filepath, monitor='val_acc', verbose=1, save_best_only=True, mode='max', period=3)\n",
        "callbacks_list = [checkpoint, lr_reducer, csv_logger ]\n",
        "\n",
        "epochs = 3\n",
        "\n",
        "model2.fit(X_train, Y_train,\n",
        "          batch_size=256,\n",
        "          nb_epoch=epochs,\n",
        "          validation_data=(X_test, Y_test),\n",
        "          shuffle=True,\n",
        "          callbacks = callbacks_list)"
      ],
      "execution_count": 0,
      "outputs": [
        {
          "output_type": "stream",
          "text": [
            "/usr/local/lib/python3.6/dist-packages/ipykernel_launcher.py:18: UserWarning: The `nb_epoch` argument in `fit` has been renamed `epochs`.\n"
          ],
          "name": "stderr"
        },
        {
          "output_type": "stream",
          "text": [
            "Train on 100000 samples, validate on 10000 samples\n",
            "Epoch 1/3\n",
            "100000/100000 [==============================] - 393s 4ms/step - loss: 1.9586 - acc: 0.5130 - val_loss: 2.5140 - val_acc: 0.4248\n",
            "Epoch 2/3\n",
            "100000/100000 [==============================] - 377s 4ms/step - loss: 1.7610 - acc: 0.5559 - val_loss: 2.4420 - val_acc: 0.4306\n",
            "Epoch 3/3\n",
            "100000/100000 [==============================] - 376s 4ms/step - loss: 1.6946 - acc: 0.5716 - val_loss: 2.4186 - val_acc: 0.4343\n",
            "\n",
            "Epoch 00003: val_acc improved from -inf to 0.43430, saving model to /content/drive/My Drive/ass4/_32_16_64_32_16_64_32_epochs:003-acc:0.572-val_acc:0.434.hdf5\n"
          ],
          "name": "stdout"
        },
        {
          "output_type": "execute_result",
          "data": {
            "text/plain": [
              "<keras.callbacks.History at 0x7fc2239685f8>"
            ]
          },
          "metadata": {
            "tags": []
          },
          "execution_count": 27
        }
      ]
    },
    {
      "cell_type": "markdown",
      "metadata": {
        "id": "potr3KPHKkbq",
        "colab_type": "text"
      },
      "source": [
        "### Keras in built augmentation"
      ]
    },
    {
      "cell_type": "code",
      "metadata": {
        "id": "EVEcwWFkLjeN",
        "colab_type": "code",
        "colab": {}
      },
      "source": [
        "from keras.preprocessing.image import ImageDataGenerator\n",
        "from keras.callbacks import ReduceLROnPlateau, CSVLogger, EarlyStopping, ModelCheckpoint\n",
        "\n",
        "filepath=\"/content/drive/My Drive/ass4/_32_16_64_32_16_64_32_inbAug_epochs:{epoch:03d}-acc:{acc:.3f}-val_acc:{val_acc:.3f}.hdf5\"\n",
        "checkpoint = ModelCheckpoint(filepath, monitor='val_acc', verbose=1, save_best_only=True, mode='max', period=3)\n",
        "callbacks_list = [checkpoint, lr_reducer, csv_logger ]"
      ],
      "execution_count": 0,
      "outputs": []
    },
    {
      "cell_type": "code",
      "metadata": {
        "id": "ClNQbvBeKrHO",
        "colab_type": "code",
        "outputId": "6680648d-59e6-4c82-ec79-75a1f7e8cc66",
        "colab": {
          "base_uri": "https://localhost:8080/",
          "height": 1005
        }
      },
      "source": [
        "print('Using real-time data augmentation.')\n",
        "# This will do preprocessing and realtime data augmentation:\n",
        "datagen = ImageDataGenerator(\n",
        "        zoom_range = 0.2,\n",
        "        rotation_range=30,\n",
        "        width_shift_range=0.2,\n",
        "        height_shift_range=0.2,\n",
        "        horizontal_flip=True,\n",
        "        shear_range=0.2,\n",
        "        fill_mode='nearest')\n",
        "    \n",
        "datagen.fit(X_train)\n",
        "\n",
        "\n",
        "# Fit the model on the batches generated by datagen.flow().\n",
        "model2.fit_generator(datagen.flow(X_train, Y_train, batch_size= 256),\n",
        "                        steps_per_epoch=X_train.shape[0] // 256,\n",
        "                        validation_data=(X_test, Y_test),\n",
        "                        epochs=6, verbose=1, max_q_size=100,\n",
        "                        callbacks = callbacks_list)\n"
      ],
      "execution_count": 0,
      "outputs": [
        {
          "output_type": "stream",
          "text": [
            "Using real-time data augmentation.\n"
          ],
          "name": "stdout"
        },
        {
          "output_type": "stream",
          "text": [
            "/usr/local/lib/python3.6/dist-packages/ipykernel_launcher.py:20: UserWarning: Update your `fit_generator` call to the Keras 2 API: `fit_generator(<keras_pre..., steps_per_epoch=390, validation_data=(array([[[..., epochs=6, verbose=1, callbacks=[<keras.ca..., max_queue_size=100)`\n"
          ],
          "name": "stderr"
        },
        {
          "output_type": "stream",
          "text": [
            "Epoch 1/6\n",
            "390/390 [==============================] - 377s 967ms/step - loss: 2.8957 - acc: 0.3419 - val_loss: 3.1487 - val_acc: 0.3299\n",
            "Epoch 2/6\n",
            "390/390 [==============================] - 377s 967ms/step - loss: 2.7738 - acc: 0.3564 - val_loss: 3.0878 - val_acc: 0.3317\n",
            "Epoch 3/6\n",
            "390/390 [==============================] - 377s 966ms/step - loss: 2.7252 - acc: 0.3639 - val_loss: 3.2637 - val_acc: 0.3156\n",
            "\n",
            "Epoch 00003: val_acc improved from -inf to 0.31560, saving model to /content/drive/My Drive/ass4/_32_16_64_32_16_64_32_inbAug_epochs:003-acc:0.364-val_acc:0.316.hdf5\n",
            "Epoch 4/6\n",
            "390/390 [==============================] - 377s 966ms/step - loss: 2.7012 - acc: 0.3674 - val_loss: 3.1385 - val_acc: 0.3276\n",
            "Epoch 5/6\n",
            "390/390 [==============================] - 377s 966ms/step - loss: 2.6789 - acc: 0.3727 - val_loss: 3.1017 - val_acc: 0.3239\n",
            "Epoch 6/6\n",
            "390/390 [==============================] - 377s 967ms/step - loss: 2.6559 - acc: 0.3769 - val_loss: 3.0804 - val_acc: 0.3303\n",
            "\n",
            "Epoch 00006: val_acc improved from 0.31560 to 0.33030, saving model to /content/drive/My Drive/ass4/_32_16_64_32_16_64_32_inbAug_epochs:006-acc:0.377-val_acc:0.330.hdf5\n"
          ],
          "name": "stdout"
        },
        {
          "output_type": "execute_result",
          "data": {
            "text/plain": [
              "<keras.callbacks.History at 0x7fc21914a080>"
            ]
          },
          "metadata": {
            "tags": []
          },
          "execution_count": 30
        }
      ]
    },
    {
      "cell_type": "code",
      "metadata": {
        "id": "6mPQdjx_XNXU",
        "colab_type": "code",
        "outputId": "1d44f7c0-23e2-4b93-bb0d-e7dc774399ec",
        "colab": {
          "base_uri": "https://localhost:8080/",
          "height": 1005
        }
      },
      "source": [
        "model2.fit_generator(datagen.flow(X_train, Y_train, batch_size= 256),\n",
        "                        steps_per_epoch=X_train.shape[0] // 256,\n",
        "                        validation_data=(X_test, Y_test),\n",
        "                        epochs=6, verbose=1, max_q_size=100,\n",
        "                        callbacks = callbacks_list)"
      ],
      "execution_count": 0,
      "outputs": [
        {
          "output_type": "stream",
          "text": [
            "/usr/local/lib/python3.6/dist-packages/ipykernel_launcher.py:5: UserWarning: Update your `fit_generator` call to the Keras 2 API: `fit_generator(<keras_pre..., steps_per_epoch=390, validation_data=(array([[[..., epochs=6, verbose=1, callbacks=[<keras.ca..., max_queue_size=100)`\n",
            "  \"\"\"\n"
          ],
          "name": "stderr"
        },
        {
          "output_type": "stream",
          "text": [
            "Epoch 1/6\n",
            "390/390 [==============================] - 377s 967ms/step - loss: 2.6456 - acc: 0.3777 - val_loss: 3.1096 - val_acc: 0.3266\n",
            "Epoch 2/6\n",
            "390/390 [==============================] - 377s 966ms/step - loss: 2.6346 - acc: 0.3797 - val_loss: 3.0462 - val_acc: 0.3355\n",
            "Epoch 3/6\n",
            "390/390 [==============================] - 377s 966ms/step - loss: 2.6264 - acc: 0.3837 - val_loss: 3.0208 - val_acc: 0.3360\n",
            "\n",
            "Epoch 00003: val_acc improved from 0.33030 to 0.33600, saving model to /content/drive/My Drive/ass4/_32_16_64_32_16_64_32_inbAug_epochs:003-acc:0.384-val_acc:0.336.hdf5\n",
            "Epoch 4/6\n",
            "390/390 [==============================] - 377s 966ms/step - loss: 2.6097 - acc: 0.3850 - val_loss: 3.0170 - val_acc: 0.3340\n",
            "Epoch 5/6\n",
            "390/390 [==============================] - 377s 966ms/step - loss: 2.6042 - acc: 0.3852 - val_loss: 3.0952 - val_acc: 0.3262\n",
            "Epoch 6/6\n",
            "390/390 [==============================] - 377s 966ms/step - loss: 2.5975 - acc: 0.3872 - val_loss: 3.1399 - val_acc: 0.3195\n",
            "\n",
            "Epoch 00006: val_acc did not improve from 0.33600\n"
          ],
          "name": "stdout"
        },
        {
          "output_type": "execute_result",
          "data": {
            "text/plain": [
              "<keras.callbacks.History at 0x7fc219055f60>"
            ]
          },
          "metadata": {
            "tags": []
          },
          "execution_count": 31
        }
      ]
    },
    {
      "cell_type": "code",
      "metadata": {
        "id": "iGEhh9ECrC78",
        "colab_type": "code",
        "outputId": "7db1514c-fb34-49fc-e451-846f07fdfe26",
        "colab": {
          "base_uri": "https://localhost:8080/",
          "height": 155
        }
      },
      "source": [
        "## loading model from previous checkpoint\n",
        "\n",
        "from keras.models import load_model\n",
        "import tensorflow as tf\n",
        "model2 = load_model('/content/drive/My Drive/ass4/_32_16_64_32_16_64_32_inbAug_epochs:003-acc:0.384-val_acc:0.336.hdf5',custom_objects={'tf': tf})\n"
      ],
      "execution_count": 0,
      "outputs": [
        {
          "output_type": "stream",
          "text": [
            "WARNING:tensorflow:From /usr/local/lib/python3.6/dist-packages/tensorflow/python/framework/op_def_library.py:263: colocate_with (from tensorflow.python.framework.ops) is deprecated and will be removed in a future version.\n",
            "Instructions for updating:\n",
            "Colocations handled automatically by placer.\n",
            "WARNING:tensorflow:From /usr/local/lib/python3.6/dist-packages/tensorflow/python/ops/math_ops.py:3066: to_int32 (from tensorflow.python.ops.math_ops) is deprecated and will be removed in a future version.\n",
            "Instructions for updating:\n",
            "Use tf.cast instead.\n"
          ],
          "name": "stdout"
        }
      ]
    },
    {
      "cell_type": "code",
      "metadata": {
        "id": "Jy9LWST4rw5L",
        "colab_type": "code",
        "colab": {}
      },
      "source": [
        "from keras.preprocessing.image import ImageDataGenerator\n",
        "from keras.callbacks import ReduceLROnPlateau, CSVLogger, EarlyStopping, ModelCheckpoint\n",
        "\n",
        "lr_reducer = ReduceLROnPlateau(factor=np.sqrt(0.1), cooldown=0, patience=5, min_lr=0.5e-6)\n",
        "csv_logger = CSVLogger('tinyImageNet.csv')\n",
        "\n",
        "filepath=\"/content/drive/My Drive/ass4/_32_16_64_32_16_64_32_inbAug2_epochs:{epoch:03d}-acc:{acc:.3f}-val_acc:{val_acc:.3f}.hdf5\"\n",
        "checkpoint = ModelCheckpoint(filepath, monitor='val_acc', verbose=1, save_best_only=True, mode='max', period=3)\n",
        "callbacks_list = [checkpoint, lr_reducer, csv_logger ]"
      ],
      "execution_count": 0,
      "outputs": []
    },
    {
      "cell_type": "code",
      "metadata": {
        "id": "GizeJyjQrtjv",
        "colab_type": "code",
        "outputId": "5b2d9c18-2b96-4b4d-e1c2-feb285679803",
        "colab": {
          "base_uri": "https://localhost:8080/",
          "height": 846
        }
      },
      "source": [
        "print('Using real-time data augmentation.')\n",
        "# This will do preprocessing and realtime data augmentation:\n",
        "datagen = ImageDataGenerator(\n",
        "        zoom_range = 0.2,\n",
        "        rotation_range=30,\n",
        "        width_shift_range=0.2,\n",
        "        height_shift_range=0.2,\n",
        "        horizontal_flip=True,\n",
        "        shear_range=0.2,\n",
        "        fill_mode='nearest')\n",
        "    \n",
        "datagen.fit(X_train)\n",
        "\n",
        "\n",
        "# Fit the model on the batches generated by datagen.flow().\n",
        "model2.fit_generator(datagen.flow(X_train, Y_train, batch_size= 256),\n",
        "                        steps_per_epoch=X_train.shape[0] // 256,\n",
        "                        validation_data=(X_test, Y_test),\n",
        "                        epochs=15, verbose=1, max_q_size=100,\n",
        "                        callbacks = callbacks_list)\n"
      ],
      "execution_count": 0,
      "outputs": [
        {
          "output_type": "stream",
          "text": [
            "Using real-time data augmentation.\n"
          ],
          "name": "stdout"
        },
        {
          "output_type": "stream",
          "text": [
            "/usr/local/lib/python3.6/dist-packages/ipykernel_launcher.py:20: UserWarning: Update your `fit_generator` call to the Keras 2 API: `fit_generator(<keras_pre..., steps_per_epoch=390, validation_data=(array([[[..., epochs=15, verbose=1, callbacks=[<keras.ca..., max_queue_size=100)`\n"
          ],
          "name": "stderr"
        },
        {
          "output_type": "stream",
          "text": [
            "Epoch 1/15\n",
            "390/390 [==============================] - 379s 971ms/step - loss: 2.6095 - acc: 0.3868 - val_loss: 3.1687 - val_acc: 0.3139\n",
            "Epoch 2/15\n",
            "390/390 [==============================] - 371s 951ms/step - loss: 2.6005 - acc: 0.3851 - val_loss: 3.0625 - val_acc: 0.3324\n",
            "Epoch 3/15\n",
            "390/390 [==============================] - 364s 934ms/step - loss: 2.5969 - acc: 0.3873 - val_loss: 2.9813 - val_acc: 0.3388\n",
            "\n",
            "Epoch 00003: val_acc improved from -inf to 0.33880, saving model to /content/drive/My Drive/ass4/_32_16_64_32_16_64_32_inbAug2_epochs:003-acc:0.387-val_acc:0.339.hdf5\n",
            "Epoch 4/15\n",
            "390/390 [==============================] - 365s 935ms/step - loss: 2.5888 - acc: 0.3883 - val_loss: 2.9869 - val_acc: 0.3422\n",
            "Epoch 5/15\n",
            "390/390 [==============================] - 365s 935ms/step - loss: 2.5814 - acc: 0.3904 - val_loss: 3.0690 - val_acc: 0.3286\n",
            "Epoch 6/15\n",
            "390/390 [==============================] - 364s 935ms/step - loss: 2.5771 - acc: 0.3920 - val_loss: 2.9893 - val_acc: 0.3420\n",
            "\n",
            "Epoch 00006: val_acc improved from 0.33880 to 0.34200, saving model to /content/drive/My Drive/ass4/_32_16_64_32_16_64_32_inbAug2_epochs:006-acc:0.392-val_acc:0.342.hdf5\n",
            "Epoch 7/15\n",
            "390/390 [==============================] - 364s 934ms/step - loss: 2.5672 - acc: 0.3923 - val_loss: 2.9974 - val_acc: 0.3397\n",
            "Epoch 8/15\n",
            "390/390 [==============================] - 365s 935ms/step - loss: 2.5622 - acc: 0.3940 - val_loss: 3.0900 - val_acc: 0.3288\n",
            "Epoch 9/15\n",
            "390/390 [==============================] - 365s 935ms/step - loss: 2.5520 - acc: 0.3952 - val_loss: 3.0523 - val_acc: 0.3305\n",
            "\n",
            "Epoch 00009: val_acc did not improve from 0.34200\n",
            "Epoch 10/15\n",
            "390/390 [==============================] - 364s 934ms/step - loss: 2.5419 - acc: 0.3980 - val_loss: 3.0547 - val_acc: 0.3304\n",
            "Epoch 11/15\n",
            "390/390 [==============================] - 364s 934ms/step - loss: 2.5424 - acc: 0.3980 - val_loss: 3.0276 - val_acc: 0.3345\n",
            "Epoch 12/15\n",
            "390/390 [==============================] - 364s 934ms/step - loss: 2.5351 - acc: 0.3991 - val_loss: 3.0599 - val_acc: 0.3305\n",
            "\n",
            "Epoch 00012: val_acc did not improve from 0.34200\n",
            "Epoch 13/15\n",
            "390/390 [==============================] - 364s 933ms/step - loss: 2.5363 - acc: 0.3981 - val_loss: 3.0228 - val_acc: 0.3356\n",
            "Epoch 14/15\n",
            "390/390 [==============================] - 364s 934ms/step - loss: 2.5329 - acc: 0.3989 - val_loss: 3.0362 - val_acc: 0.3318\n",
            "Epoch 15/15\n",
            "390/390 [==============================] - 365s 935ms/step - loss: 2.5370 - acc: 0.4008 - val_loss: 3.0241 - val_acc: 0.3350\n",
            "\n",
            "Epoch 00015: val_acc did not improve from 0.34200\n"
          ],
          "name": "stdout"
        },
        {
          "output_type": "execute_result",
          "data": {
            "text/plain": [
              "<keras.callbacks.History at 0x7f07735d1eb8>"
            ]
          },
          "metadata": {
            "tags": []
          },
          "execution_count": 19
        }
      ]
    },
    {
      "cell_type": "markdown",
      "metadata": {
        "id": "FwiMrE_6DzCA",
        "colab_type": "text"
      },
      "source": [
        "### Custom imgaug augmentation"
      ]
    },
    {
      "cell_type": "code",
      "metadata": {
        "id": "Uc8v5HjfDp5J",
        "colab_type": "code",
        "outputId": "e86ad8c9-094a-4e0e-a0d2-4f153e0fbdd2",
        "colab": {
          "base_uri": "https://localhost:8080/",
          "height": 407
        }
      },
      "source": [
        "# prerequisites for imgaug library\n",
        "!pip install six numpy scipy Pillow matplotlib scikit-image opencv-python imageio Shapely"
      ],
      "execution_count": 0,
      "outputs": [
        {
          "output_type": "stream",
          "text": [
            "Requirement already satisfied: six in /usr/local/lib/python3.6/dist-packages (1.11.0)\n",
            "Requirement already satisfied: numpy in /usr/local/lib/python3.6/dist-packages (1.14.6)\n",
            "Requirement already satisfied: scipy in /usr/local/lib/python3.6/dist-packages (1.1.0)\n",
            "Requirement already satisfied: Pillow in /usr/local/lib/python3.6/dist-packages (4.1.1)\n",
            "Requirement already satisfied: matplotlib in /usr/local/lib/python3.6/dist-packages (3.0.3)\n",
            "Requirement already satisfied: scikit-image in /usr/local/lib/python3.6/dist-packages (0.13.1)\n",
            "Requirement already satisfied: opencv-python in /usr/local/lib/python3.6/dist-packages (3.4.5.20)\n",
            "Requirement already satisfied: imageio in /usr/local/lib/python3.6/dist-packages (2.4.1)\n",
            "Requirement already satisfied: Shapely in /usr/local/lib/python3.6/dist-packages (1.6.4.post2)\n",
            "Requirement already satisfied: olefile in /usr/local/lib/python3.6/dist-packages (from Pillow) (0.46)\n",
            "Requirement already satisfied: kiwisolver>=1.0.1 in /usr/local/lib/python3.6/dist-packages (from matplotlib) (1.0.1)\n",
            "Requirement already satisfied: pyparsing!=2.0.4,!=2.1.2,!=2.1.6,>=2.0.1 in /usr/local/lib/python3.6/dist-packages (from matplotlib) (2.3.1)\n",
            "Requirement already satisfied: python-dateutil>=2.1 in /usr/local/lib/python3.6/dist-packages (from matplotlib) (2.5.3)\n",
            "Requirement already satisfied: cycler>=0.10 in /usr/local/lib/python3.6/dist-packages (from matplotlib) (0.10.0)\n",
            "Requirement already satisfied: PyWavelets>=0.4.0 in /usr/local/lib/python3.6/dist-packages (from scikit-image) (1.0.2)\n",
            "Requirement already satisfied: networkx>=1.8 in /usr/local/lib/python3.6/dist-packages (from scikit-image) (2.2)\n",
            "Requirement already satisfied: setuptools in /usr/local/lib/python3.6/dist-packages (from kiwisolver>=1.0.1->matplotlib) (40.8.0)\n",
            "Requirement already satisfied: decorator>=4.3.0 in /usr/local/lib/python3.6/dist-packages (from networkx>=1.8->scikit-image) (4.4.0)\n"
          ],
          "name": "stdout"
        }
      ]
    },
    {
      "cell_type": "code",
      "metadata": {
        "id": "j5C5s2HZsDG-",
        "colab_type": "code",
        "outputId": "8a4d19c4-1c68-4724-e53f-65adee03b421",
        "colab": {
          "base_uri": "https://localhost:8080/",
          "height": 663
        }
      },
      "source": [
        "# image augmentation library imgaug (https://github.com/aleju/imgaug)\n",
        "!pip install imgaug\n",
        "\n",
        "# NOTE: make sure to Restart Runtime after this installation completes"
      ],
      "execution_count": 0,
      "outputs": [
        {
          "output_type": "stream",
          "text": [
            "Requirement already satisfied: imgaug in /usr/local/lib/python3.6/dist-packages (0.2.8)\n",
            "Requirement already satisfied: scikit-image>=0.11.0 in /usr/local/lib/python3.6/dist-packages (from imgaug) (0.13.1)\n",
            "Requirement already satisfied: Pillow in /usr/local/lib/python3.6/dist-packages (from imgaug) (4.1.1)\n",
            "Requirement already satisfied: scipy in /usr/local/lib/python3.6/dist-packages (from imgaug) (1.1.0)\n",
            "Requirement already satisfied: Shapely in /usr/local/lib/python3.6/dist-packages (from imgaug) (1.6.4.post2)\n",
            "Requirement already satisfied: imageio in /usr/local/lib/python3.6/dist-packages (from imgaug) (2.4.1)\n",
            "Requirement already satisfied: opencv-python in /usr/local/lib/python3.6/dist-packages (from imgaug) (3.4.5.20)\n",
            "Requirement already satisfied: six in /usr/local/lib/python3.6/dist-packages (from imgaug) (1.11.0)\n",
            "Requirement already satisfied: matplotlib in /usr/local/lib/python3.6/dist-packages (from imgaug) (3.0.3)\n",
            "Collecting numpy>=1.15.0 (from imgaug)\n",
            "\u001b[?25l  Downloading https://files.pythonhosted.org/packages/35/d5/4f8410ac303e690144f0a0603c4b8fd3b986feb2749c435f7cdbb288f17e/numpy-1.16.2-cp36-cp36m-manylinux1_x86_64.whl (17.3MB)\n",
            "\u001b[K    100% |████████████████████████████████| 17.3MB 2.2MB/s \n",
            "\u001b[?25hRequirement already satisfied: networkx>=1.8 in /usr/local/lib/python3.6/dist-packages (from scikit-image>=0.11.0->imgaug) (2.2)\n",
            "Requirement already satisfied: PyWavelets>=0.4.0 in /usr/local/lib/python3.6/dist-packages (from scikit-image>=0.11.0->imgaug) (1.0.2)\n",
            "Requirement already satisfied: olefile in /usr/local/lib/python3.6/dist-packages (from Pillow->imgaug) (0.46)\n",
            "Requirement already satisfied: cycler>=0.10 in /usr/local/lib/python3.6/dist-packages (from matplotlib->imgaug) (0.10.0)\n",
            "Requirement already satisfied: pyparsing!=2.0.4,!=2.1.2,!=2.1.6,>=2.0.1 in /usr/local/lib/python3.6/dist-packages (from matplotlib->imgaug) (2.3.1)\n",
            "Requirement already satisfied: kiwisolver>=1.0.1 in /usr/local/lib/python3.6/dist-packages (from matplotlib->imgaug) (1.0.1)\n",
            "Requirement already satisfied: python-dateutil>=2.1 in /usr/local/lib/python3.6/dist-packages (from matplotlib->imgaug) (2.5.3)\n",
            "Requirement already satisfied: decorator>=4.3.0 in /usr/local/lib/python3.6/dist-packages (from networkx>=1.8->scikit-image>=0.11.0->imgaug) (4.4.0)\n",
            "Requirement already satisfied: setuptools in /usr/local/lib/python3.6/dist-packages (from kiwisolver>=1.0.1->matplotlib->imgaug) (40.8.0)\n",
            "\u001b[31mfeaturetools 0.4.1 has requirement pandas>=0.23.0, but you'll have pandas 0.22.0 which is incompatible.\u001b[0m\n",
            "\u001b[31mdatascience 0.10.6 has requirement folium==0.2.1, but you'll have folium 0.8.3 which is incompatible.\u001b[0m\n",
            "\u001b[31malbumentations 0.1.12 has requirement imgaug<0.2.7,>=0.2.5, but you'll have imgaug 0.2.8 which is incompatible.\u001b[0m\n",
            "Installing collected packages: numpy\n",
            "  Found existing installation: numpy 1.14.6\n",
            "    Uninstalling numpy-1.14.6:\n",
            "      Successfully uninstalled numpy-1.14.6\n",
            "Successfully installed numpy-1.16.2\n"
          ],
          "name": "stdout"
        },
        {
          "output_type": "display_data",
          "data": {
            "application/vnd.colab-display-data+json": {
              "pip_warning": {
                "packages": [
                  "numpy"
                ]
              }
            }
          },
          "metadata": {
            "tags": []
          }
        }
      ]
    },
    {
      "cell_type": "code",
      "metadata": {
        "id": "gZUYXZmYEGH5",
        "colab_type": "code",
        "outputId": "a634b980-45e7-4819-8d68-7d6c6dbbac5c",
        "colab": {
          "base_uri": "https://localhost:8080/",
          "height": 645
        }
      },
      "source": [
        "# imgaug needs latest scikit module. so need to do this. else, will get some weird error related to numpy!\n",
        "!pip install --upgrade scikit-image\n",
        "\n",
        "# NOTE: make sure to Restart Runtime after this installation completes"
      ],
      "execution_count": 0,
      "outputs": [
        {
          "output_type": "stream",
          "text": [
            "Collecting scikit-image\n",
            "\u001b[?25l  Downloading https://files.pythonhosted.org/packages/d4/ab/674e168bf7d0bc597218b3bec858d02c23fbac9ec1fec9cad878c6cee95f/scikit_image-0.15.0-cp36-cp36m-manylinux1_x86_64.whl (26.3MB)\n",
            "\u001b[K    100% |████████████████████████████████| 26.3MB 1.5MB/s \n",
            "\u001b[?25hRequirement already satisfied, skipping upgrade: PyWavelets>=0.4.0 in /usr/local/lib/python3.6/dist-packages (from scikit-image) (1.0.2)\n",
            "Collecting pillow>=4.3.0 (from scikit-image)\n",
            "\u001b[?25l  Downloading https://files.pythonhosted.org/packages/d2/c2/f84b1e57416755e967236468dcfb0fad7fd911f707185efc4ba8834a1a94/Pillow-6.0.0-cp36-cp36m-manylinux1_x86_64.whl (2.0MB)\n",
            "\u001b[K    100% |████████████████████████████████| 2.0MB 11.4MB/s \n",
            "\u001b[?25hRequirement already satisfied, skipping upgrade: networkx>=2.0 in /usr/local/lib/python3.6/dist-packages (from scikit-image) (2.2)\n",
            "Requirement already satisfied, skipping upgrade: imageio>=2.0.1 in /usr/local/lib/python3.6/dist-packages (from scikit-image) (2.4.1)\n",
            "Requirement already satisfied, skipping upgrade: matplotlib!=3.0.0,>=2.0.0 in /usr/local/lib/python3.6/dist-packages (from scikit-image) (3.0.3)\n",
            "Requirement already satisfied, skipping upgrade: scipy>=0.17.0 in /usr/local/lib/python3.6/dist-packages (from scikit-image) (1.1.0)\n",
            "Requirement already satisfied, skipping upgrade: numpy>=1.9.1 in /usr/local/lib/python3.6/dist-packages (from PyWavelets>=0.4.0->scikit-image) (1.16.2)\n",
            "Requirement already satisfied, skipping upgrade: decorator>=4.3.0 in /usr/local/lib/python3.6/dist-packages (from networkx>=2.0->scikit-image) (4.4.0)\n",
            "Requirement already satisfied, skipping upgrade: cycler>=0.10 in /usr/local/lib/python3.6/dist-packages (from matplotlib!=3.0.0,>=2.0.0->scikit-image) (0.10.0)\n",
            "Requirement already satisfied, skipping upgrade: python-dateutil>=2.1 in /usr/local/lib/python3.6/dist-packages (from matplotlib!=3.0.0,>=2.0.0->scikit-image) (2.5.3)\n",
            "Requirement already satisfied, skipping upgrade: pyparsing!=2.0.4,!=2.1.2,!=2.1.6,>=2.0.1 in /usr/local/lib/python3.6/dist-packages (from matplotlib!=3.0.0,>=2.0.0->scikit-image) (2.3.1)\n",
            "Requirement already satisfied, skipping upgrade: kiwisolver>=1.0.1 in /usr/local/lib/python3.6/dist-packages (from matplotlib!=3.0.0,>=2.0.0->scikit-image) (1.0.1)\n",
            "Requirement already satisfied, skipping upgrade: six in /usr/local/lib/python3.6/dist-packages (from cycler>=0.10->matplotlib!=3.0.0,>=2.0.0->scikit-image) (1.11.0)\n",
            "Requirement already satisfied, skipping upgrade: setuptools in /usr/local/lib/python3.6/dist-packages (from kiwisolver>=1.0.1->matplotlib!=3.0.0,>=2.0.0->scikit-image) (40.8.0)\n",
            "\u001b[31malbumentations 0.1.12 has requirement imgaug<0.2.7,>=0.2.5, but you'll have imgaug 0.2.8 which is incompatible.\u001b[0m\n",
            "Installing collected packages: pillow, scikit-image\n",
            "  Found existing installation: Pillow 4.1.1\n",
            "    Uninstalling Pillow-4.1.1:\n",
            "      Successfully uninstalled Pillow-4.1.1\n",
            "  Found existing installation: scikit-image 0.13.1\n",
            "    Uninstalling scikit-image-0.13.1:\n",
            "      Successfully uninstalled scikit-image-0.13.1\n",
            "Successfully installed pillow-6.0.0 scikit-image-0.15.0\n"
          ],
          "name": "stdout"
        },
        {
          "output_type": "display_data",
          "data": {
            "application/vnd.colab-display-data+json": {
              "pip_warning": {
                "packages": [
                  "PIL"
                ]
              }
            }
          },
          "metadata": {
            "tags": []
          }
        }
      ]
    },
    {
      "cell_type": "code",
      "metadata": {
        "id": "-AXxpSsVJa1G",
        "colab_type": "code",
        "outputId": "9d01ccff-36a7-498a-bca3-70b185012dbe",
        "colab": {
          "base_uri": "https://localhost:8080/",
          "height": 90
        }
      },
      "source": [
        "print(X_train.shape)\n",
        "print(Y_train.shape)\n",
        "print(X_test.shape)\n",
        "print(Y_test.shape)"
      ],
      "execution_count": 0,
      "outputs": [
        {
          "output_type": "stream",
          "text": [
            "(100000, 32, 32, 3)\n",
            "(100000, 200)\n",
            "(10000, 32, 32, 3)\n",
            "(10000, 200)\n"
          ],
          "name": "stdout"
        }
      ]
    },
    {
      "cell_type": "code",
      "metadata": {
        "id": "u0tVszdwEM5q",
        "colab_type": "code",
        "outputId": "a95b44cb-28f8-4fec-c465-4f60c009bbf1",
        "colab": {
          "base_uri": "https://localhost:8080/",
          "height": 155
        }
      },
      "source": [
        "## Loading model from previous checkpoint\n",
        "\n",
        "from keras.models import load_model\n",
        "import tensorflow as tf\n",
        "model_aug = load_model('/content/drive/My Drive/ass4/_32_16_64_32_16_64_32_inbAug2_epochs:006-acc:0.392-val_acc:0.342.hdf5',custom_objects={'tf': tf})\n"
      ],
      "execution_count": 0,
      "outputs": [
        {
          "output_type": "stream",
          "text": [
            "WARNING:tensorflow:From /usr/local/lib/python3.6/dist-packages/tensorflow/python/framework/op_def_library.py:263: colocate_with (from tensorflow.python.framework.ops) is deprecated and will be removed in a future version.\n",
            "Instructions for updating:\n",
            "Colocations handled automatically by placer.\n",
            "WARNING:tensorflow:From /usr/local/lib/python3.6/dist-packages/tensorflow/python/ops/math_ops.py:3066: to_int32 (from tensorflow.python.ops.math_ops) is deprecated and will be removed in a future version.\n",
            "Instructions for updating:\n",
            "Use tf.cast instead.\n"
          ],
          "name": "stdout"
        }
      ]
    },
    {
      "cell_type": "code",
      "metadata": {
        "id": "V9pHmiYiHe8_",
        "colab_type": "code",
        "outputId": "db817b19-51b9-4b0a-fc7d-90f05c100814",
        "colab": {
          "base_uri": "https://localhost:8080/",
          "height": 72
        }
      },
      "source": [
        "score = model_aug.evaluate(X_test, Y_test, verbose=1)\n",
        "print('Test loss:', score[0])\n",
        "print('Test accuracy:', score[1])"
      ],
      "execution_count": 0,
      "outputs": [
        {
          "output_type": "stream",
          "text": [
            "10000/10000 [==============================] - 17s 2ms/step\n",
            "Test loss: 2.989250016784668\n",
            "Test accuracy: 0.342\n"
          ],
          "name": "stdout"
        }
      ]
    },
    {
      "cell_type": "code",
      "metadata": {
        "id": "1z0XRjc1E49_",
        "colab_type": "code",
        "colab": {}
      },
      "source": [
        "from keras.preprocessing.image import ImageDataGenerator,array_to_img\n",
        "import imageio\n",
        "import imgaug as ia\n",
        "from imgaug import augmenters as iaa\n",
        "import matplotlib\n",
        "import matplotlib.pyplot as plt\n",
        "%matplotlib inline\n",
        "matplotlib.use('Agg')\n"
      ],
      "execution_count": 0,
      "outputs": []
    },
    {
      "cell_type": "code",
      "metadata": {
        "id": "zEs3uoIAE5_y",
        "colab_type": "code",
        "colab": {}
      },
      "source": [
        "def customizedImgAug(input_img):\n",
        "    \"\"\"image augmentation using imgaug\n",
        "    Args:\n",
        "        input_img:\n",
        "            image to be augmented (numpy tensor with rank 3)\n",
        "    Return:\n",
        "        augmented image(numpy tensor with rank 3) \n",
        "    \"\"\"\n",
        "    seq = iaa.Sequential(\n",
        "        [    \n",
        "          iaa.Fliplr(0.5), # horizontal flips\n",
        "          # Small gaussian blur with random sigma between 0 and 0.2.\n",
        "          # But we only blur about 50% of all images.\n",
        "          # Strengthen or weaken the contrast in each image.\n",
        "          iaa.Sometimes(0.5,\n",
        "              iaa.GaussianBlur(sigma=(0, 0.3)),\n",
        "              iaa.Sharpen(alpha=0.4)\n",
        "          ),\n",
        "              \n",
        "          iaa.Sometimes(0.5,\n",
        "              iaa.Affine(shear=(-16, 16)),\n",
        "              iaa.ContrastNormalization((0.75, 1.5))\n",
        "          ),\n",
        "        # In 20% of all cases, we sample the multiplier once per channel,\n",
        "        # which can end up changing the color of the images.\n",
        "        iaa.Multiply((0.8, 1.2), per_channel=0.2),\n",
        "        # Augmenter that sets rectangular areas within images to zero\n",
        "        iaa.CoarseDropout((0.0, 0.12), size_percent=(0.10, 0.20)),\n",
        "        ],random_order = True) # apply augmenters in random order\n",
        "        \n",
        "    output_img = seq.augment_image(input_img)\n",
        "    return output_img"
      ],
      "execution_count": 0,
      "outputs": []
    },
    {
      "cell_type": "code",
      "metadata": {
        "id": "kNzMaqZ0FIhD",
        "colab_type": "code",
        "colab": {}
      },
      "source": [
        "datagen = ImageDataGenerator(\n",
        "        preprocessing_function = customizedImgAug)"
      ],
      "execution_count": 0,
      "outputs": []
    },
    {
      "cell_type": "code",
      "metadata": {
        "id": "LAahhV2YFXGD",
        "colab_type": "code",
        "outputId": "a5abbfba-5c52-4e79-ccdb-64d73e01013a",
        "colab": {
          "base_uri": "https://localhost:8080/",
          "height": 356
        }
      },
      "source": [
        "pics_num = 10\n",
        "figure = plt.figure(figsize=(14, 5))\n",
        "plt.subplots_adjust(left=0.1,bottom=0.1, right=0.9, top=0.9,hspace=0.5, wspace=0.3)\n",
        "for x_batch,y_batch in datagen.flow(X_train,Y_train,batch_size = pics_num):\n",
        "    for i in range(pics_num):\n",
        "        pics_raw = x_batch[i]\n",
        "        pics = array_to_img(pics_raw)\n",
        "        ax = plt.subplot(pics_num//5, 5, i+1)\n",
        "        ax.axis('off')\n",
        "        plt.imshow(pics)\n",
        "    plt.savefig(\"./processed_data.jpg\")\n",
        "    break   \n",
        "print(\"Everything seems OK...\")"
      ],
      "execution_count": 0,
      "outputs": [
        {
          "output_type": "stream",
          "text": [
            "Everything seems OK...\n"
          ],
          "name": "stdout"
        },
        {
          "output_type": "display_data",
          "data": {
            "image/png": "[encoded data removed]",
            "text/plain": [
              "<Figure size 1008x360 with 10 Axes>"
            ]
          },
          "metadata": {
            "tags": []
          }
        }
      ]
    },
    {
      "cell_type": "code",
      "metadata": {
        "id": "oly6vEjAGItb",
        "colab_type": "code",
        "colab": {}
      },
      "source": [
        "from keras.callbacks import ReduceLROnPlateau, CSVLogger, ModelCheckpoint\n",
        "\n",
        "lr_reducer = ReduceLROnPlateau(factor=np.sqrt(0.1), cooldown=0, patience=5, min_lr=0.5e-6)\n",
        "csv_logger = CSVLogger('tinyImageNet.csv')"
      ],
      "execution_count": 0,
      "outputs": []
    },
    {
      "cell_type": "code",
      "metadata": {
        "id": "QK1GMADdGOcQ",
        "colab_type": "code",
        "colab": {}
      },
      "source": [
        "filepath=\"/content/drive/My Drive/ass4/__32_16_64_32_16_64_32_inb_IMGAUG_epochs:{epoch:03d}-acc:{acc:.3f}-val_acc:{val_acc:.3f}.hdf5\"\n",
        "checkpoint = ModelCheckpoint(filepath, monitor='val_acc', verbose=1, save_best_only=True, mode='max', period=3)\n",
        "callbacks_list = [checkpoint, lr_reducer, csv_logger ]"
      ],
      "execution_count": 0,
      "outputs": []
    },
    {
      "cell_type": "code",
      "metadata": {
        "id": "nllU8qMCGlVX",
        "colab_type": "code",
        "outputId": "742c88bc-c18e-4b22-e765-fadd4bc1647d",
        "colab": {
          "base_uri": "https://localhost:8080/",
          "height": 1005
        }
      },
      "source": [
        "datagen.fit(X_train)\n",
        "\n",
        "model_aug.fit_generator(datagen.flow(X_train, Y_train, batch_size= 32),\n",
        "                        steps_per_epoch=X_train.shape[0] // 32,\n",
        "                        validation_data=(X_test, Y_test),\n",
        "                        epochs=15, verbose=1, max_q_size=100,\n",
        "                        callbacks = callbacks_list)\n"
      ],
      "execution_count": 0,
      "outputs": [
        {
          "output_type": "stream",
          "text": [
            "/usr/local/lib/python3.6/dist-packages/ipykernel_launcher.py:7: UserWarning: Update your `fit_generator` call to the Keras 2 API: `fit_generator(<keras_pre..., steps_per_epoch=3125, validation_data=(array([[[..., epochs=15, verbose=1, callbacks=[<keras.ca..., max_queue_size=100)`\n",
            "  import sys\n"
          ],
          "name": "stderr"
        },
        {
          "output_type": "stream",
          "text": [
            "Epoch 1/15\n",
            "3125/3125 [==============================] - 503s 161ms/step - loss: 2.7535 - acc: 0.3549 - val_loss: 2.5871 - val_acc: 0.3995\n",
            "Epoch 2/15\n",
            "3125/3125 [==============================] - 499s 160ms/step - loss: 2.6066 - acc: 0.3813 - val_loss: 2.5499 - val_acc: 0.4099\n",
            "Epoch 3/15\n",
            "3125/3125 [==============================] - 497s 159ms/step - loss: 2.5524 - acc: 0.3920 - val_loss: 2.4777 - val_acc: 0.4147\n",
            "\n",
            "Epoch 00003: val_acc improved from -inf to 0.41470, saving model to /content/drive/My Drive/ass4/__32_16_64_32_16_64_32_inb_IMGAUG_epochs:003-acc:0.392-val_acc:0.415.hdf5\n",
            "Epoch 4/15\n",
            "3125/3125 [==============================] - 495s 158ms/step - loss: 2.5079 - acc: 0.4023 - val_loss: 2.4555 - val_acc: 0.4231\n",
            "Epoch 5/15\n",
            "3125/3125 [==============================] - 496s 159ms/step - loss: 2.4811 - acc: 0.4063 - val_loss: 2.4228 - val_acc: 0.4245\n",
            "Epoch 6/15\n",
            "3125/3125 [==============================] - 496s 159ms/step - loss: 2.4530 - acc: 0.4132 - val_loss: 2.4394 - val_acc: 0.4264\n",
            "\n",
            "Epoch 00006: val_acc improved from 0.41470 to 0.42640, saving model to /content/drive/My Drive/ass4/__32_16_64_32_16_64_32_inb_IMGAUG_epochs:006-acc:0.413-val_acc:0.426.hdf5\n",
            "Epoch 7/15\n",
            "3125/3125 [==============================] - 496s 159ms/step - loss: 2.4335 - acc: 0.4174 - val_loss: 2.4094 - val_acc: 0.4319\n",
            "Epoch 8/15\n",
            "3125/3125 [==============================] - 494s 158ms/step - loss: 2.4123 - acc: 0.4193 - val_loss: 2.4103 - val_acc: 0.4336\n",
            "Epoch 9/15\n",
            "3125/3125 [==============================] - 494s 158ms/step - loss: 2.3919 - acc: 0.4241 - val_loss: 2.4108 - val_acc: 0.4332\n",
            "\n",
            "Epoch 00009: val_acc improved from 0.42640 to 0.43320, saving model to /content/drive/My Drive/ass4/__32_16_64_32_16_64_32_inb_IMGAUG_epochs:009-acc:0.424-val_acc:0.433.hdf5\n",
            "Epoch 10/15\n",
            "3125/3125 [==============================] - 494s 158ms/step - loss: 2.3830 - acc: 0.4241 - val_loss: 2.3894 - val_acc: 0.4380\n",
            "Epoch 11/15\n",
            "3125/3125 [==============================] - 495s 158ms/step - loss: 2.3666 - acc: 0.4295 - val_loss: 2.3894 - val_acc: 0.4391\n",
            "Epoch 12/15\n",
            "3125/3125 [==============================] - 495s 159ms/step - loss: 2.3501 - acc: 0.4335 - val_loss: 2.3606 - val_acc: 0.4423\n",
            "\n",
            "Epoch 00012: val_acc improved from 0.43320 to 0.44230, saving model to /content/drive/My Drive/ass4/__32_16_64_32_16_64_32_inb_IMGAUG_epochs:012-acc:0.433-val_acc:0.442.hdf5\n",
            "Epoch 13/15\n",
            "3125/3125 [==============================] - 492s 157ms/step - loss: 2.3388 - acc: 0.4377 - val_loss: 2.3788 - val_acc: 0.4374\n",
            "Epoch 14/15\n",
            "3125/3125 [==============================] - 491s 157ms/step - loss: 2.3313 - acc: 0.4375 - val_loss: 2.3537 - val_acc: 0.4448\n",
            "Epoch 15/15\n",
            "3125/3125 [==============================] - 498s 159ms/step - loss: 2.3208 - acc: 0.4386 - val_loss: 2.3665 - val_acc: 0.4429\n",
            "\n",
            "Epoch 00015: val_acc improved from 0.44230 to 0.44290, saving model to /content/drive/My Drive/ass4/__32_16_64_32_16_64_32_inb_IMGAUG_epochs:015-acc:0.439-val_acc:0.443.hdf5\n"
          ],
          "name": "stdout"
        },
        {
          "output_type": "execute_result",
          "data": {
            "text/plain": [
              "<keras.callbacks.History at 0x7f5ce139fef0>"
            ]
          },
          "metadata": {
            "tags": []
          },
          "execution_count": 54
        }
      ]
    },
    {
      "cell_type": "code",
      "metadata": {
        "id": "m5n9DT65kfw7",
        "colab_type": "code",
        "outputId": "8594bbcc-e026-4b8f-f959-7eb5aa20a311",
        "colab": {
          "base_uri": "https://localhost:8080/",
          "height": 1005
        }
      },
      "source": [
        "model_aug.fit_generator(datagen.flow(X_train, Y_train, batch_size= 32),\n",
        "                        steps_per_epoch=X_train.shape[0] // 32,\n",
        "                        validation_data=(X_test, Y_test),\n",
        "                        epochs=15, verbose=1, max_q_size=100,\n",
        "                        callbacks = callbacks_list)"
      ],
      "execution_count": 0,
      "outputs": [
        {
          "output_type": "stream",
          "text": [
            "/usr/local/lib/python3.6/dist-packages/ipykernel_launcher.py:5: UserWarning: Update your `fit_generator` call to the Keras 2 API: `fit_generator(<keras_pre..., steps_per_epoch=3125, validation_data=(array([[[..., epochs=15, verbose=1, callbacks=[<keras.ca..., max_queue_size=100)`\n",
            "  \"\"\"\n"
          ],
          "name": "stderr"
        },
        {
          "output_type": "stream",
          "text": [
            "Epoch 1/15\n",
            "3125/3125 [==============================] - 494s 158ms/step - loss: 2.3104 - acc: 0.4431 - val_loss: 2.3495 - val_acc: 0.4451\n",
            "Epoch 2/15\n",
            "3125/3125 [==============================] - 491s 157ms/step - loss: 2.2988 - acc: 0.4427 - val_loss: 2.3536 - val_acc: 0.4486\n",
            "Epoch 3/15\n",
            "3125/3125 [==============================] - 493s 158ms/step - loss: 2.2908 - acc: 0.4480 - val_loss: 2.3493 - val_acc: 0.4490\n",
            "\n",
            "Epoch 00003: val_acc improved from 0.44290 to 0.44900, saving model to /content/drive/My Drive/ass4/__32_16_64_32_16_64_32_inb_IMGAUG_epochs:003-acc:0.448-val_acc:0.449.hdf5\n",
            "Epoch 4/15\n",
            "3125/3125 [==============================] - 492s 157ms/step - loss: 2.2805 - acc: 0.4482 - val_loss: 2.3507 - val_acc: 0.4462\n",
            "Epoch 5/15\n",
            "3125/3125 [==============================] - 493s 158ms/step - loss: 2.2735 - acc: 0.4492 - val_loss: 2.3442 - val_acc: 0.4476\n",
            "Epoch 6/15\n",
            "3125/3125 [==============================] - 486s 156ms/step - loss: 2.2653 - acc: 0.4521 - val_loss: 2.3429 - val_acc: 0.4477\n",
            "\n",
            "Epoch 00006: val_acc did not improve from 0.44900\n",
            "Epoch 7/15\n",
            "3125/3125 [==============================] - 487s 156ms/step - loss: 2.2580 - acc: 0.4529 - val_loss: 2.3295 - val_acc: 0.4500\n",
            "Epoch 8/15\n",
            "3125/3125 [==============================] - 492s 158ms/step - loss: 2.2587 - acc: 0.4524 - val_loss: 2.3209 - val_acc: 0.4521\n",
            "Epoch 9/15\n",
            "3125/3125 [==============================] - 493s 158ms/step - loss: 2.2511 - acc: 0.4538 - val_loss: 2.3243 - val_acc: 0.4538\n",
            "\n",
            "Epoch 00009: val_acc improved from 0.44900 to 0.45380, saving model to /content/drive/My Drive/ass4/__32_16_64_32_16_64_32_inb_IMGAUG_epochs:009-acc:0.454-val_acc:0.454.hdf5\n",
            "Epoch 10/15\n",
            "3125/3125 [==============================] - 496s 159ms/step - loss: 2.2470 - acc: 0.4561 - val_loss: 2.3183 - val_acc: 0.4529\n",
            "Epoch 11/15\n",
            "3125/3125 [==============================] - 492s 157ms/step - loss: 2.2354 - acc: 0.4576 - val_loss: 2.3072 - val_acc: 0.4530\n",
            "Epoch 12/15\n",
            "3125/3125 [==============================] - 494s 158ms/step - loss: 2.2307 - acc: 0.4587 - val_loss: 2.3131 - val_acc: 0.4565\n",
            "\n",
            "Epoch 00012: val_acc improved from 0.45380 to 0.45650, saving model to /content/drive/My Drive/ass4/__32_16_64_32_16_64_32_inb_IMGAUG_epochs:012-acc:0.459-val_acc:0.457.hdf5\n",
            "Epoch 13/15\n",
            "3125/3125 [==============================] - 499s 160ms/step - loss: 2.2301 - acc: 0.4601 - val_loss: 2.3267 - val_acc: 0.4499\n",
            "Epoch 14/15\n",
            "3125/3125 [==============================] - 498s 159ms/step - loss: 2.2244 - acc: 0.4587 - val_loss: 2.3089 - val_acc: 0.4529\n",
            "Epoch 15/15\n",
            "3125/3125 [==============================] - 496s 159ms/step - loss: 2.2196 - acc: 0.4604 - val_loss: 2.3152 - val_acc: 0.4557\n",
            "\n",
            "Epoch 00015: val_acc did not improve from 0.45650\n"
          ],
          "name": "stdout"
        },
        {
          "output_type": "execute_result",
          "data": {
            "text/plain": [
              "<keras.callbacks.History at 0x7f5ce1171588>"
            ]
          },
          "metadata": {
            "tags": []
          },
          "execution_count": 55
        }
      ]
    },
    {
      "cell_type": "code",
      "metadata": {
        "id": "chR8wD_8Gh7q",
        "colab_type": "code",
        "outputId": "24d55046-cbc5-49d4-ad5e-52fadc61dc16",
        "colab": {
          "base_uri": "https://localhost:8080/",
          "height": 1005
        }
      },
      "source": [
        "model_aug.fit_generator(datagen.flow(X_train, Y_train, batch_size= 32),\n",
        "                        steps_per_epoch=X_train.shape[0] // 32,\n",
        "                        validation_data=(X_test, Y_test),\n",
        "                        epochs=15, verbose=1, max_q_size=100,\n",
        "                        callbacks = callbacks_list)"
      ],
      "execution_count": 0,
      "outputs": [
        {
          "output_type": "stream",
          "text": [
            "/usr/local/lib/python3.6/dist-packages/ipykernel_launcher.py:5: UserWarning: Update your `fit_generator` call to the Keras 2 API: `fit_generator(<keras_pre..., steps_per_epoch=3125, validation_data=(array([[[..., epochs=15, verbose=1, callbacks=[<keras.ca..., max_queue_size=100)`\n",
            "  \"\"\"\n"
          ],
          "name": "stderr"
        },
        {
          "output_type": "stream",
          "text": [
            "Epoch 1/15\n",
            "3125/3125 [==============================] - 492s 157ms/step - loss: 2.2137 - acc: 0.4622 - val_loss: 2.3146 - val_acc: 0.4551\n",
            "Epoch 2/15\n",
            "3125/3125 [==============================] - 490s 157ms/step - loss: 2.2074 - acc: 0.4627 - val_loss: 2.3010 - val_acc: 0.4579\n",
            "Epoch 3/15\n",
            "3125/3125 [==============================] - 500s 160ms/step - loss: 2.2026 - acc: 0.4650 - val_loss: 2.3120 - val_acc: 0.4546\n",
            "\n",
            "Epoch 00003: val_acc did not improve from 0.45650\n",
            "Epoch 4/15\n",
            "3125/3125 [==============================] - 499s 160ms/step - loss: 2.1975 - acc: 0.4657 - val_loss: 2.3039 - val_acc: 0.4569\n",
            "Epoch 5/15\n",
            "3125/3125 [==============================] - 492s 158ms/step - loss: 2.1911 - acc: 0.4664 - val_loss: 2.2970 - val_acc: 0.4579\n",
            "Epoch 6/15\n",
            "3125/3125 [==============================] - 497s 159ms/step - loss: 2.1888 - acc: 0.4681 - val_loss: 2.3106 - val_acc: 0.4558\n",
            "\n",
            "Epoch 00006: val_acc did not improve from 0.45650\n",
            "Epoch 7/15\n",
            "3125/3125 [==============================] - 498s 159ms/step - loss: 2.1894 - acc: 0.4675 - val_loss: 2.3028 - val_acc: 0.4544\n",
            "Epoch 8/15\n",
            "3125/3125 [==============================] - 492s 157ms/step - loss: 2.1838 - acc: 0.4698 - val_loss: 2.2931 - val_acc: 0.4590\n",
            "Epoch 9/15\n",
            "3125/3125 [==============================] - 494s 158ms/step - loss: 2.1770 - acc: 0.4693 - val_loss: 2.2984 - val_acc: 0.4603\n",
            "\n",
            "Epoch 00009: val_acc improved from 0.45650 to 0.46030, saving model to /content/drive/My Drive/ass4/__32_16_64_32_16_64_32_inb_IMGAUG_epochs:009-acc:0.469-val_acc:0.460.hdf5\n",
            "Epoch 10/15\n",
            "3125/3125 [==============================] - 497s 159ms/step - loss: 2.1723 - acc: 0.4709 - val_loss: 2.2904 - val_acc: 0.4590\n",
            "Epoch 11/15\n",
            "3125/3125 [==============================] - 497s 159ms/step - loss: 2.1704 - acc: 0.4713 - val_loss: 2.2791 - val_acc: 0.4575\n",
            "Epoch 12/15\n",
            "3125/3125 [==============================] - 501s 160ms/step - loss: 2.1654 - acc: 0.4725 - val_loss: 2.2897 - val_acc: 0.4606\n",
            "\n",
            "Epoch 00012: val_acc improved from 0.46030 to 0.46060, saving model to /content/drive/My Drive/ass4/__32_16_64_32_16_64_32_inb_IMGAUG_epochs:012-acc:0.472-val_acc:0.461.hdf5\n",
            "Epoch 13/15\n",
            "3125/3125 [==============================] - 500s 160ms/step - loss: 2.1643 - acc: 0.4731 - val_loss: 2.2871 - val_acc: 0.4592\n",
            "Epoch 14/15\n",
            "3125/3125 [==============================] - 496s 159ms/step - loss: 2.1557 - acc: 0.4750 - val_loss: 2.2851 - val_acc: 0.4617\n",
            "Epoch 15/15\n",
            "3125/3125 [==============================] - 494s 158ms/step - loss: 2.1569 - acc: 0.4737 - val_loss: 2.2883 - val_acc: 0.4559\n",
            "\n",
            "Epoch 00015: val_acc did not improve from 0.46060\n"
          ],
          "name": "stdout"
        },
        {
          "output_type": "execute_result",
          "data": {
            "text/plain": [
              "<keras.callbacks.History at 0x7f5ce1a73be0>"
            ]
          },
          "metadata": {
            "tags": []
          },
          "execution_count": 56
        }
      ]
    },
    {
      "cell_type": "code",
      "metadata": {
        "id": "14QQggtKce9b",
        "colab_type": "code",
        "outputId": "89551d36-3827-4cba-cffb-49e4501969ed",
        "colab": {
          "base_uri": "https://localhost:8080/",
          "height": 387
        }
      },
      "source": [
        "model_aug.fit_generator(datagen.flow(X_train, Y_train, batch_size= 32),\n",
        "                        steps_per_epoch=X_train.shape[0] // 32,\n",
        "                        validation_data=(X_test, Y_test),\n",
        "                        epochs=6, verbose=1, max_q_size=100,\n",
        "                        callbacks = callbacks_list)"
      ],
      "execution_count": 0,
      "outputs": [
        {
          "output_type": "stream",
          "text": [
            "/usr/local/lib/python3.6/dist-packages/ipykernel_launcher.py:5: UserWarning: Update your `fit_generator` call to the Keras 2 API: `fit_generator(<keras_pre..., steps_per_epoch=3125, validation_data=(array([[[..., epochs=6, verbose=1, callbacks=[<keras.ca..., max_queue_size=100)`\n",
            "  \"\"\"\n"
          ],
          "name": "stderr"
        },
        {
          "output_type": "stream",
          "text": [
            "Epoch 1/6\n",
            "3125/3125 [==============================] - 496s 159ms/step - loss: 2.1507 - acc: 0.4755 - val_loss: 2.2826 - val_acc: 0.4601\n",
            "Epoch 2/6\n",
            "3125/3125 [==============================] - 491s 157ms/step - loss: 2.1492 - acc: 0.4764 - val_loss: 2.2768 - val_acc: 0.4642\n",
            "Epoch 3/6\n",
            "3125/3125 [==============================] - 493s 158ms/step - loss: 2.1514 - acc: 0.4750 - val_loss: 2.2835 - val_acc: 0.4589\n",
            "\n",
            "Epoch 00003: val_acc did not improve from 0.46060\n",
            "Epoch 4/6\n",
            "3125/3125 [==============================] - 491s 157ms/step - loss: 2.1416 - acc: 0.4761 - val_loss: 2.2769 - val_acc: 0.4603\n",
            "Epoch 5/6\n",
            "3125/3125 [==============================] - 494s 158ms/step - loss: 2.1421 - acc: 0.4783 - val_loss: 2.2771 - val_acc: 0.4613\n",
            "Epoch 6/6\n",
            "3125/3125 [==============================] - 489s 156ms/step - loss: 2.1343 - acc: 0.4779 - val_loss: 2.2765 - val_acc: 0.4593\n",
            "\n",
            "Epoch 00006: val_acc did not improve from 0.46060\n"
          ],
          "name": "stdout"
        },
        {
          "output_type": "execute_result",
          "data": {
            "text/plain": [
              "<keras.callbacks.History at 0x7f5ce1ca16d8>"
            ]
          },
          "metadata": {
            "tags": []
          },
          "execution_count": 57
        }
      ]
    },
    {
      "cell_type": "code",
      "metadata": {
        "id": "G1QFVrKfFlTE",
        "colab_type": "code",
        "outputId": "f711a477-01a9-4161-d53f-8eb083006a48",
        "colab": {
          "base_uri": "https://localhost:8080/",
          "height": 151
        }
      },
      "source": [
        "## Loading model from previous checkpoint\n",
        "\n",
        "from keras.models import load_model\n",
        "import tensorflow as tf\n",
        "model_aug = load_model('/content/drive/My Drive/ass4/__32_16_64_32_16_64_32_inb_IMGAUG_epochs:012-acc:0.472-val_acc:0.461.hdf5',custom_objects={'tf': tf})\n"
      ],
      "execution_count": 0,
      "outputs": [
        {
          "output_type": "stream",
          "text": [
            "WARNING:tensorflow:From /usr/local/lib/python3.6/dist-packages/tensorflow/python/framework/op_def_library.py:263: colocate_with (from tensorflow.python.framework.ops) is deprecated and will be removed in a future version.\n",
            "Instructions for updating:\n",
            "Colocations handled automatically by placer.\n",
            "WARNING:tensorflow:From /usr/local/lib/python3.6/dist-packages/tensorflow/python/ops/math_ops.py:3066: to_int32 (from tensorflow.python.ops.math_ops) is deprecated and will be removed in a future version.\n",
            "Instructions for updating:\n",
            "Use tf.cast instead.\n"
          ],
          "name": "stdout"
        }
      ]
    },
    {
      "cell_type": "code",
      "metadata": {
        "id": "_TMxfczvG2nV",
        "colab_type": "code",
        "colab": {}
      },
      "source": [
        "from keras.callbacks import ReduceLROnPlateau, CSVLogger, ModelCheckpoint\n",
        "\n",
        "lr_reducer = ReduceLROnPlateau(factor=np.sqrt(0.1), cooldown=0, patience=5, min_lr=0.5e-6)\n",
        "csv_logger = CSVLogger('tinyImageNet.csv')\n",
        "\n",
        "filepath=\"/content/drive/My Drive/ass4/__32_16_64_32_16_64_32_inb_IMGAUG2_epochs:{epoch:03d}-acc:{acc:.3f}-val_acc:{val_acc:.3f}.hdf5\"\n",
        "checkpoint = ModelCheckpoint(filepath, monitor='val_acc', verbose=1, save_best_only=True, mode='max', period=3)\n",
        "callbacks_list = [checkpoint, lr_reducer, csv_logger ]"
      ],
      "execution_count": 0,
      "outputs": []
    },
    {
      "cell_type": "code",
      "metadata": {
        "id": "pQj36uMxJHwy",
        "colab_type": "code",
        "colab": {}
      },
      "source": [
        "##datagen already run above"
      ],
      "execution_count": 0,
      "outputs": []
    },
    {
      "cell_type": "code",
      "metadata": {
        "id": "D01jWEnMJFtJ",
        "colab_type": "code",
        "outputId": "e4809487-72de-4e1f-91c1-c59bd4e56455",
        "colab": {
          "base_uri": "https://localhost:8080/",
          "height": 1001
        }
      },
      "source": [
        "datagen.fit(X_train)\n",
        "\n",
        "model_aug.fit_generator(datagen.flow(X_train, Y_train, batch_size= 32),\n",
        "                        steps_per_epoch=X_train.shape[0] // 32,\n",
        "                        validation_data=(X_test, Y_test),\n",
        "                        epochs=9, verbose=1, max_q_size=100,\n",
        "                        callbacks = callbacks_list)"
      ],
      "execution_count": 0,
      "outputs": [
        {
          "output_type": "stream",
          "text": [
            "/usr/local/lib/python3.6/dist-packages/ipykernel_launcher.py:7: UserWarning: Update your `fit_generator` call to the Keras 2 API: `fit_generator(<keras_pre..., steps_per_epoch=3125, validation_data=(array([[[..., epochs=9, verbose=1, callbacks=[<keras.ca..., max_queue_size=100)`\n",
            "  import sys\n"
          ],
          "name": "stderr"
        },
        {
          "output_type": "stream",
          "text": [
            "Epoch 1/9\n",
            "3125/3125 [==============================] - 483s 155ms/step - loss: 2.1674 - acc: 0.4725 - val_loss: 2.2836 - val_acc: 0.4580\n",
            "Epoch 2/9\n",
            "3125/3125 [==============================] - 475s 152ms/step - loss: 2.1627 - acc: 0.4722 - val_loss: 2.2848 - val_acc: 0.4611\n",
            "Epoch 3/9\n",
            " 671/3125 [=====>........................] - ETA: 6:02 - loss: 2.1570 - acc: 0.4753"
          ],
          "name": "stdout"
        },
        {
          "output_type": "stream",
          "text": [
            "/usr/local/lib/python3.6/dist-packages/ipykernel_launcher.py:7: UserWarning: Update your `fit_generator` call to the Keras 2 API: `fit_generator(<keras_pre..., steps_per_epoch=3125, validation_data=(array([[[..., epochs=9, verbose=1, callbacks=[<keras.ca..., max_queue_size=100)`\n",
            "  import sys\n"
          ],
          "name": "stderr"
        },
        {
          "output_type": "stream",
          "text": [
            "Epoch 1/9\n",
            "3125/3125 [==============================] - 483s 155ms/step - loss: 2.1674 - acc: 0.4725 - val_loss: 2.2836 - val_acc: 0.4580\n",
            "Epoch 2/9\n",
            "3125/3125 [==============================] - 475s 152ms/step - loss: 2.1627 - acc: 0.4722 - val_loss: 2.2848 - val_acc: 0.4611\n",
            "Epoch 3/9\n",
            "3125/3125 [==============================] - 475s 152ms/step - loss: 2.1571 - acc: 0.4724 - val_loss: 2.2835 - val_acc: 0.4636\n",
            "3125/3125 [==============================] - 475s 152ms/step - loss: 2.1571 - acc: 0.4724 - val_loss: 2.2835 - val_acc: 0.4636\n",
            "\n",
            "Epoch 00003: val_acc improved from -inf to 0.46360, saving model to /content/drive/My Drive/ass4/__32_16_64_32_16_64_32_inb_IMGAUG2_epochs:003-acc:0.472-val_acc:0.464.hdf5\n",
            "\n",
            "Epoch 00003: val_acc improved from -inf to 0.46360, saving model to /content/drive/My Drive/ass4/__32_16_64_32_16_64_32_inb_IMGAUG2_epochs:003-acc:0.472-val_acc:0.464.hdf5\n",
            "Epoch 4/9\n",
            "   1/3125 [..............................] - ETA: 7:36 - loss: 2.1677 - acc: 0.5312Epoch 4/9\n",
            "3125/3125 [==============================] - 475s 152ms/step - loss: 2.1510 - acc: 0.4735 - val_loss: 2.2790 - val_acc: 0.4615\n",
            "3125/3125 [==============================] - 475s 152ms/step - loss: 2.1510 - acc: 0.4735 - val_loss: 2.2790 - val_acc: 0.4615\n",
            "Epoch 5/9\n",
            "   1/3125 [..............................] - ETA: 7:49 - loss: 2.1664 - acc: 0.4375Epoch 5/9\n",
            "3125/3125 [==============================] - 476s 152ms/step - loss: 2.1517 - acc: 0.4750 - val_loss: 2.2851 - val_acc: 0.4602\n",
            "3125/3125 [==============================] - 476s 152ms/step - loss: 2.1517 - acc: 0.4750 - val_loss: 2.2851 - val_acc: 0.4602\n",
            "Epoch 6/9\n",
            "   1/3125 [..............................] - ETA: 7:56 - loss: 2.2607 - acc: 0.4688Epoch 6/9\n",
            "3125/3125 [==============================] - 476s 152ms/step - loss: 2.1439 - acc: 0.4761 - val_loss: 2.2851 - val_acc: 0.4588\n",
            "3125/3125 [==============================] - 476s 152ms/step - loss: 2.1439 - acc: 0.4761 - val_loss: 2.2851 - val_acc: 0.4588\n",
            "\n",
            "Epoch 00006: val_acc did not improve from 0.46360\n",
            "Epoch 7/9\n",
            "   1/3125 [..............................] - ETA: 7:36 - loss: 2.2857 - acc: 0.5000\n",
            "Epoch 00006: val_acc did not improve from 0.46360\n",
            "Epoch 7/9\n",
            "3125/3125 [==============================] - 476s 152ms/step - loss: 2.1459 - acc: 0.4769 - val_loss: 2.2729 - val_acc: 0.4616\n",
            "3125/3125 [==============================] - 476s 152ms/step - loss: 2.1459 - acc: 0.4769 - val_loss: 2.2729 - val_acc: 0.4616\n",
            "Epoch 8/9\n",
            "   1/3125 [..............................] - ETA: 7:32 - loss: 2.3787 - acc: 0.4688Epoch 8/9\n",
            "3125/3125 [==============================] - 476s 152ms/step - loss: 2.1445 - acc: 0.4760 - val_loss: 2.2720 - val_acc: 0.4621\n",
            "3125/3125 [==============================] - 476s 152ms/step - loss: 2.1445 - acc: 0.4760 - val_loss: 2.2720 - val_acc: 0.4621\n",
            "Epoch 9/9\n",
            "   1/3125 [..............................] - ETA: 8:01 - loss: 1.6326 - acc: 0.5938Epoch 9/9\n",
            "3125/3125 [==============================] - 480s 153ms/step - loss: 2.1371 - acc: 0.4776 - val_loss: 2.2792 - val_acc: 0.4630\n",
            "3125/3125 [==============================] - 480s 153ms/step - loss: 2.1371 - acc: 0.4776 - val_loss: 2.2792 - val_acc: 0.4630\n",
            "\n",
            "Epoch 00009: val_acc did not improve from 0.46360\n",
            "\n",
            "Epoch 00009: val_acc did not improve from 0.46360\n"
          ],
          "name": "stdout"
        },
        {
          "output_type": "execute_result",
          "data": {
            "text/plain": [
              "<keras.callbacks.History at 0x7f87a22caf60>"
            ]
          },
          "metadata": {
            "tags": []
          },
          "execution_count": 25
        },
        {
          "output_type": "execute_result",
          "data": {
            "text/plain": [
              "<keras.callbacks.History at 0x7f87a22caf60>"
            ]
          },
          "metadata": {
            "tags": []
          },
          "execution_count": 25
        }
      ]
    },
    {
      "cell_type": "code",
      "metadata": {
        "id": "KJdKLRmmbLEo",
        "colab_type": "code",
        "outputId": "24964335-1d0e-4393-d191-f3c5c8c7dd74",
        "colab": {
          "base_uri": "https://localhost:8080/",
          "height": 1005
        }
      },
      "source": [
        "## above log file shows 2 records for same epoch. Perhaps due to reconnecting to the session\n",
        "\n",
        "model_aug.fit_generator(datagen.flow(X_train, Y_train, batch_size= 32),\n",
        "                        steps_per_epoch=X_train.shape[0] // 32,\n",
        "                        validation_data=(X_test, Y_test),\n",
        "                        epochs=3, verbose=1, max_q_size=100,\n",
        "                        callbacks = callbacks_list)"
      ],
      "execution_count": 0,
      "outputs": [
        {
          "output_type": "stream",
          "text": [
            "/usr/local/lib/python3.6/dist-packages/ipykernel_launcher.py:6: UserWarning: Update your `fit_generator` call to the Keras 2 API: `fit_generator(<keras_pre..., steps_per_epoch=3125, validation_data=(array([[[..., epochs=3, verbose=1, callbacks=[<keras.ca..., max_queue_size=100)`\n",
            "  \n"
          ],
          "name": "stderr"
        },
        {
          "output_type": "stream",
          "text": [
            "Epoch 1/3\n",
            "3125/3125 [==============================] - 481s 154ms/step - loss: 2.1346 - acc: 0.4792 - val_loss: 2.2755 - val_acc: 0.4609\n",
            "Epoch 2/3\n",
            "3125/3125 [==============================] - 479s 153ms/step - loss: 2.1342 - acc: 0.4792 - val_loss: 2.2697 - val_acc: 0.4642\n",
            "Epoch 3/3\n",
            "3125/3125 [==============================] - 479s 153ms/step - loss: 2.1258 - acc: 0.4804 - val_loss: 2.2777 - val_acc: 0.4616\n",
            "\n",
            "Epoch 00003: val_acc did not improve from 0.46360\n"
          ],
          "name": "stdout"
        },
        {
          "output_type": "execute_result",
          "data": {
            "text/plain": [
              "<keras.callbacks.History at 0x7f87a2093f60>"
            ]
          },
          "metadata": {
            "tags": []
          },
          "execution_count": 27
        }
      ]
    },
    {
      "cell_type": "markdown",
      "metadata": {
        "id": "dj60ngVqpB14",
        "colab_type": "text"
      },
      "source": [
        "### Without augmentation 64X64"
      ]
    },
    {
      "cell_type": "code",
      "metadata": {
        "id": "Gx73yELlmRFg",
        "colab_type": "code",
        "outputId": "b8707273-71d3-49f6-ecc7-a2a33176d38a",
        "colab": {
          "base_uri": "https://localhost:8080/",
          "height": 90
        }
      },
      "source": [
        "print(X_train.shape)\n",
        "print(Y_train.shape)\n",
        "print(X_test.shape)\n",
        "print(Y_test.shape)"
      ],
      "execution_count": 0,
      "outputs": [
        {
          "output_type": "stream",
          "text": [
            "(100000, 64, 64, 3)\n",
            "(100000, 200)\n",
            "(10000, 64, 64, 3)\n",
            "(10000, 200)\n"
          ],
          "name": "stdout"
        }
      ]
    },
    {
      "cell_type": "code",
      "metadata": {
        "id": "Yjx8cP83qJNK",
        "colab_type": "code",
        "outputId": "e29e1991-11a2-4a49-d46a-72b13037e057",
        "colab": {
          "base_uri": "https://localhost:8080/",
          "height": 160
        }
      },
      "source": [
        "## loading model from previous checkpoint\n",
        "\n",
        "from keras.models import load_model\n",
        "import tensorflow as tf\n",
        "model_nor = load_model('/content/drive/My Drive/ass4/__32_16_64_32_16_64_32_inb_IMGAUG2_epochs:003-acc:0.472-val_acc:0.464.hdf5',custom_objects={'tf': tf})\n"
      ],
      "execution_count": 0,
      "outputs": [
        {
          "output_type": "stream",
          "text": [
            "WARNING:tensorflow:From /usr/local/lib/python3.6/dist-packages/tensorflow/python/framework/op_def_library.py:263: colocate_with (from tensorflow.python.framework.ops) is deprecated and will be removed in a future version.\n",
            "Instructions for updating:\n",
            "Colocations handled automatically by placer.\n",
            "WARNING:tensorflow:From /usr/local/lib/python3.6/dist-packages/tensorflow/python/ops/math_ops.py:3066: to_int32 (from tensorflow.python.ops.math_ops) is deprecated and will be removed in a future version.\n",
            "Instructions for updating:\n",
            "Use tf.cast instead.\n"
          ],
          "name": "stdout"
        }
      ]
    },
    {
      "cell_type": "code",
      "metadata": {
        "id": "7VMidJW7tkO_",
        "colab_type": "code",
        "outputId": "04d4a534-a0f2-432f-88d4-fb2dbe1a0d55",
        "colab": {
          "base_uri": "https://localhost:8080/",
          "height": 72
        }
      },
      "source": [
        "score = model_nor.evaluate(X_test, Y_test, verbose=1)\n",
        "print('Test loss:', score[0])\n",
        "print('Test accuracy:', score[1])"
      ],
      "execution_count": 0,
      "outputs": [
        {
          "output_type": "stream",
          "text": [
            "10000/10000 [==============================] - 52s 5ms/step\n",
            "Test loss: 3.499537476348877\n",
            "Test accuracy: 0.2301\n"
          ],
          "name": "stdout"
        }
      ]
    },
    {
      "cell_type": "code",
      "metadata": {
        "id": "hFO8cmGgm4TK",
        "colab_type": "code",
        "colab": {}
      },
      "source": [
        "from keras.callbacks import ReduceLROnPlateau, CSVLogger, ModelCheckpoint\n",
        "lr_reducer = ReduceLROnPlateau(factor=np.sqrt(0.1), cooldown=0, patience=5, min_lr=0.5e-6)\n",
        "csv_logger = CSVLogger('tinyImageNet.csv')"
      ],
      "execution_count": 0,
      "outputs": []
    },
    {
      "cell_type": "code",
      "metadata": {
        "id": "hVrMlwqTnFer",
        "colab_type": "code",
        "colab": {}
      },
      "source": [
        "filepath=\"/content/drive/My Drive/ass4/__32_16_64_32_16_64_32_inb_IMGAUG_nor64_epochs:{epoch:03d}-acc:{acc:.3f}-val_acc:{val_acc:.3f}.hdf5\"\n",
        "checkpoint = ModelCheckpoint(filepath, monitor='val_acc', verbose=1, save_best_only=True, mode='max', period=3)\n",
        "callbacks_list = [checkpoint, lr_reducer, csv_logger ]"
      ],
      "execution_count": 0,
      "outputs": []
    },
    {
      "cell_type": "code",
      "metadata": {
        "id": "KufW-ixMnV3B",
        "colab_type": "code",
        "outputId": "0edd7066-6a90-411a-9bd3-69b9b7019502",
        "colab": {
          "base_uri": "https://localhost:8080/",
          "height": 1245
        }
      },
      "source": [
        "callbacks_list = [checkpoint, lr_reducer, csv_logger ]\n",
        "\n",
        "epochs = 9\n",
        "\n",
        "model_nor.fit(X_train, Y_train,\n",
        "          batch_size=128,\n",
        "          nb_epoch=epochs,\n",
        "          validation_data=(X_test, Y_test),\n",
        "          shuffle=True,\n",
        "          callbacks = callbacks_list)"
      ],
      "execution_count": 0,
      "outputs": [
        {
          "output_type": "stream",
          "text": [
            "/usr/local/lib/python3.6/dist-packages/ipykernel_launcher.py:10: UserWarning: The `nb_epoch` argument in `fit` has been renamed `epochs`.\n",
            "  # Remove the CWD from sys.path while we load stuff.\n"
          ],
          "name": "stderr"
        },
        {
          "output_type": "stream",
          "text": [
            "Train on 100000 samples, validate on 10000 samples\n",
            "Epoch 1/9\n",
            "100000/100000 [==============================] - 1753s 18ms/step - loss: 2.3240 - acc: 0.4566 - val_loss: 2.4025 - val_acc: 0.4349\n",
            "Epoch 2/9\n",
            "100000/100000 [==============================] - 1734s 17ms/step - loss: 2.1678 - acc: 0.4892 - val_loss: 2.3452 - val_acc: 0.4441\n",
            "Epoch 3/9\n",
            "100000/100000 [==============================] - 1734s 17ms/step - loss: 2.1111 - acc: 0.5003 - val_loss: 2.3075 - val_acc: 0.4528\n",
            "\n",
            "Epoch 00003: val_acc improved from -inf to 0.45280, saving model to /content/drive/My Drive/ass4/__32_16_64_32_16_64_32_inb_IMGAUG_nor64_epochs:003-acc:0.500-val_acc:0.453.hdf5\n",
            "Epoch 4/9\n",
            "100000/100000 [==============================] - 1735s 17ms/step - loss: 2.0752 - acc: 0.5081 - val_loss: 2.2830 - val_acc: 0.4569\n",
            "Epoch 5/9\n",
            "100000/100000 [==============================] - 1736s 17ms/step - loss: 2.0480 - acc: 0.5126 - val_loss: 2.2645 - val_acc: 0.4615\n",
            "Epoch 6/9\n",
            "100000/100000 [==============================] - 1736s 17ms/step - loss: 2.0248 - acc: 0.5173 - val_loss: 2.2512 - val_acc: 0.4671\n",
            "\n",
            "Epoch 00006: val_acc improved from 0.45280 to 0.46710, saving model to /content/drive/My Drive/ass4/__32_16_64_32_16_64_32_inb_IMGAUG_nor64_epochs:006-acc:0.517-val_acc:0.467.hdf5\n",
            "Epoch 7/9\n",
            " 10112/100000 [==>...........................] - ETA: 25:21 - loss: 2.0143 - acc: 0.5194"
          ],
          "name": "stdout"
        },
        {
          "output_type": "error",
          "ename": "KeyboardInterrupt",
          "evalue": "ignored",
          "traceback": [
            "\u001b[0;31m---------------------------------------------------------------------------\u001b[0m",
            "\u001b[0;31mKeyboardInterrupt\u001b[0m                         Traceback (most recent call last)",
            "\u001b[0;32m<ipython-input-23-82b0fc9690a3>\u001b[0m in \u001b[0;36m<module>\u001b[0;34m()\u001b[0m\n\u001b[1;32m      8\u001b[0m           \u001b[0mvalidation_data\u001b[0m\u001b[0;34m=\u001b[0m\u001b[0;34m(\u001b[0m\u001b[0mX_test\u001b[0m\u001b[0;34m,\u001b[0m \u001b[0mY_test\u001b[0m\u001b[0;34m)\u001b[0m\u001b[0;34m,\u001b[0m\u001b[0;34m\u001b[0m\u001b[0;34m\u001b[0m\u001b[0m\n\u001b[1;32m      9\u001b[0m           \u001b[0mshuffle\u001b[0m\u001b[0;34m=\u001b[0m\u001b[0;32mTrue\u001b[0m\u001b[0;34m,\u001b[0m\u001b[0;34m\u001b[0m\u001b[0;34m\u001b[0m\u001b[0m\n\u001b[0;32m---> 10\u001b[0;31m           callbacks = callbacks_list)\n\u001b[0m",
            "\u001b[0;32m/usr/local/lib/python3.6/dist-packages/keras/engine/training.py\u001b[0m in \u001b[0;36mfit\u001b[0;34m(self, x, y, batch_size, epochs, verbose, callbacks, validation_split, validation_data, shuffle, class_weight, sample_weight, initial_epoch, steps_per_epoch, validation_steps, **kwargs)\u001b[0m\n\u001b[1;32m   1037\u001b[0m                                         \u001b[0minitial_epoch\u001b[0m\u001b[0;34m=\u001b[0m\u001b[0minitial_epoch\u001b[0m\u001b[0;34m,\u001b[0m\u001b[0;34m\u001b[0m\u001b[0;34m\u001b[0m\u001b[0m\n\u001b[1;32m   1038\u001b[0m                                         \u001b[0msteps_per_epoch\u001b[0m\u001b[0;34m=\u001b[0m\u001b[0msteps_per_epoch\u001b[0m\u001b[0;34m,\u001b[0m\u001b[0;34m\u001b[0m\u001b[0;34m\u001b[0m\u001b[0m\n\u001b[0;32m-> 1039\u001b[0;31m                                         validation_steps=validation_steps)\n\u001b[0m\u001b[1;32m   1040\u001b[0m \u001b[0;34m\u001b[0m\u001b[0m\n\u001b[1;32m   1041\u001b[0m     def evaluate(self, x=None, y=None,\n",
            "\u001b[0;32m/usr/local/lib/python3.6/dist-packages/keras/engine/training_arrays.py\u001b[0m in \u001b[0;36mfit_loop\u001b[0;34m(model, f, ins, out_labels, batch_size, epochs, verbose, callbacks, val_f, val_ins, shuffle, callback_metrics, initial_epoch, steps_per_epoch, validation_steps)\u001b[0m\n\u001b[1;32m    197\u001b[0m                     \u001b[0mins_batch\u001b[0m\u001b[0;34m[\u001b[0m\u001b[0mi\u001b[0m\u001b[0;34m]\u001b[0m \u001b[0;34m=\u001b[0m \u001b[0mins_batch\u001b[0m\u001b[0;34m[\u001b[0m\u001b[0mi\u001b[0m\u001b[0;34m]\u001b[0m\u001b[0;34m.\u001b[0m\u001b[0mtoarray\u001b[0m\u001b[0;34m(\u001b[0m\u001b[0;34m)\u001b[0m\u001b[0;34m\u001b[0m\u001b[0;34m\u001b[0m\u001b[0m\n\u001b[1;32m    198\u001b[0m \u001b[0;34m\u001b[0m\u001b[0m\n\u001b[0;32m--> 199\u001b[0;31m                 \u001b[0mouts\u001b[0m \u001b[0;34m=\u001b[0m \u001b[0mf\u001b[0m\u001b[0;34m(\u001b[0m\u001b[0mins_batch\u001b[0m\u001b[0;34m)\u001b[0m\u001b[0;34m\u001b[0m\u001b[0;34m\u001b[0m\u001b[0m\n\u001b[0m\u001b[1;32m    200\u001b[0m                 \u001b[0mouts\u001b[0m \u001b[0;34m=\u001b[0m \u001b[0mto_list\u001b[0m\u001b[0;34m(\u001b[0m\u001b[0mouts\u001b[0m\u001b[0;34m)\u001b[0m\u001b[0;34m\u001b[0m\u001b[0;34m\u001b[0m\u001b[0m\n\u001b[1;32m    201\u001b[0m                 \u001b[0;32mfor\u001b[0m \u001b[0ml\u001b[0m\u001b[0;34m,\u001b[0m \u001b[0mo\u001b[0m \u001b[0;32min\u001b[0m \u001b[0mzip\u001b[0m\u001b[0;34m(\u001b[0m\u001b[0mout_labels\u001b[0m\u001b[0;34m,\u001b[0m \u001b[0mouts\u001b[0m\u001b[0;34m)\u001b[0m\u001b[0;34m:\u001b[0m\u001b[0;34m\u001b[0m\u001b[0;34m\u001b[0m\u001b[0m\n",
            "\u001b[0;32m/usr/local/lib/python3.6/dist-packages/keras/backend/tensorflow_backend.py\u001b[0m in \u001b[0;36m__call__\u001b[0;34m(self, inputs)\u001b[0m\n\u001b[1;32m   2713\u001b[0m                 \u001b[0;32mreturn\u001b[0m \u001b[0mself\u001b[0m\u001b[0;34m.\u001b[0m\u001b[0m_legacy_call\u001b[0m\u001b[0;34m(\u001b[0m\u001b[0minputs\u001b[0m\u001b[0;34m)\u001b[0m\u001b[0;34m\u001b[0m\u001b[0;34m\u001b[0m\u001b[0m\n\u001b[1;32m   2714\u001b[0m \u001b[0;34m\u001b[0m\u001b[0m\n\u001b[0;32m-> 2715\u001b[0;31m             \u001b[0;32mreturn\u001b[0m \u001b[0mself\u001b[0m\u001b[0;34m.\u001b[0m\u001b[0m_call\u001b[0m\u001b[0;34m(\u001b[0m\u001b[0minputs\u001b[0m\u001b[0;34m)\u001b[0m\u001b[0;34m\u001b[0m\u001b[0;34m\u001b[0m\u001b[0m\n\u001b[0m\u001b[1;32m   2716\u001b[0m         \u001b[0;32melse\u001b[0m\u001b[0;34m:\u001b[0m\u001b[0;34m\u001b[0m\u001b[0;34m\u001b[0m\u001b[0m\n\u001b[1;32m   2717\u001b[0m             \u001b[0;32mif\u001b[0m \u001b[0mpy_any\u001b[0m\u001b[0;34m(\u001b[0m\u001b[0mis_tensor\u001b[0m\u001b[0;34m(\u001b[0m\u001b[0mx\u001b[0m\u001b[0;34m)\u001b[0m \u001b[0;32mfor\u001b[0m \u001b[0mx\u001b[0m \u001b[0;32min\u001b[0m \u001b[0minputs\u001b[0m\u001b[0;34m)\u001b[0m\u001b[0;34m:\u001b[0m\u001b[0;34m\u001b[0m\u001b[0;34m\u001b[0m\u001b[0m\n",
            "\u001b[0;32m/usr/local/lib/python3.6/dist-packages/keras/backend/tensorflow_backend.py\u001b[0m in \u001b[0;36m_call\u001b[0;34m(self, inputs)\u001b[0m\n\u001b[1;32m   2673\u001b[0m             \u001b[0mfetched\u001b[0m \u001b[0;34m=\u001b[0m \u001b[0mself\u001b[0m\u001b[0;34m.\u001b[0m\u001b[0m_callable_fn\u001b[0m\u001b[0;34m(\u001b[0m\u001b[0;34m*\u001b[0m\u001b[0marray_vals\u001b[0m\u001b[0;34m,\u001b[0m \u001b[0mrun_metadata\u001b[0m\u001b[0;34m=\u001b[0m\u001b[0mself\u001b[0m\u001b[0;34m.\u001b[0m\u001b[0mrun_metadata\u001b[0m\u001b[0;34m)\u001b[0m\u001b[0;34m\u001b[0m\u001b[0;34m\u001b[0m\u001b[0m\n\u001b[1;32m   2674\u001b[0m         \u001b[0;32melse\u001b[0m\u001b[0;34m:\u001b[0m\u001b[0;34m\u001b[0m\u001b[0;34m\u001b[0m\u001b[0m\n\u001b[0;32m-> 2675\u001b[0;31m             \u001b[0mfetched\u001b[0m \u001b[0;34m=\u001b[0m \u001b[0mself\u001b[0m\u001b[0;34m.\u001b[0m\u001b[0m_callable_fn\u001b[0m\u001b[0;34m(\u001b[0m\u001b[0;34m*\u001b[0m\u001b[0marray_vals\u001b[0m\u001b[0;34m)\u001b[0m\u001b[0;34m\u001b[0m\u001b[0;34m\u001b[0m\u001b[0m\n\u001b[0m\u001b[1;32m   2676\u001b[0m         \u001b[0;32mreturn\u001b[0m \u001b[0mfetched\u001b[0m\u001b[0;34m[\u001b[0m\u001b[0;34m:\u001b[0m\u001b[0mlen\u001b[0m\u001b[0;34m(\u001b[0m\u001b[0mself\u001b[0m\u001b[0;34m.\u001b[0m\u001b[0moutputs\u001b[0m\u001b[0;34m)\u001b[0m\u001b[0;34m]\u001b[0m\u001b[0;34m\u001b[0m\u001b[0;34m\u001b[0m\u001b[0m\n\u001b[1;32m   2677\u001b[0m \u001b[0;34m\u001b[0m\u001b[0m\n",
            "\u001b[0;32m/usr/local/lib/python3.6/dist-packages/tensorflow/python/client/session.py\u001b[0m in \u001b[0;36m__call__\u001b[0;34m(self, *args, **kwargs)\u001b[0m\n\u001b[1;32m   1437\u001b[0m           ret = tf_session.TF_SessionRunCallable(\n\u001b[1;32m   1438\u001b[0m               \u001b[0mself\u001b[0m\u001b[0;34m.\u001b[0m\u001b[0m_session\u001b[0m\u001b[0;34m.\u001b[0m\u001b[0m_session\u001b[0m\u001b[0;34m,\u001b[0m \u001b[0mself\u001b[0m\u001b[0;34m.\u001b[0m\u001b[0m_handle\u001b[0m\u001b[0;34m,\u001b[0m \u001b[0margs\u001b[0m\u001b[0;34m,\u001b[0m \u001b[0mstatus\u001b[0m\u001b[0;34m,\u001b[0m\u001b[0;34m\u001b[0m\u001b[0;34m\u001b[0m\u001b[0m\n\u001b[0;32m-> 1439\u001b[0;31m               run_metadata_ptr)\n\u001b[0m\u001b[1;32m   1440\u001b[0m         \u001b[0;32mif\u001b[0m \u001b[0mrun_metadata\u001b[0m\u001b[0;34m:\u001b[0m\u001b[0;34m\u001b[0m\u001b[0;34m\u001b[0m\u001b[0m\n\u001b[1;32m   1441\u001b[0m           \u001b[0mproto_data\u001b[0m \u001b[0;34m=\u001b[0m \u001b[0mtf_session\u001b[0m\u001b[0;34m.\u001b[0m\u001b[0mTF_GetBuffer\u001b[0m\u001b[0;34m(\u001b[0m\u001b[0mrun_metadata_ptr\u001b[0m\u001b[0;34m)\u001b[0m\u001b[0;34m\u001b[0m\u001b[0;34m\u001b[0m\u001b[0m\n",
            "\u001b[0;31mKeyboardInterrupt\u001b[0m: "
          ]
        }
      ]
    },
    {
      "cell_type": "code",
      "metadata": {
        "id": "pqK3xzK7QGDI",
        "colab_type": "code",
        "outputId": "64b89a1e-8b6f-48c9-ae3a-56b9fb68bdb0",
        "colab": {
          "base_uri": "https://localhost:8080/",
          "height": 72
        }
      },
      "source": [
        "score = model_nor.evaluate(X_test, Y_test, verbose=1)\n",
        "print('Test loss:', score[0])\n",
        "print('Test accuracy:', score[1])"
      ],
      "execution_count": 0,
      "outputs": [
        {
          "output_type": "stream",
          "text": [
            "10000/10000 [==============================] - 47s 5ms/step\n",
            "Test loss: 2.247811727523804\n",
            "Test accuracy: 0.4669\n"
          ],
          "name": "stdout"
        }
      ]
    },
    {
      "cell_type": "markdown",
      "metadata": {
        "id": "YNCmBWnqdZe4",
        "colab_type": "text"
      },
      "source": [
        "### using CLR"
      ]
    },
    {
      "cell_type": "code",
      "metadata": {
        "id": "BZWS0XIzcv3k",
        "colab_type": "code",
        "outputId": "ffcc270b-70dc-4953-bc3c-68bb294425ae",
        "colab": {
          "base_uri": "https://localhost:8080/",
          "height": 151
        }
      },
      "source": [
        "## loading model from previous checkpoint\n",
        "\n",
        "from keras.models import load_model\n",
        "import tensorflow as tf\n",
        "model_nor = load_model('/content/drive/My Drive/ass4/__32_16_64_32_16_64_32_inb_IMGAUG_nor64_epochs:006-acc:0.517-val_acc:0.467.hdf5',custom_objects={'tf': tf})\n"
      ],
      "execution_count": 0,
      "outputs": [
        {
          "output_type": "stream",
          "text": [
            "WARNING:tensorflow:From /usr/local/lib/python3.6/dist-packages/tensorflow/python/framework/op_def_library.py:263: colocate_with (from tensorflow.python.framework.ops) is deprecated and will be removed in a future version.\n",
            "Instructions for updating:\n",
            "Colocations handled automatically by placer.\n",
            "WARNING:tensorflow:From /usr/local/lib/python3.6/dist-packages/tensorflow/python/ops/math_ops.py:3066: to_int32 (from tensorflow.python.ops.math_ops) is deprecated and will be removed in a future version.\n",
            "Instructions for updating:\n",
            "Use tf.cast instead.\n"
          ],
          "name": "stdout"
        }
      ]
    },
    {
      "cell_type": "code",
      "metadata": {
        "id": "02yrWeBmbTok",
        "colab_type": "code",
        "colab": {}
      },
      "source": [
        "## Using CLR\n",
        "from keras.callbacks import ModelCheckpoint\n",
        "from clr_callback import *\n",
        "\n",
        "filepath=\"/content/drive/My Drive/ass4/__32_16_64_32_16_64_32_inb_IMGAUG_nor64_epochs6+:{epoch:03d}-acc:{acc:.3f}-val_acc:{val_acc:.3f}.hdf5\"\n",
        "checkpoint = ModelCheckpoint(filepath, monitor='val_acc', verbose=1, save_best_only=True, mode='max', period=3)\n",
        "clr_triangular = CyclicLR(mode='triangular')\n",
        "callbacks_list = [checkpoint, clr_triangular]\n"
      ],
      "execution_count": 0,
      "outputs": []
    },
    {
      "cell_type": "code",
      "metadata": {
        "id": "7KugXVMvc9T6",
        "colab_type": "code",
        "outputId": "bd47d2c6-2748-414d-fd27-67b9d76f6868",
        "colab": {
          "base_uri": "https://localhost:8080/",
          "height": 1573
        }
      },
      "source": [
        "epochs = 15\n",
        "\n",
        "model_nor.fit(X_train, Y_train,\n",
        "          batch_size=128,\n",
        "          nb_epoch=epochs,\n",
        "          validation_data=(X_test, Y_test),\n",
        "          shuffle=True,\n",
        "          callbacks = callbacks_list)"
      ],
      "execution_count": 0,
      "outputs": [
        {
          "output_type": "stream",
          "text": [
            "/usr/local/lib/python3.6/dist-packages/ipykernel_launcher.py:8: UserWarning: The `nb_epoch` argument in `fit` has been renamed `epochs`.\n",
            "  \n"
          ],
          "name": "stderr"
        },
        {
          "output_type": "stream",
          "text": [
            "Train on 100000 samples, validate on 10000 samples\n",
            "Epoch 1/15\n",
            "100000/100000 [==============================] - 1851s 19ms/step - loss: 2.0082 - acc: 0.5204 - val_loss: 2.2407 - val_acc: 0.4672\n",
            "Epoch 2/15\n",
            "100000/100000 [==============================] - 1832s 18ms/step - loss: 1.9967 - acc: 0.5232 - val_loss: 2.2288 - val_acc: 0.4704\n",
            "Epoch 3/15\n",
            "100000/100000 [==============================] - 1832s 18ms/step - loss: 1.9774 - acc: 0.5271 - val_loss: 2.2139 - val_acc: 0.4743\n",
            "\n",
            "Epoch 00003: val_acc improved from -inf to 0.47430, saving model to /content/drive/My Drive/ass4/__32_16_64_32_16_64_32_inb_IMGAUG_nor64_epochs6+:003-acc:0.527-val_acc:0.474.hdf5\n",
            "Epoch 4/15\n",
            "100000/100000 [==============================] - 1833s 18ms/step - loss: 1.9577 - acc: 0.5309 - val_loss: 2.2039 - val_acc: 0.4753\n",
            "Epoch 5/15\n",
            "100000/100000 [==============================] - 1854s 19ms/step - loss: 1.9425 - acc: 0.5339 - val_loss: 2.1964 - val_acc: 0.4787\n",
            "Epoch 6/15\n",
            "100000/100000 [==============================] - 1864s 19ms/step - loss: 1.9356 - acc: 0.5355 - val_loss: 2.1928 - val_acc: 0.4787\n",
            "\n",
            "Epoch 00006: val_acc improved from 0.47430 to 0.47870, saving model to /content/drive/My Drive/ass4/__32_16_64_32_16_64_32_inb_IMGAUG_nor64_epochs6+:006-acc:0.536-val_acc:0.479.hdf5\n",
            "Epoch 7/15\n",
            "100000/100000 [==============================] - 1863s 19ms/step - loss: 1.9311 - acc: 0.5367 - val_loss: 2.1914 - val_acc: 0.4771\n",
            "Epoch 8/15\n",
            "100000/100000 [==============================] - 1863s 19ms/step - loss: 1.9222 - acc: 0.5381 - val_loss: 2.1834 - val_acc: 0.4770\n",
            "Epoch 9/15\n",
            "100000/100000 [==============================] - 1864s 19ms/step - loss: 1.9097 - acc: 0.5393 - val_loss: 2.1726 - val_acc: 0.4821\n",
            "\n",
            "Epoch 00009: val_acc improved from 0.47870 to 0.48210, saving model to /content/drive/My Drive/ass4/__32_16_64_32_16_64_32_inb_IMGAUG_nor64_epochs6+:009-acc:0.539-val_acc:0.482.hdf5\n",
            "Epoch 10/15\n",
            "100000/100000 [==============================] - 1863s 19ms/step - loss: 1.8984 - acc: 0.5425 - val_loss: 2.1683 - val_acc: 0.4819\n",
            "Epoch 11/15\n",
            "100000/100000 [==============================] - 1862s 19ms/step - loss: 1.8909 - acc: 0.5447 - val_loss: 2.1660 - val_acc: 0.4821\n",
            "Epoch 12/15\n",
            "100000/100000 [==============================] - 1864s 19ms/step - loss: 1.8899 - acc: 0.5452 - val_loss: 2.1639 - val_acc: 0.4819\n",
            "\n",
            "Epoch 00012: val_acc did not improve from 0.48210\n",
            "Epoch 13/15\n",
            "100000/100000 [==============================] - 1863s 19ms/step - loss: 1.8836 - acc: 0.5459 - val_loss: 2.1583 - val_acc: 0.4827\n",
            "Epoch 14/15\n",
            "   128/100000 [..............................] - ETA: 30:13 - loss: 1.9308 - acc: 0.5391"
          ],
          "name": "stdout"
        },
        {
          "output_type": "error",
          "ename": "KeyboardInterrupt",
          "evalue": "ignored",
          "traceback": [
            "\u001b[0;31m---------------------------------------------------------------------------\u001b[0m",
            "\u001b[0;31mKeyboardInterrupt\u001b[0m                         Traceback (most recent call last)",
            "\u001b[0;32m<ipython-input-20-b0c87292f124>\u001b[0m in \u001b[0;36m<module>\u001b[0;34m()\u001b[0m\n\u001b[1;32m      6\u001b[0m           \u001b[0mvalidation_data\u001b[0m\u001b[0;34m=\u001b[0m\u001b[0;34m(\u001b[0m\u001b[0mX_test\u001b[0m\u001b[0;34m,\u001b[0m \u001b[0mY_test\u001b[0m\u001b[0;34m)\u001b[0m\u001b[0;34m,\u001b[0m\u001b[0;34m\u001b[0m\u001b[0;34m\u001b[0m\u001b[0m\n\u001b[1;32m      7\u001b[0m           \u001b[0mshuffle\u001b[0m\u001b[0;34m=\u001b[0m\u001b[0;32mTrue\u001b[0m\u001b[0;34m,\u001b[0m\u001b[0;34m\u001b[0m\u001b[0;34m\u001b[0m\u001b[0m\n\u001b[0;32m----> 8\u001b[0;31m           callbacks = callbacks_list)\n\u001b[0m",
            "\u001b[0;32m/usr/local/lib/python3.6/dist-packages/keras/engine/training.py\u001b[0m in \u001b[0;36mfit\u001b[0;34m(self, x, y, batch_size, epochs, verbose, callbacks, validation_split, validation_data, shuffle, class_weight, sample_weight, initial_epoch, steps_per_epoch, validation_steps, **kwargs)\u001b[0m\n\u001b[1;32m   1037\u001b[0m                                         \u001b[0minitial_epoch\u001b[0m\u001b[0;34m=\u001b[0m\u001b[0minitial_epoch\u001b[0m\u001b[0;34m,\u001b[0m\u001b[0;34m\u001b[0m\u001b[0;34m\u001b[0m\u001b[0m\n\u001b[1;32m   1038\u001b[0m                                         \u001b[0msteps_per_epoch\u001b[0m\u001b[0;34m=\u001b[0m\u001b[0msteps_per_epoch\u001b[0m\u001b[0;34m,\u001b[0m\u001b[0;34m\u001b[0m\u001b[0;34m\u001b[0m\u001b[0m\n\u001b[0;32m-> 1039\u001b[0;31m                                         validation_steps=validation_steps)\n\u001b[0m\u001b[1;32m   1040\u001b[0m \u001b[0;34m\u001b[0m\u001b[0m\n\u001b[1;32m   1041\u001b[0m     def evaluate(self, x=None, y=None,\n",
            "\u001b[0;32m/usr/local/lib/python3.6/dist-packages/keras/engine/training_arrays.py\u001b[0m in \u001b[0;36mfit_loop\u001b[0;34m(model, f, ins, out_labels, batch_size, epochs, verbose, callbacks, val_f, val_ins, shuffle, callback_metrics, initial_epoch, steps_per_epoch, validation_steps)\u001b[0m\n\u001b[1;32m    197\u001b[0m                     \u001b[0mins_batch\u001b[0m\u001b[0;34m[\u001b[0m\u001b[0mi\u001b[0m\u001b[0;34m]\u001b[0m \u001b[0;34m=\u001b[0m \u001b[0mins_batch\u001b[0m\u001b[0;34m[\u001b[0m\u001b[0mi\u001b[0m\u001b[0;34m]\u001b[0m\u001b[0;34m.\u001b[0m\u001b[0mtoarray\u001b[0m\u001b[0;34m(\u001b[0m\u001b[0;34m)\u001b[0m\u001b[0;34m\u001b[0m\u001b[0;34m\u001b[0m\u001b[0m\n\u001b[1;32m    198\u001b[0m \u001b[0;34m\u001b[0m\u001b[0m\n\u001b[0;32m--> 199\u001b[0;31m                 \u001b[0mouts\u001b[0m \u001b[0;34m=\u001b[0m \u001b[0mf\u001b[0m\u001b[0;34m(\u001b[0m\u001b[0mins_batch\u001b[0m\u001b[0;34m)\u001b[0m\u001b[0;34m\u001b[0m\u001b[0;34m\u001b[0m\u001b[0m\n\u001b[0m\u001b[1;32m    200\u001b[0m                 \u001b[0mouts\u001b[0m \u001b[0;34m=\u001b[0m \u001b[0mto_list\u001b[0m\u001b[0;34m(\u001b[0m\u001b[0mouts\u001b[0m\u001b[0;34m)\u001b[0m\u001b[0;34m\u001b[0m\u001b[0;34m\u001b[0m\u001b[0m\n\u001b[1;32m    201\u001b[0m                 \u001b[0;32mfor\u001b[0m \u001b[0ml\u001b[0m\u001b[0;34m,\u001b[0m \u001b[0mo\u001b[0m \u001b[0;32min\u001b[0m \u001b[0mzip\u001b[0m\u001b[0;34m(\u001b[0m\u001b[0mout_labels\u001b[0m\u001b[0;34m,\u001b[0m \u001b[0mouts\u001b[0m\u001b[0;34m)\u001b[0m\u001b[0;34m:\u001b[0m\u001b[0;34m\u001b[0m\u001b[0;34m\u001b[0m\u001b[0m\n",
            "\u001b[0;32m/usr/local/lib/python3.6/dist-packages/keras/backend/tensorflow_backend.py\u001b[0m in \u001b[0;36m__call__\u001b[0;34m(self, inputs)\u001b[0m\n\u001b[1;32m   2713\u001b[0m                 \u001b[0;32mreturn\u001b[0m \u001b[0mself\u001b[0m\u001b[0;34m.\u001b[0m\u001b[0m_legacy_call\u001b[0m\u001b[0;34m(\u001b[0m\u001b[0minputs\u001b[0m\u001b[0;34m)\u001b[0m\u001b[0;34m\u001b[0m\u001b[0;34m\u001b[0m\u001b[0m\n\u001b[1;32m   2714\u001b[0m \u001b[0;34m\u001b[0m\u001b[0m\n\u001b[0;32m-> 2715\u001b[0;31m             \u001b[0;32mreturn\u001b[0m \u001b[0mself\u001b[0m\u001b[0;34m.\u001b[0m\u001b[0m_call\u001b[0m\u001b[0;34m(\u001b[0m\u001b[0minputs\u001b[0m\u001b[0;34m)\u001b[0m\u001b[0;34m\u001b[0m\u001b[0;34m\u001b[0m\u001b[0m\n\u001b[0m\u001b[1;32m   2716\u001b[0m         \u001b[0;32melse\u001b[0m\u001b[0;34m:\u001b[0m\u001b[0;34m\u001b[0m\u001b[0;34m\u001b[0m\u001b[0m\n\u001b[1;32m   2717\u001b[0m             \u001b[0;32mif\u001b[0m \u001b[0mpy_any\u001b[0m\u001b[0;34m(\u001b[0m\u001b[0mis_tensor\u001b[0m\u001b[0;34m(\u001b[0m\u001b[0mx\u001b[0m\u001b[0;34m)\u001b[0m \u001b[0;32mfor\u001b[0m \u001b[0mx\u001b[0m \u001b[0;32min\u001b[0m \u001b[0minputs\u001b[0m\u001b[0;34m)\u001b[0m\u001b[0;34m:\u001b[0m\u001b[0;34m\u001b[0m\u001b[0;34m\u001b[0m\u001b[0m\n",
            "\u001b[0;32m/usr/local/lib/python3.6/dist-packages/keras/backend/tensorflow_backend.py\u001b[0m in \u001b[0;36m_call\u001b[0;34m(self, inputs)\u001b[0m\n\u001b[1;32m   2673\u001b[0m             \u001b[0mfetched\u001b[0m \u001b[0;34m=\u001b[0m \u001b[0mself\u001b[0m\u001b[0;34m.\u001b[0m\u001b[0m_callable_fn\u001b[0m\u001b[0;34m(\u001b[0m\u001b[0;34m*\u001b[0m\u001b[0marray_vals\u001b[0m\u001b[0;34m,\u001b[0m \u001b[0mrun_metadata\u001b[0m\u001b[0;34m=\u001b[0m\u001b[0mself\u001b[0m\u001b[0;34m.\u001b[0m\u001b[0mrun_metadata\u001b[0m\u001b[0;34m)\u001b[0m\u001b[0;34m\u001b[0m\u001b[0;34m\u001b[0m\u001b[0m\n\u001b[1;32m   2674\u001b[0m         \u001b[0;32melse\u001b[0m\u001b[0;34m:\u001b[0m\u001b[0;34m\u001b[0m\u001b[0;34m\u001b[0m\u001b[0m\n\u001b[0;32m-> 2675\u001b[0;31m             \u001b[0mfetched\u001b[0m \u001b[0;34m=\u001b[0m \u001b[0mself\u001b[0m\u001b[0;34m.\u001b[0m\u001b[0m_callable_fn\u001b[0m\u001b[0;34m(\u001b[0m\u001b[0;34m*\u001b[0m\u001b[0marray_vals\u001b[0m\u001b[0;34m)\u001b[0m\u001b[0;34m\u001b[0m\u001b[0;34m\u001b[0m\u001b[0m\n\u001b[0m\u001b[1;32m   2676\u001b[0m         \u001b[0;32mreturn\u001b[0m \u001b[0mfetched\u001b[0m\u001b[0;34m[\u001b[0m\u001b[0;34m:\u001b[0m\u001b[0mlen\u001b[0m\u001b[0;34m(\u001b[0m\u001b[0mself\u001b[0m\u001b[0;34m.\u001b[0m\u001b[0moutputs\u001b[0m\u001b[0;34m)\u001b[0m\u001b[0;34m]\u001b[0m\u001b[0;34m\u001b[0m\u001b[0;34m\u001b[0m\u001b[0m\n\u001b[1;32m   2677\u001b[0m \u001b[0;34m\u001b[0m\u001b[0m\n",
            "\u001b[0;32m/usr/local/lib/python3.6/dist-packages/tensorflow/python/client/session.py\u001b[0m in \u001b[0;36m__call__\u001b[0;34m(self, *args, **kwargs)\u001b[0m\n\u001b[1;32m   1437\u001b[0m           ret = tf_session.TF_SessionRunCallable(\n\u001b[1;32m   1438\u001b[0m               \u001b[0mself\u001b[0m\u001b[0;34m.\u001b[0m\u001b[0m_session\u001b[0m\u001b[0;34m.\u001b[0m\u001b[0m_session\u001b[0m\u001b[0;34m,\u001b[0m \u001b[0mself\u001b[0m\u001b[0;34m.\u001b[0m\u001b[0m_handle\u001b[0m\u001b[0;34m,\u001b[0m \u001b[0margs\u001b[0m\u001b[0;34m,\u001b[0m \u001b[0mstatus\u001b[0m\u001b[0;34m,\u001b[0m\u001b[0;34m\u001b[0m\u001b[0;34m\u001b[0m\u001b[0m\n\u001b[0;32m-> 1439\u001b[0;31m               run_metadata_ptr)\n\u001b[0m\u001b[1;32m   1440\u001b[0m         \u001b[0;32mif\u001b[0m \u001b[0mrun_metadata\u001b[0m\u001b[0;34m:\u001b[0m\u001b[0;34m\u001b[0m\u001b[0;34m\u001b[0m\u001b[0m\n\u001b[1;32m   1441\u001b[0m           \u001b[0mproto_data\u001b[0m \u001b[0;34m=\u001b[0m \u001b[0mtf_session\u001b[0m\u001b[0;34m.\u001b[0m\u001b[0mTF_GetBuffer\u001b[0m\u001b[0;34m(\u001b[0m\u001b[0mrun_metadata_ptr\u001b[0m\u001b[0;34m)\u001b[0m\u001b[0;34m\u001b[0m\u001b[0;34m\u001b[0m\u001b[0m\n",
            "\u001b[0;31mKeyboardInterrupt\u001b[0m: "
          ]
        }
      ]
    },
    {
      "cell_type": "markdown",
      "metadata": {
        "id": "lz5bD9A9MY1S",
        "colab_type": "text"
      },
      "source": [
        "#### Highest accuracy achieved before submission"
      ]
    },
    {
      "cell_type": "code",
      "metadata": {
        "id": "nd_--x51wf7D",
        "colab_type": "code",
        "outputId": "e041e994-62d6-4179-eae1-f2412a86fc93",
        "colab": {
          "base_uri": "https://localhost:8080/",
          "height": 72
        }
      },
      "source": [
        "score = model_nor.evaluate(X_test, Y_test, verbose=1)\n",
        "print('Test loss:', score[0])\n",
        "print('Test accuracy:', score[1])"
      ],
      "execution_count": 0,
      "outputs": [
        {
          "output_type": "stream",
          "text": [
            "10000/10000 [==============================] - 49s 5ms/step\n",
            "Test loss: 2.1580974718093873\n",
            "Test accuracy: 0.4828\n"
          ],
          "name": "stdout"
        }
      ]
    },
    {
      "cell_type": "markdown",
      "metadata": {
        "id": "Ox_VU3INvf6l",
        "colab_type": "text"
      },
      "source": [
        "### Training on 16X16"
      ]
    },
    {
      "cell_type": "code",
      "metadata": {
        "id": "MymLQ4Ro91yH",
        "colab_type": "code",
        "outputId": "5d838bea-9d42-4964-bc70-eb8809419873",
        "colab": {
          "base_uri": "https://localhost:8080/",
          "height": 90
        }
      },
      "source": [
        "print(X_train.shape)\n",
        "print(Y_train.shape)\n",
        "print(X_test.shape)\n",
        "print(Y_test.shape)"
      ],
      "execution_count": 0,
      "outputs": [
        {
          "output_type": "stream",
          "text": [
            "(100000, 16, 16, 3)\n",
            "(100000, 200)\n",
            "(10000, 16, 16, 3)\n",
            "(10000, 200)\n"
          ],
          "name": "stdout"
        }
      ]
    },
    {
      "cell_type": "code",
      "metadata": {
        "id": "4tXwlFmIveR_",
        "colab_type": "code",
        "colab": {}
      },
      "source": [
        "## Using CLR\n",
        "from keras.callbacks import ModelCheckpoint\n",
        "from clr_callback import *\n",
        "\n",
        "filepath=\"/content/drive/My Drive/ass4/__Block2_inb_IMGAUG_nor64_epochs6_32_16:{epoch:03d}-acc:{acc:.3f}-val_acc:{val_acc:.3f}.hdf5\"\n",
        "checkpoint = ModelCheckpoint(filepath, monitor='val_acc', verbose=1, save_best_only=True, mode='max', period=3)\n",
        "clr_triangular = CyclicLR(mode='triangular')\n",
        "callbacks_list = [checkpoint, clr_triangular]\n"
      ],
      "execution_count": 0,
      "outputs": []
    },
    {
      "cell_type": "code",
      "metadata": {
        "id": "s9BwRtSwvq_q",
        "colab_type": "code",
        "outputId": "f261b3eb-784a-415c-e078-cbbb63ef9f04",
        "colab": {
          "base_uri": "https://localhost:8080/",
          "height": 1005
        }
      },
      "source": [
        "epochs = 3\n",
        "\n",
        "model_nor.fit(X_train, Y_train,\n",
        "          batch_size=512,\n",
        "          nb_epoch=epochs,\n",
        "          validation_data=(X_test, Y_test),\n",
        "          shuffle=True,\n",
        "          callbacks = callbacks_list)"
      ],
      "execution_count": 0,
      "outputs": [
        {
          "output_type": "stream",
          "text": [
            "/usr/local/lib/python3.6/dist-packages/ipykernel_launcher.py:8: UserWarning: The `nb_epoch` argument in `fit` has been renamed `epochs`.\n",
            "  \n"
          ],
          "name": "stderr"
        },
        {
          "output_type": "stream",
          "text": [
            "Train on 100000 samples, validate on 10000 samples\n",
            "Epoch 1/3\n",
            "100000/100000 [==============================] - 104s 1ms/step - loss: 4.6825 - acc: 0.2136 - val_loss: 4.6598 - val_acc: 0.1993\n",
            "Epoch 2/3\n",
            "100000/100000 [==============================] - 100s 1ms/step - loss: 4.2618 - acc: 0.2378 - val_loss: 4.3973 - val_acc: 0.2184\n",
            "Epoch 3/3\n",
            "100000/100000 [==============================] - 100s 1000us/step - loss: 3.9703 - acc: 0.2566 - val_loss: 4.1925 - val_acc: 0.2351\n",
            "\n",
            "Epoch 00003: val_acc improved from -inf to 0.23510, saving model to /content/drive/My Drive/ass4/__Block2_inb_IMGAUG_nor64_epochs6_32_16:003-acc:0.257-val_acc:0.235.hdf5\n"
          ],
          "name": "stdout"
        },
        {
          "output_type": "execute_result",
          "data": {
            "text/plain": [
              "<keras.callbacks.History at 0x7fe7f6a4a390>"
            ]
          },
          "metadata": {
            "tags": []
          },
          "execution_count": 32
        }
      ]
    },
    {
      "cell_type": "markdown",
      "metadata": {
        "id": "n7mhBPPt_GAO",
        "colab_type": "text"
      },
      "source": [
        "### Train on 32X32"
      ]
    },
    {
      "cell_type": "code",
      "metadata": {
        "id": "pd969x6s_I1m",
        "colab_type": "code",
        "outputId": "8c1a6390-0293-486d-b33c-0ee7cc53b9da",
        "colab": {
          "base_uri": "https://localhost:8080/",
          "height": 90
        }
      },
      "source": [
        "print(X_train.shape)\n",
        "print(Y_train.shape)\n",
        "print(X_test.shape)\n",
        "print(Y_test.shape)"
      ],
      "execution_count": 0,
      "outputs": [
        {
          "output_type": "stream",
          "text": [
            "(100000, 32, 32, 3)\n",
            "(100000, 200)\n",
            "(10000, 32, 32, 3)\n",
            "(10000, 200)\n"
          ],
          "name": "stdout"
        }
      ]
    },
    {
      "cell_type": "code",
      "metadata": {
        "id": "WdOh6qtI_KKf",
        "colab_type": "code",
        "colab": {}
      },
      "source": [
        "## Using CLR\n",
        "from keras.callbacks import ModelCheckpoint\n",
        "from clr_callback import *\n",
        "\n",
        "filepath=\"/content/drive/My Drive/ass4/__Block2_inb_IMGAUG_nor64_epochs6_32_16_32:{epoch:03d}-acc:{acc:.3f}-val_acc:{val_acc:.3f}.hdf5\"\n",
        "checkpoint = ModelCheckpoint(filepath, monitor='val_acc', verbose=1, save_best_only=True, mode='max', period=3)\n",
        "clr_triangular = CyclicLR(mode='triangular')\n",
        "callbacks_list = [checkpoint, clr_triangular]\n"
      ],
      "execution_count": 0,
      "outputs": []
    },
    {
      "cell_type": "code",
      "metadata": {
        "id": "2ORP3tx2_TyT",
        "colab_type": "code",
        "outputId": "2d95c44d-e8bc-4c64-90be-4737a2cf3ce2",
        "colab": {
          "base_uri": "https://localhost:8080/",
          "height": 1005
        }
      },
      "source": [
        "epochs = 12\n",
        "\n",
        "model_nor.fit(X_train, Y_train,\n",
        "          batch_size=256,\n",
        "          nb_epoch=epochs,\n",
        "          validation_data=(X_test, Y_test),\n",
        "          shuffle=True,\n",
        "          callbacks = callbacks_list)"
      ],
      "execution_count": 0,
      "outputs": [
        {
          "output_type": "stream",
          "text": [
            "/usr/local/lib/python3.6/dist-packages/ipykernel_launcher.py:8: UserWarning: The `nb_epoch` argument in `fit` has been renamed `epochs`.\n",
            "  \n"
          ],
          "name": "stderr"
        },
        {
          "output_type": "stream",
          "text": [
            "Train on 100000 samples, validate on 10000 samples\n",
            "Epoch 1/12\n",
            "100000/100000 [==============================] - 389s 4ms/step - loss: 1.8368 - acc: 0.5401 - val_loss: 2.3552 - val_acc: 0.4524\n",
            "Epoch 2/12\n",
            "100000/100000 [==============================] - 373s 4ms/step - loss: 1.7556 - acc: 0.5577 - val_loss: 2.2991 - val_acc: 0.4613\n",
            "Epoch 3/12\n",
            "100000/100000 [==============================] - 373s 4ms/step - loss: 1.7168 - acc: 0.5661 - val_loss: 2.2752 - val_acc: 0.4659\n",
            "\n",
            "Epoch 00003: val_acc improved from -inf to 0.46590, saving model to /content/drive/My Drive/ass4/__Block2_inb_IMGAUG_nor64_epochs6_32_16_32:003-acc:0.566-val_acc:0.466.hdf5\n",
            "Epoch 4/12\n",
            "100000/100000 [==============================] - 373s 4ms/step - loss: 1.6855 - acc: 0.5749 - val_loss: 2.2565 - val_acc: 0.4677\n",
            "Epoch 5/12\n",
            "100000/100000 [==============================] - 373s 4ms/step - loss: 1.6603 - acc: 0.5807 - val_loss: 2.2453 - val_acc: 0.4708\n",
            "Epoch 6/12\n",
            "100000/100000 [==============================] - 372s 4ms/step - loss: 1.6387 - acc: 0.5864 - val_loss: 2.2325 - val_acc: 0.4727\n",
            "\n",
            "Epoch 00006: val_acc improved from 0.46590 to 0.47270, saving model to /content/drive/My Drive/ass4/__Block2_inb_IMGAUG_nor64_epochs6_32_16_32:006-acc:0.586-val_acc:0.473.hdf5\n",
            "Epoch 7/12\n",
            "100000/100000 [==============================] - 366s 4ms/step - loss: 1.6224 - acc: 0.5904 - val_loss: 2.2288 - val_acc: 0.4748\n",
            "Epoch 8/12\n",
            "100000/100000 [==============================] - 366s 4ms/step - loss: 1.6114 - acc: 0.5924 - val_loss: 2.2223 - val_acc: 0.4763\n",
            "Epoch 9/12\n",
            "100000/100000 [==============================] - 366s 4ms/step - loss: 1.6031 - acc: 0.5950 - val_loss: 2.2201 - val_acc: 0.4773\n",
            "\n",
            "Epoch 00009: val_acc improved from 0.47270 to 0.47730, saving model to /content/drive/My Drive/ass4/__Block2_inb_IMGAUG_nor64_epochs6_32_16_32:009-acc:0.595-val_acc:0.477.hdf5\n",
            "Epoch 10/12\n",
            "100000/100000 [==============================] - 365s 4ms/step - loss: 1.5965 - acc: 0.5965 - val_loss: 2.2187 - val_acc: 0.4777\n",
            "Epoch 11/12\n",
            "100000/100000 [==============================] - 366s 4ms/step - loss: 1.5929 - acc: 0.5980 - val_loss: 2.2178 - val_acc: 0.4782\n",
            "Epoch 12/12\n",
            "100000/100000 [==============================] - 366s 4ms/step - loss: 1.5902 - acc: 0.5989 - val_loss: 2.2166 - val_acc: 0.4791\n",
            "\n",
            "Epoch 00012: val_acc improved from 0.47730 to 0.47910, saving model to /content/drive/My Drive/ass4/__Block2_inb_IMGAUG_nor64_epochs6_32_16_32:012-acc:0.599-val_acc:0.479.hdf5\n"
          ],
          "name": "stdout"
        },
        {
          "output_type": "execute_result",
          "data": {
            "text/plain": [
              "<keras.callbacks.History at 0x7fe7f802bd30>"
            ]
          },
          "metadata": {
            "tags": []
          },
          "execution_count": 41
        }
      ]
    },
    {
      "cell_type": "code",
      "metadata": {
        "id": "Wp0HxFpgRr6Z",
        "colab_type": "code",
        "outputId": "005571d7-5150-47f9-8c56-34ef13660c17",
        "colab": {
          "base_uri": "https://localhost:8080/",
          "height": 1005
        }
      },
      "source": [
        "epochs = 12\n",
        "\n",
        "model_nor.fit(X_train, Y_train,\n",
        "          batch_size=256,\n",
        "          nb_epoch=epochs,\n",
        "          validation_data=(X_test, Y_test),\n",
        "          shuffle=True,\n",
        "          callbacks = callbacks_list)"
      ],
      "execution_count": 0,
      "outputs": [
        {
          "output_type": "stream",
          "text": [
            "/usr/local/lib/python3.6/dist-packages/ipykernel_launcher.py:8: UserWarning: The `nb_epoch` argument in `fit` has been renamed `epochs`.\n",
            "  \n"
          ],
          "name": "stderr"
        },
        {
          "output_type": "stream",
          "text": [
            "Train on 100000 samples, validate on 10000 samples\n",
            "Epoch 1/12\n",
            "100000/100000 [==============================] - 366s 4ms/step - loss: 1.5879 - acc: 0.5997 - val_loss: 2.2133 - val_acc: 0.4783\n",
            "Epoch 2/12\n",
            "100000/100000 [==============================] - 366s 4ms/step - loss: 1.5838 - acc: 0.6004 - val_loss: 2.2114 - val_acc: 0.4778\n",
            "Epoch 3/12\n",
            "100000/100000 [==============================] - 366s 4ms/step - loss: 1.5780 - acc: 0.6020 - val_loss: 2.2098 - val_acc: 0.4800\n",
            "\n",
            "Epoch 00003: val_acc improved from 0.47910 to 0.48000, saving model to /content/drive/My Drive/ass4/__Block2_inb_IMGAUG_nor64_epochs6_32_16_32:003-acc:0.602-val_acc:0.480.hdf5\n",
            "Epoch 4/12\n",
            "100000/100000 [==============================] - 366s 4ms/step - loss: 1.5715 - acc: 0.6032 - val_loss: 2.2071 - val_acc: 0.4773\n",
            "Epoch 5/12\n",
            "100000/100000 [==============================] - 366s 4ms/step - loss: 1.5636 - acc: 0.6058 - val_loss: 2.2063 - val_acc: 0.4796\n",
            "Epoch 6/12\n",
            "100000/100000 [==============================] - 366s 4ms/step - loss: 1.5582 - acc: 0.6060 - val_loss: 2.2051 - val_acc: 0.4785\n",
            "\n",
            "Epoch 00006: val_acc did not improve from 0.48000\n",
            "Epoch 7/12\n",
            "100000/100000 [==============================] - 366s 4ms/step - loss: 1.5538 - acc: 0.6079 - val_loss: 2.2033 - val_acc: 0.4797\n",
            "Epoch 8/12\n",
            "100000/100000 [==============================] - 366s 4ms/step - loss: 1.5496 - acc: 0.6091 - val_loss: 2.2030 - val_acc: 0.4816\n",
            "Epoch 9/12\n",
            "100000/100000 [==============================] - 366s 4ms/step - loss: 1.5490 - acc: 0.6096 - val_loss: 2.2022 - val_acc: 0.4803\n",
            "\n",
            "Epoch 00009: val_acc improved from 0.48000 to 0.48030, saving model to /content/drive/My Drive/ass4/__Block2_inb_IMGAUG_nor64_epochs6_32_16_32:009-acc:0.610-val_acc:0.480.hdf5\n",
            "Epoch 10/12\n",
            "100000/100000 [==============================] - 366s 4ms/step - loss: 1.5464 - acc: 0.6107 - val_loss: 2.2018 - val_acc: 0.4798\n",
            "Epoch 11/12\n",
            "100000/100000 [==============================] - 366s 4ms/step - loss: 1.5465 - acc: 0.6105 - val_loss: 2.2022 - val_acc: 0.4798\n",
            "Epoch 12/12\n",
            "100000/100000 [==============================] - 366s 4ms/step - loss: 1.5442 - acc: 0.6115 - val_loss: 2.2015 - val_acc: 0.4796\n",
            "\n",
            "Epoch 00012: val_acc did not improve from 0.48030\n"
          ],
          "name": "stdout"
        },
        {
          "output_type": "execute_result",
          "data": {
            "text/plain": [
              "<keras.callbacks.History at 0x7fe7f6b01358>"
            ]
          },
          "metadata": {
            "tags": []
          },
          "execution_count": 42
        }
      ]
    },
    {
      "cell_type": "code",
      "metadata": {
        "id": "5S6x1ne4plMK",
        "colab_type": "code",
        "outputId": "a99ae49a-c15f-463a-ed09-652d1ef74474",
        "colab": {
          "base_uri": "https://localhost:8080/",
          "height": 85
        }
      },
      "source": [
        "print(X_train.shape)\n",
        "print(Y_train.shape)\n",
        "print(X_test.shape)\n",
        "print(Y_test.shape)"
      ],
      "execution_count": 0,
      "outputs": [
        {
          "output_type": "stream",
          "text": [
            "(100000, 64, 64, 3)\n",
            "(100000, 200)\n",
            "(10000, 64, 64, 3)\n",
            "(10000, 200)\n"
          ],
          "name": "stdout"
        }
      ]
    },
    {
      "cell_type": "code",
      "metadata": {
        "id": "LrO8zPbzveBD",
        "colab_type": "code",
        "outputId": "2b64b013-b9ee-406e-8f78-ee022400165d",
        "colab": {
          "base_uri": "https://localhost:8080/",
          "height": 151
        }
      },
      "source": [
        "## loading model from previous checkpoint\n",
        "\n",
        "from keras.models import load_model\n",
        "import tensorflow as tf\n",
        "model_nor = load_model('/content/drive/My Drive/ass4/__Block2_inb_IMGAUG_nor64_epochs6_32_16_32:009-acc:0.610-val_acc:0.480.hdf5',custom_objects={'tf': tf})\n"
      ],
      "execution_count": 0,
      "outputs": [
        {
          "output_type": "stream",
          "text": [
            "WARNING:tensorflow:From /usr/local/lib/python3.6/dist-packages/tensorflow/python/framework/op_def_library.py:263: colocate_with (from tensorflow.python.framework.ops) is deprecated and will be removed in a future version.\n",
            "Instructions for updating:\n",
            "Colocations handled automatically by placer.\n",
            "WARNING:tensorflow:From /usr/local/lib/python3.6/dist-packages/tensorflow/python/ops/math_ops.py:3066: to_int32 (from tensorflow.python.ops.math_ops) is deprecated and will be removed in a future version.\n",
            "Instructions for updating:\n",
            "Use tf.cast instead.\n"
          ],
          "name": "stdout"
        }
      ]
    },
    {
      "cell_type": "code",
      "metadata": {
        "id": "9HKoiYy2wAVO",
        "colab_type": "code",
        "outputId": "c66d0b7b-6238-477e-8083-925cdf1ff066",
        "colab": {
          "base_uri": "https://localhost:8080/",
          "height": 1245
        }
      },
      "source": [
        "from keras.callbacks import ModelCheckpoint\n",
        "from clr_callback import *\n",
        "filepath=\"/content/drive/My Drive/ass4/_Blocks2_inb_IMGAUG_nor64_48_32aug2_noAug_final:{epoch:03d}-acc:{acc:.3f}-val_acc:{val_acc:.3f}.hdf5\"\n",
        "checkpoint = ModelCheckpoint(filepath, monitor='val_acc', verbose=1, save_best_only=True, mode='max')\n",
        "clr_triangular = CyclicLR(mode='triangular')\n",
        "callbacks_list = [checkpoint, clr_triangular]\n",
        "\n",
        "epochs = 9\n",
        "\n",
        "model_nor.fit(X_train, Y_train,\n",
        "          batch_size=128,\n",
        "          nb_epoch=epochs,\n",
        "          validation_data=(X_test, Y_test),\n",
        "          shuffle=True,\n",
        "          callbacks = callbacks_list)\n"
      ],
      "execution_count": 0,
      "outputs": [
        {
          "output_type": "stream",
          "text": [
            "/usr/local/lib/python3.6/dist-packages/ipykernel_launcher.py:15: UserWarning: The `nb_epoch` argument in `fit` has been renamed `epochs`.\n",
            "  from ipykernel import kernelapp as app\n"
          ],
          "name": "stderr"
        },
        {
          "output_type": "stream",
          "text": [
            "Train on 100000 samples, validate on 10000 samples\n",
            "Epoch 1/9\n",
            "100000/100000 [==============================] - 1878s 19ms/step - loss: 2.1521 - acc: 0.4903 - val_loss: 2.2926 - val_acc: 0.4537\n",
            "\n",
            "Epoch 00001: val_acc improved from -inf to 0.45370, saving model to /content/drive/My Drive/ass4/_Blocks2_inb_IMGAUG_nor64_48_32aug2_noAug_final:001-acc:0.490-val_acc:0.454.hdf5\n",
            "Epoch 2/9\n",
            "100000/100000 [==============================] - 1850s 18ms/step - loss: 1.9970 - acc: 0.5232 - val_loss: 2.2241 - val_acc: 0.4705\n",
            "\n",
            "Epoch 00002: val_acc improved from 0.45370 to 0.47050, saving model to /content/drive/My Drive/ass4/_Blocks2_inb_IMGAUG_nor64_48_32aug2_noAug_final:002-acc:0.523-val_acc:0.470.hdf5\n",
            "Epoch 3/9\n",
            "100000/100000 [==============================] - 1852s 19ms/step - loss: 1.9377 - acc: 0.5362 - val_loss: 2.1879 - val_acc: 0.4766\n",
            "\n",
            "Epoch 00003: val_acc improved from 0.47050 to 0.47660, saving model to /content/drive/My Drive/ass4/_Blocks2_inb_IMGAUG_nor64_48_32aug2_noAug_final:003-acc:0.536-val_acc:0.477.hdf5\n",
            "Epoch 4/9\n",
            "100000/100000 [==============================] - 1853s 19ms/step - loss: 1.9044 - acc: 0.5434 - val_loss: 2.1700 - val_acc: 0.4812\n",
            "\n",
            "Epoch 00004: val_acc improved from 0.47660 to 0.48120, saving model to /content/drive/My Drive/ass4/_Blocks2_inb_IMGAUG_nor64_48_32aug2_noAug_final:004-acc:0.543-val_acc:0.481.hdf5\n",
            "Epoch 5/9\n",
            " 51200/100000 [==============>...............] - ETA: 14:42 - loss: 1.8959 - acc: 0.5450"
          ],
          "name": "stdout"
        },
        {
          "output_type": "error",
          "ename": "KeyboardInterrupt",
          "evalue": "ignored",
          "traceback": [
            "\u001b[0;31m---------------------------------------------------------------------------\u001b[0m",
            "\u001b[0;31mKeyboardInterrupt\u001b[0m                         Traceback (most recent call last)",
            "\u001b[0;32m<ipython-input-21-d7b971c37f27>\u001b[0m in \u001b[0;36m<module>\u001b[0;34m()\u001b[0m\n\u001b[1;32m     13\u001b[0m           \u001b[0mvalidation_data\u001b[0m\u001b[0;34m=\u001b[0m\u001b[0;34m(\u001b[0m\u001b[0mX_test\u001b[0m\u001b[0;34m,\u001b[0m \u001b[0mY_test\u001b[0m\u001b[0;34m)\u001b[0m\u001b[0;34m,\u001b[0m\u001b[0;34m\u001b[0m\u001b[0;34m\u001b[0m\u001b[0m\n\u001b[1;32m     14\u001b[0m           \u001b[0mshuffle\u001b[0m\u001b[0;34m=\u001b[0m\u001b[0;32mTrue\u001b[0m\u001b[0;34m,\u001b[0m\u001b[0;34m\u001b[0m\u001b[0;34m\u001b[0m\u001b[0m\n\u001b[0;32m---> 15\u001b[0;31m           callbacks = callbacks_list)\n\u001b[0m",
            "\u001b[0;32m/usr/local/lib/python3.6/dist-packages/keras/engine/training.py\u001b[0m in \u001b[0;36mfit\u001b[0;34m(self, x, y, batch_size, epochs, verbose, callbacks, validation_split, validation_data, shuffle, class_weight, sample_weight, initial_epoch, steps_per_epoch, validation_steps, **kwargs)\u001b[0m\n\u001b[1;32m   1037\u001b[0m                                         \u001b[0minitial_epoch\u001b[0m\u001b[0;34m=\u001b[0m\u001b[0minitial_epoch\u001b[0m\u001b[0;34m,\u001b[0m\u001b[0;34m\u001b[0m\u001b[0;34m\u001b[0m\u001b[0m\n\u001b[1;32m   1038\u001b[0m                                         \u001b[0msteps_per_epoch\u001b[0m\u001b[0;34m=\u001b[0m\u001b[0msteps_per_epoch\u001b[0m\u001b[0;34m,\u001b[0m\u001b[0;34m\u001b[0m\u001b[0;34m\u001b[0m\u001b[0m\n\u001b[0;32m-> 1039\u001b[0;31m                                         validation_steps=validation_steps)\n\u001b[0m\u001b[1;32m   1040\u001b[0m \u001b[0;34m\u001b[0m\u001b[0m\n\u001b[1;32m   1041\u001b[0m     def evaluate(self, x=None, y=None,\n",
            "\u001b[0;32m/usr/local/lib/python3.6/dist-packages/keras/engine/training_arrays.py\u001b[0m in \u001b[0;36mfit_loop\u001b[0;34m(model, f, ins, out_labels, batch_size, epochs, verbose, callbacks, val_f, val_ins, shuffle, callback_metrics, initial_epoch, steps_per_epoch, validation_steps)\u001b[0m\n\u001b[1;32m    197\u001b[0m                     \u001b[0mins_batch\u001b[0m\u001b[0;34m[\u001b[0m\u001b[0mi\u001b[0m\u001b[0;34m]\u001b[0m \u001b[0;34m=\u001b[0m \u001b[0mins_batch\u001b[0m\u001b[0;34m[\u001b[0m\u001b[0mi\u001b[0m\u001b[0;34m]\u001b[0m\u001b[0;34m.\u001b[0m\u001b[0mtoarray\u001b[0m\u001b[0;34m(\u001b[0m\u001b[0;34m)\u001b[0m\u001b[0;34m\u001b[0m\u001b[0;34m\u001b[0m\u001b[0m\n\u001b[1;32m    198\u001b[0m \u001b[0;34m\u001b[0m\u001b[0m\n\u001b[0;32m--> 199\u001b[0;31m                 \u001b[0mouts\u001b[0m \u001b[0;34m=\u001b[0m \u001b[0mf\u001b[0m\u001b[0;34m(\u001b[0m\u001b[0mins_batch\u001b[0m\u001b[0;34m)\u001b[0m\u001b[0;34m\u001b[0m\u001b[0;34m\u001b[0m\u001b[0m\n\u001b[0m\u001b[1;32m    200\u001b[0m                 \u001b[0mouts\u001b[0m \u001b[0;34m=\u001b[0m \u001b[0mto_list\u001b[0m\u001b[0;34m(\u001b[0m\u001b[0mouts\u001b[0m\u001b[0;34m)\u001b[0m\u001b[0;34m\u001b[0m\u001b[0;34m\u001b[0m\u001b[0m\n\u001b[1;32m    201\u001b[0m                 \u001b[0;32mfor\u001b[0m \u001b[0ml\u001b[0m\u001b[0;34m,\u001b[0m \u001b[0mo\u001b[0m \u001b[0;32min\u001b[0m \u001b[0mzip\u001b[0m\u001b[0;34m(\u001b[0m\u001b[0mout_labels\u001b[0m\u001b[0;34m,\u001b[0m \u001b[0mouts\u001b[0m\u001b[0;34m)\u001b[0m\u001b[0;34m:\u001b[0m\u001b[0;34m\u001b[0m\u001b[0;34m\u001b[0m\u001b[0m\n",
            "\u001b[0;32m/usr/local/lib/python3.6/dist-packages/keras/backend/tensorflow_backend.py\u001b[0m in \u001b[0;36m__call__\u001b[0;34m(self, inputs)\u001b[0m\n\u001b[1;32m   2713\u001b[0m                 \u001b[0;32mreturn\u001b[0m \u001b[0mself\u001b[0m\u001b[0;34m.\u001b[0m\u001b[0m_legacy_call\u001b[0m\u001b[0;34m(\u001b[0m\u001b[0minputs\u001b[0m\u001b[0;34m)\u001b[0m\u001b[0;34m\u001b[0m\u001b[0;34m\u001b[0m\u001b[0m\n\u001b[1;32m   2714\u001b[0m \u001b[0;34m\u001b[0m\u001b[0m\n\u001b[0;32m-> 2715\u001b[0;31m             \u001b[0;32mreturn\u001b[0m \u001b[0mself\u001b[0m\u001b[0;34m.\u001b[0m\u001b[0m_call\u001b[0m\u001b[0;34m(\u001b[0m\u001b[0minputs\u001b[0m\u001b[0;34m)\u001b[0m\u001b[0;34m\u001b[0m\u001b[0;34m\u001b[0m\u001b[0m\n\u001b[0m\u001b[1;32m   2716\u001b[0m         \u001b[0;32melse\u001b[0m\u001b[0;34m:\u001b[0m\u001b[0;34m\u001b[0m\u001b[0;34m\u001b[0m\u001b[0m\n\u001b[1;32m   2717\u001b[0m             \u001b[0;32mif\u001b[0m \u001b[0mpy_any\u001b[0m\u001b[0;34m(\u001b[0m\u001b[0mis_tensor\u001b[0m\u001b[0;34m(\u001b[0m\u001b[0mx\u001b[0m\u001b[0;34m)\u001b[0m \u001b[0;32mfor\u001b[0m \u001b[0mx\u001b[0m \u001b[0;32min\u001b[0m \u001b[0minputs\u001b[0m\u001b[0;34m)\u001b[0m\u001b[0;34m:\u001b[0m\u001b[0;34m\u001b[0m\u001b[0;34m\u001b[0m\u001b[0m\n",
            "\u001b[0;32m/usr/local/lib/python3.6/dist-packages/keras/backend/tensorflow_backend.py\u001b[0m in \u001b[0;36m_call\u001b[0;34m(self, inputs)\u001b[0m\n\u001b[1;32m   2673\u001b[0m             \u001b[0mfetched\u001b[0m \u001b[0;34m=\u001b[0m \u001b[0mself\u001b[0m\u001b[0;34m.\u001b[0m\u001b[0m_callable_fn\u001b[0m\u001b[0;34m(\u001b[0m\u001b[0;34m*\u001b[0m\u001b[0marray_vals\u001b[0m\u001b[0;34m,\u001b[0m \u001b[0mrun_metadata\u001b[0m\u001b[0;34m=\u001b[0m\u001b[0mself\u001b[0m\u001b[0;34m.\u001b[0m\u001b[0mrun_metadata\u001b[0m\u001b[0;34m)\u001b[0m\u001b[0;34m\u001b[0m\u001b[0;34m\u001b[0m\u001b[0m\n\u001b[1;32m   2674\u001b[0m         \u001b[0;32melse\u001b[0m\u001b[0;34m:\u001b[0m\u001b[0;34m\u001b[0m\u001b[0;34m\u001b[0m\u001b[0m\n\u001b[0;32m-> 2675\u001b[0;31m             \u001b[0mfetched\u001b[0m \u001b[0;34m=\u001b[0m \u001b[0mself\u001b[0m\u001b[0;34m.\u001b[0m\u001b[0m_callable_fn\u001b[0m\u001b[0;34m(\u001b[0m\u001b[0;34m*\u001b[0m\u001b[0marray_vals\u001b[0m\u001b[0;34m)\u001b[0m\u001b[0;34m\u001b[0m\u001b[0;34m\u001b[0m\u001b[0m\n\u001b[0m\u001b[1;32m   2676\u001b[0m         \u001b[0;32mreturn\u001b[0m \u001b[0mfetched\u001b[0m\u001b[0;34m[\u001b[0m\u001b[0;34m:\u001b[0m\u001b[0mlen\u001b[0m\u001b[0;34m(\u001b[0m\u001b[0mself\u001b[0m\u001b[0;34m.\u001b[0m\u001b[0moutputs\u001b[0m\u001b[0;34m)\u001b[0m\u001b[0;34m]\u001b[0m\u001b[0;34m\u001b[0m\u001b[0;34m\u001b[0m\u001b[0m\n\u001b[1;32m   2677\u001b[0m \u001b[0;34m\u001b[0m\u001b[0m\n",
            "\u001b[0;32m/usr/local/lib/python3.6/dist-packages/tensorflow/python/client/session.py\u001b[0m in \u001b[0;36m__call__\u001b[0;34m(self, *args, **kwargs)\u001b[0m\n\u001b[1;32m   1437\u001b[0m           ret = tf_session.TF_SessionRunCallable(\n\u001b[1;32m   1438\u001b[0m               \u001b[0mself\u001b[0m\u001b[0;34m.\u001b[0m\u001b[0m_session\u001b[0m\u001b[0;34m.\u001b[0m\u001b[0m_session\u001b[0m\u001b[0;34m,\u001b[0m \u001b[0mself\u001b[0m\u001b[0;34m.\u001b[0m\u001b[0m_handle\u001b[0m\u001b[0;34m,\u001b[0m \u001b[0margs\u001b[0m\u001b[0;34m,\u001b[0m \u001b[0mstatus\u001b[0m\u001b[0;34m,\u001b[0m\u001b[0;34m\u001b[0m\u001b[0;34m\u001b[0m\u001b[0m\n\u001b[0;32m-> 1439\u001b[0;31m               run_metadata_ptr)\n\u001b[0m\u001b[1;32m   1440\u001b[0m         \u001b[0;32mif\u001b[0m \u001b[0mrun_metadata\u001b[0m\u001b[0;34m:\u001b[0m\u001b[0;34m\u001b[0m\u001b[0;34m\u001b[0m\u001b[0m\n\u001b[1;32m   1441\u001b[0m           \u001b[0mproto_data\u001b[0m \u001b[0;34m=\u001b[0m \u001b[0mtf_session\u001b[0m\u001b[0;34m.\u001b[0m\u001b[0mTF_GetBuffer\u001b[0m\u001b[0;34m(\u001b[0m\u001b[0mrun_metadata_ptr\u001b[0m\u001b[0;34m)\u001b[0m\u001b[0;34m\u001b[0m\u001b[0;34m\u001b[0m\u001b[0m\n",
            "\u001b[0;31mKeyboardInterrupt\u001b[0m: "
          ]
        }
      ]
    },
    {
      "cell_type": "code",
      "metadata": {
        "id": "pV1aAqD-xxD9",
        "colab_type": "code",
        "outputId": "6642d7a4-387c-4fa3-981c-27b4b614b91f",
        "colab": {
          "base_uri": "https://localhost:8080/",
          "height": 72
        }
      },
      "source": [
        "score = model_nor.evaluate(X_test, Y_test, verbose=1)\n",
        "print('Test loss:', score[0])\n",
        "print('Test accuracy:', score[1])"
      ],
      "execution_count": 0,
      "outputs": [
        {
          "output_type": "stream",
          "text": [
            "10000/10000 [==============================] - 49s 5ms/step\n",
            "Test loss: 2.1683026433944703\n",
            "Test accuracy: 0.4816\n"
          ],
          "name": "stdout"
        }
      ]
    },
    {
      "cell_type": "code",
      "metadata": {
        "id": "xKRL3yNhQ0ZS",
        "colab_type": "code",
        "outputId": "d5687f34-5059-4735-a02b-7320d66c42d1",
        "colab": {
          "base_uri": "https://localhost:8080/",
          "height": 860
        }
      },
      "source": [
        "model_nor.fit(X_train, Y_train,\n",
        "          batch_size=128,\n",
        "          nb_epoch=15,\n",
        "          validation_data=(X_test, Y_test),\n",
        "          shuffle=True,\n",
        "          callbacks = callbacks_list)"
      ],
      "execution_count": 0,
      "outputs": [
        {
          "output_type": "stream",
          "text": [
            "/usr/local/lib/python3.6/dist-packages/ipykernel_launcher.py:6: UserWarning: The `nb_epoch` argument in `fit` has been renamed `epochs`.\n",
            "  \n"
          ],
          "name": "stderr"
        },
        {
          "output_type": "stream",
          "text": [
            "Train on 100000 samples, validate on 10000 samples\n",
            "Epoch 1/15\n",
            "100000/100000 [==============================] - 1857s 19ms/step - loss: 1.8815 - acc: 0.5482 - val_loss: 2.1649 - val_acc: 0.4816\n",
            "\n",
            "Epoch 00001: val_acc improved from 0.48120 to 0.48160, saving model to /content/drive/My Drive/ass4/_Blocks2_inb_IMGAUG_nor64_48_32aug2_noAug_final:001-acc:0.548-val_acc:0.482.hdf5\n",
            "Epoch 2/15\n",
            " 17024/100000 [====>.........................] - ETA: 24:55 - loss: 1.8688 - acc: 0.5468"
          ],
          "name": "stdout"
        }
      ]
    },
    {
      "cell_type": "code",
      "metadata": {
        "id": "c6hy6_ZxXLqb",
        "colab_type": "code",
        "outputId": "e4edbc97-569e-49cd-8735-d76f7aa99d71",
        "colab": {
          "base_uri": "https://localhost:8080/",
          "height": 139
        }
      },
      "source": [
        "## loading model from previous checkpoint\n",
        "\n",
        "from keras.models import load_model\n",
        "import tensorflow as tf\n",
        "model_nor = load_model('/content/drive/My Drive/ass4/_Blocks2_inb_IMGAUG_nor64_48_32aug2_noAug_final:001-acc:0.548-val_acc:0.482.hdf5',custom_objects={'tf': tf})\n"
      ],
      "execution_count": 0,
      "outputs": [
        {
          "output_type": "stream",
          "text": [
            "WARNING:tensorflow:From /usr/local/lib/python3.6/dist-packages/tensorflow/python/framework/op_def_library.py:263: colocate_with (from tensorflow.python.framework.ops) is deprecated and will be removed in a future version.\n",
            "Instructions for updating:\n",
            "Colocations handled automatically by placer.\n",
            "WARNING:tensorflow:From /usr/local/lib/python3.6/dist-packages/tensorflow/python/ops/math_ops.py:3066: to_int32 (from tensorflow.python.ops.math_ops) is deprecated and will be removed in a future version.\n",
            "Instructions for updating:\n",
            "Use tf.cast instead.\n"
          ],
          "name": "stdout"
        }
      ]
    },
    {
      "cell_type": "code",
      "metadata": {
        "id": "64Ek99PkwQRO",
        "colab_type": "code",
        "outputId": "5b63639d-d411-4d22-b8e3-478e79285f99",
        "colab": {
          "base_uri": "https://localhost:8080/",
          "height": 1055
        }
      },
      "source": [
        "from keras.callbacks import ModelCheckpoint\n",
        "from clr_callback import *\n",
        "filepath=\"/content/drive/My Drive/ass4/_After_final:{epoch:03d}-acc:{acc:.3f}-val_acc:{val_acc:.3f}.hdf5\"\n",
        "checkpoint = ModelCheckpoint(filepath, monitor='val_acc', verbose=1, save_best_only=True, mode='max', period=3)\n",
        "clr_triangular = CyclicLR(mode='triangular')\n",
        "callbacks_list = [checkpoint, clr_triangular]\n",
        "\n",
        "epochs = 20\n",
        "\n",
        "model_nor.fit(X_train, Y_train,\n",
        "          batch_size=128,\n",
        "          nb_epoch=epochs,\n",
        "          validation_data=(X_test, Y_test),\n",
        "          shuffle=True,\n",
        "          callbacks = callbacks_list)\n"
      ],
      "execution_count": 0,
      "outputs": [
        {
          "output_type": "stream",
          "text": [
            "/usr/local/lib/python3.6/dist-packages/ipykernel_launcher.py:15: UserWarning: The `nb_epoch` argument in `fit` has been renamed `epochs`.\n",
            "  from ipykernel import kernelapp as app\n"
          ],
          "name": "stderr"
        },
        {
          "output_type": "stream",
          "text": [
            "Train on 100000 samples, validate on 10000 samples\n",
            "Epoch 1/20\n",
            "100000/100000 [==============================] - 2069s 21ms/step - loss: 1.8759 - acc: 0.5492 - val_loss: 2.1602 - val_acc: 0.4825\n",
            "Epoch 2/20\n",
            "100000/100000 [==============================] - 2043s 20ms/step - loss: 1.8703 - acc: 0.5505 - val_loss: 2.1547 - val_acc: 0.4810\n",
            "Epoch 3/20\n",
            "100000/100000 [==============================] - 2069s 21ms/step - loss: 1.8608 - acc: 0.5519 - val_loss: 2.1491 - val_acc: 0.4840\n",
            "\n",
            "Epoch 00003: val_acc improved from -inf to 0.48400, saving model to /content/drive/My Drive/ass4/_After_final:003-acc:0.552-val_acc:0.484.hdf5\n",
            "Epoch 4/20\n",
            "100000/100000 [==============================] - 2071s 21ms/step - loss: 1.8488 - acc: 0.5544 - val_loss: 2.1419 - val_acc: 0.4858\n",
            "Epoch 5/20\n",
            "100000/100000 [==============================] - 2067s 21ms/step - loss: 1.8410 - acc: 0.5559 - val_loss: 2.1367 - val_acc: 0.4877\n",
            "Epoch 6/20\n",
            "100000/100000 [==============================] - 2054s 21ms/step - loss: 1.8359 - acc: 0.5561 - val_loss: 2.1359 - val_acc: 0.4871\n",
            "\n",
            "Epoch 00006: val_acc improved from 0.48400 to 0.48710, saving model to /content/drive/My Drive/ass4/_After_final:006-acc:0.556-val_acc:0.487.hdf5\n",
            "Epoch 7/20\n",
            "100000/100000 [==============================] - 2058s 21ms/step - loss: 1.8342 - acc: 0.5569 - val_loss: 2.1347 - val_acc: 0.4889\n",
            "Epoch 8/20\n",
            "100000/100000 [==============================] - 2057s 21ms/step - loss: 1.8305 - acc: 0.5581 - val_loss: 2.1328 - val_acc: 0.4865\n",
            "Epoch 9/20\n",
            "100000/100000 [==============================] - 2055s 21ms/step - loss: 1.8217 - acc: 0.5598 - val_loss: 2.1271 - val_acc: 0.4902\n",
            "\n",
            "Epoch 00009: val_acc improved from 0.48710 to 0.49020, saving model to /content/drive/My Drive/ass4/_After_final:009-acc:0.560-val_acc:0.490.hdf5\n",
            "Epoch 10/20\n",
            "100000/100000 [==============================] - 2056s 21ms/step - loss: 1.8131 - acc: 0.5610 - val_loss: 2.1227 - val_acc: 0.4883\n",
            "Epoch 11/20\n",
            "100000/100000 [==============================] - 2059s 21ms/step - loss: 1.8086 - acc: 0.5621 - val_loss: 2.1232 - val_acc: 0.4882\n",
            "Epoch 12/20\n",
            "100000/100000 [==============================] - 2060s 21ms/step - loss: 1.8081 - acc: 0.5623 - val_loss: 2.1242 - val_acc: 0.4877\n",
            "\n",
            "Epoch 00012: val_acc did not improve from 0.49020\n",
            "Epoch 13/20\n",
            "100000/100000 [==============================] - 2059s 21ms/step - loss: 1.8061 - acc: 0.5620 - val_loss: 2.1234 - val_acc: 0.4904\n",
            "Epoch 14/20\n",
            "100000/100000 [==============================] - 2068s 21ms/step - loss: 1.8023 - acc: 0.5643 - val_loss: 2.1153 - val_acc: 0.4914\n",
            "Epoch 15/20\n",
            "100000/100000 [==============================] - 2066s 21ms/step - loss: 1.7930 - acc: 0.5660 - val_loss: 2.1132 - val_acc: 0.4915\n",
            "\n",
            "Epoch 00015: val_acc improved from 0.49020 to 0.49150, saving model to /content/drive/My Drive/ass4/_After_final:015-acc:0.566-val_acc:0.491.hdf5\n",
            "Epoch 16/20\n",
            "100000/100000 [==============================] - 2065s 21ms/step - loss: 1.7895 - acc: 0.5664 - val_loss: 2.1135 - val_acc: 0.4909\n",
            "Epoch 17/20\n",
            "100000/100000 [==============================] - 2064s 21ms/step - loss: 1.7887 - acc: 0.5666 - val_loss: 2.1134 - val_acc: 0.4901\n",
            "Epoch 18/20\n",
            "100000/100000 [==============================] - 2064s 21ms/step - loss: 1.7894 - acc: 0.5672 - val_loss: 2.1117 - val_acc: 0.4897\n",
            "\n",
            "Epoch 00018: val_acc did not improve from 0.49150\n",
            "Epoch 19/20\n",
            "100000/100000 [==============================] - 2062s 21ms/step - loss: 1.7844 - acc: 0.5669 - val_loss: 2.1088 - val_acc: 0.4920\n",
            "Epoch 20/20\n",
            "100000/100000 [==============================] - 2065s 21ms/step - loss: 1.7777 - acc: 0.5682 - val_loss: 2.1039 - val_acc: 0.4918\n"
          ],
          "name": "stdout"
        },
        {
          "output_type": "execute_result",
          "data": {
            "text/plain": [
              "<keras.callbacks.History at 0x7f70b4c25898>"
            ]
          },
          "metadata": {
            "tags": []
          },
          "execution_count": 18
        }
      ]
    },
    {
      "cell_type": "code",
      "metadata": {
        "id": "jiwkKsnMbd56",
        "colab_type": "code",
        "outputId": "a96b8f5e-f8b7-4851-984a-b338a94a9272",
        "colab": {
          "base_uri": "https://localhost:8080/",
          "height": 151
        }
      },
      "source": [
        "## Loading model from previous checkpoint\n",
        "#  content/drive/My Drive/ass4/_After_final2:009-acc:0.570-val_acc:0.492.hdf5\n",
        "from keras.models import load_model\n",
        "import tensorflow as tf\n",
        "model_aug = load_model('/content/drive/My Drive/ass4/_After_final:015-acc:0.566-val_acc:0.491.hdf5',custom_objects={'tf': tf})\n"
      ],
      "execution_count": 0,
      "outputs": [
        {
          "output_type": "stream",
          "text": [
            "WARNING:tensorflow:From /usr/local/lib/python3.6/dist-packages/tensorflow/python/framework/op_def_library.py:263: colocate_with (from tensorflow.python.framework.ops) is deprecated and will be removed in a future version.\n",
            "Instructions for updating:\n",
            "Colocations handled automatically by placer.\n",
            "WARNING:tensorflow:From /usr/local/lib/python3.6/dist-packages/tensorflow/python/ops/math_ops.py:3066: to_int32 (from tensorflow.python.ops.math_ops) is deprecated and will be removed in a future version.\n",
            "Instructions for updating:\n",
            "Use tf.cast instead.\n"
          ],
          "name": "stdout"
        }
      ]
    },
    {
      "cell_type": "code",
      "metadata": {
        "id": "iYTS5vReb3N4",
        "colab_type": "code",
        "outputId": "8ae14f46-abbb-44e1-e65f-4b9e4c5603a5",
        "colab": {
          "base_uri": "https://localhost:8080/",
          "height": 90
        }
      },
      "source": [
        "print(X_train.shape)\n",
        "print(Y_train.shape)\n",
        "print(X_test.shape)\n",
        "print(Y_test.shape)"
      ],
      "execution_count": 0,
      "outputs": [
        {
          "output_type": "stream",
          "text": [
            "(100000, 64, 64, 3)\n",
            "(100000, 200)\n",
            "(10000, 64, 64, 3)\n",
            "(10000, 200)\n"
          ],
          "name": "stdout"
        }
      ]
    },
    {
      "cell_type": "code",
      "metadata": {
        "id": "a9s40QmRb9NP",
        "colab_type": "code",
        "outputId": "0f3f5217-5ab9-48db-aa09-9a579d2813dd",
        "colab": {
          "base_uri": "https://localhost:8080/",
          "height": 72
        }
      },
      "source": [
        "score = model_aug.evaluate(X_test, Y_test, verbose=1)\n",
        "print('Test loss:', score[0])\n",
        "print('Test accuracy:', score[1])"
      ],
      "execution_count": 0,
      "outputs": [
        {
          "output_type": "stream",
          "text": [
            "10000/10000 [==============================] - 52s 5ms/step\n",
            "Test loss: 2.113161389923096\n",
            "Test accuracy: 0.4914\n"
          ],
          "name": "stdout"
        }
      ]
    },
    {
      "cell_type": "code",
      "metadata": {
        "id": "t1K9DPErSOcu",
        "colab_type": "code",
        "outputId": "8aaa97cf-2fc3-41ea-ab22-3be2434c6f93",
        "colab": {
          "base_uri": "https://localhost:8080/",
          "height": 1005
        }
      },
      "source": [
        "from keras.callbacks import ModelCheckpoint\n",
        "from clr_callback import *\n",
        "filepath=\"/content/drive/My Drive/ass4/_After_final2:{epoch:03d}-acc:{acc:.3f}-val_acc:{val_acc:.3f}.hdf5\"\n",
        "checkpoint = ModelCheckpoint(filepath, monitor='val_acc', verbose=1, save_best_only=True, mode='max', period=3)\n",
        "clr_triangular = CyclicLR(mode='triangular')\n",
        "callbacks_list = [checkpoint, clr_triangular]\n",
        "\n",
        "epochs = 21\n",
        "\n",
        "model_aug.fit(X_train, Y_train,\n",
        "          batch_size=128,\n",
        "          nb_epoch=epochs,\n",
        "          validation_data=(X_test, Y_test),\n",
        "          shuffle=True,\n",
        "          callbacks = callbacks_list)\n"
      ],
      "execution_count": 0,
      "outputs": [
        {
          "output_type": "stream",
          "text": [
            "/usr/local/lib/python3.6/dist-packages/ipykernel_launcher.py:15: UserWarning: The `nb_epoch` argument in `fit` has been renamed `epochs`.\n",
            "  from ipykernel import kernelapp as app\n"
          ],
          "name": "stderr"
        },
        {
          "output_type": "stream",
          "text": [
            "Train on 100000 samples, validate on 10000 samples\n",
            "Epoch 1/21\n",
            "100000/100000 [==============================] - 1784s 18ms/step - loss: 1.7888 - acc: 0.5672 - val_loss: 2.1134 - val_acc: 0.4893\n",
            "Epoch 2/21\n",
            "100000/100000 [==============================] - 1760s 18ms/step - loss: 1.7888 - acc: 0.5666 - val_loss: 2.1152 - val_acc: 0.4890\n",
            "Epoch 3/21\n",
            "100000/100000 [==============================] - 1762s 18ms/step - loss: 1.7869 - acc: 0.5652 - val_loss: 2.1115 - val_acc: 0.4913\n",
            "\n",
            "Epoch 00003: val_acc improved from -inf to 0.49130, saving model to /content/drive/My Drive/ass4/_After_final2:003-acc:0.565-val_acc:0.491.hdf5\n",
            "Epoch 4/21\n",
            "100000/100000 [==============================] - 1763s 18ms/step - loss: 1.7822 - acc: 0.5671 - val_loss: 2.1072 - val_acc: 0.4903\n",
            "Epoch 5/21\n",
            "100000/100000 [==============================] - 1761s 18ms/step - loss: 1.7743 - acc: 0.5690 - val_loss: 2.1043 - val_acc: 0.4912\n",
            "Epoch 6/21\n",
            "100000/100000 [==============================] - 1767s 18ms/step - loss: 1.7711 - acc: 0.5706 - val_loss: 2.1068 - val_acc: 0.4911\n",
            "\n",
            "Epoch 00006: val_acc did not improve from 0.49130\n",
            "Epoch 7/21\n",
            "100000/100000 [==============================] - 1767s 18ms/step - loss: 1.7728 - acc: 0.5705 - val_loss: 2.1057 - val_acc: 0.4914\n",
            "Epoch 8/21\n",
            "100000/100000 [==============================] - 1765s 18ms/step - loss: 1.7706 - acc: 0.5699 - val_loss: 2.1027 - val_acc: 0.4917\n",
            "Epoch 9/21\n",
            "100000/100000 [==============================] - 1765s 18ms/step - loss: 1.7660 - acc: 0.5700 - val_loss: 2.1006 - val_acc: 0.4925\n",
            "\n",
            "Epoch 00009: val_acc improved from 0.49130 to 0.49250, saving model to /content/drive/My Drive/ass4/_After_final2:009-acc:0.570-val_acc:0.492.hdf5\n",
            "Epoch 10/21\n",
            "100000/100000 [==============================] - 1763s 18ms/step - loss: 1.7613 - acc: 0.5728 - val_loss: 2.0985 - val_acc: 0.4944\n",
            "Epoch 11/21\n",
            "100000/100000 [==============================] - 1761s 18ms/step - loss: 1.7565 - acc: 0.5725 - val_loss: 2.0987 - val_acc: 0.4932\n",
            "Epoch 12/21\n",
            " 89344/100000 [=========================>....] - ETA: 3:03 - loss: 1.7546 - acc: 0.5731"
          ],
          "name": "stdout"
        }
      ]
    },
    {
      "cell_type": "markdown",
      "metadata": {
        "id": "DwqOS7eUuQBz",
        "colab_type": "text"
      },
      "source": [
        "## After Submission"
      ]
    },
    {
      "cell_type": "code",
      "metadata": {
        "id": "rP1I2XEeuAX3",
        "colab_type": "code",
        "outputId": "317ba591-99db-4332-f4b2-8958cf3281f4",
        "colab": {
          "base_uri": "https://localhost:8080/",
          "height": 930
        }
      },
      "source": [
        "## Loading model from previous checkpoint \n",
        "from keras.models import load_model\n",
        "import tensorflow as tf\n",
        "model_aug = load_model('/content/drive/My Drive/ass4/_After_final2:009-acc:0.570-val_acc:0.492.hdf5',custom_objects={'tf': tf})\n",
        "\n",
        "\n",
        "score = model_aug.evaluate(X_test, Y_test, verbose=1)\n",
        "print('Test loss:', score[0])\n",
        "print('Test accuracy:', score[1])"
      ],
      "execution_count": 0,
      "outputs": [
        {
          "output_type": "stream",
          "text": [
            "WARNING:tensorflow:From /usr/local/lib/python3.6/dist-packages/tensorflow/python/framework/op_def_library.py:263: colocate_with (from tensorflow.python.framework.ops) is deprecated and will be removed in a future version.\n",
            "Instructions for updating:\n",
            "Colocations handled automatically by placer.\n",
            "WARNING:tensorflow:From /usr/local/lib/python3.6/dist-packages/tensorflow/python/ops/math_ops.py:3066: to_int32 (from tensorflow.python.ops.math_ops) is deprecated and will be removed in a future version.\n",
            "Instructions for updating:\n",
            "Use tf.cast instead.\n",
            "10000/10000 [==============================] - 52s 5ms/step\n",
            "Test loss: 2.1005806678771974\n",
            "Test accuracy: 0.4925\n"
          ],
          "name": "stdout"
        }
      ]
    },
    {
      "cell_type": "code",
      "metadata": {
        "id": "93YXXSW2SSE5",
        "colab_type": "code",
        "outputId": "b61e37ab-8057-4e54-c451-13b1d7ec75b2",
        "colab": {
          "base_uri": "https://localhost:8080/",
          "height": 1005
        }
      },
      "source": [
        "from keras.callbacks import ModelCheckpoint\n",
        "from clr_callback import *\n",
        "filepath=\"/content/drive/My Drive/ass4/_After_final3:{epoch:03d}-acc:{acc:.3f}-val_acc:{val_acc:.3f}.hdf5\"\n",
        "checkpoint = ModelCheckpoint(filepath, monitor='val_acc', verbose=1, save_best_only=True, mode='max')\n",
        "clr_triangular = CyclicLR(mode='triangular')\n",
        "callbacks_list = [checkpoint, clr_triangular]\n",
        "\n",
        "epochs = 21\n",
        "\n",
        "model_aug.fit(X_train, Y_train,\n",
        "          batch_size=128,\n",
        "          nb_epoch=epochs,\n",
        "          validation_data=(X_test, Y_test),\n",
        "          shuffle=True,\n",
        "          callbacks = callbacks_list)\n"
      ],
      "execution_count": 0,
      "outputs": [
        {
          "output_type": "stream",
          "text": [
            "/usr/local/lib/python3.6/dist-packages/ipykernel_launcher.py:15: UserWarning: The `nb_epoch` argument in `fit` has been renamed `epochs`.\n",
            "  from ipykernel import kernelapp as app\n"
          ],
          "name": "stderr"
        },
        {
          "output_type": "stream",
          "text": [
            "Train on 100000 samples, validate on 10000 samples\n",
            "Epoch 1/21\n",
            "100000/100000 [==============================] - 1771s 18ms/step - loss: 1.7604 - acc: 0.5725 - val_loss: 2.1001 - val_acc: 0.4933\n",
            "\n",
            "Epoch 00001: val_acc improved from -inf to 0.49330, saving model to /content/drive/My Drive/ass4/_After_final3:001-acc:0.573-val_acc:0.493.hdf5\n",
            "Epoch 2/21\n",
            "100000/100000 [==============================] - 1755s 18ms/step - loss: 1.7606 - acc: 0.5718 - val_loss: 2.1003 - val_acc: 0.4926\n",
            "\n",
            "Epoch 00002: val_acc did not improve from 0.49330\n",
            "Epoch 3/21\n",
            "100000/100000 [==============================] - 1751s 18ms/step - loss: 1.7585 - acc: 0.5723 - val_loss: 2.0965 - val_acc: 0.4946\n",
            "\n",
            "Epoch 00003: val_acc improved from 0.49330 to 0.49460, saving model to /content/drive/My Drive/ass4/_After_final3:003-acc:0.572-val_acc:0.495.hdf5\n",
            "Epoch 4/21\n",
            "100000/100000 [==============================] - 1766s 18ms/step - loss: 1.7548 - acc: 0.5718 - val_loss: 2.0946 - val_acc: 0.4941\n",
            "\n",
            "Epoch 00004: val_acc did not improve from 0.49460\n",
            "Epoch 5/21\n",
            "100000/100000 [==============================] - 1761s 18ms/step - loss: 1.7483 - acc: 0.5753 - val_loss: 2.0929 - val_acc: 0.4940\n",
            "\n",
            "Epoch 00005: val_acc did not improve from 0.49460\n",
            "Epoch 6/21\n",
            "100000/100000 [==============================] - 1753s 18ms/step - loss: 1.7450 - acc: 0.5749 - val_loss: 2.0924 - val_acc: 0.4946\n",
            "\n",
            "Epoch 00006: val_acc did not improve from 0.49460\n",
            "Epoch 7/21\n",
            " 48768/100000 [=============>................] - ETA: 14:32 - loss: 1.7440 - acc: 0.5769"
          ],
          "name": "stdout"
        }
      ]
    }
  ]
}